{
 "cells": [
  {
   "cell_type": "markdown",
   "id": "d26cf949",
   "metadata": {},
   "source": [
    "# 1. Introduction \n",
    "\n",
    "___\n",
    "\n",
    "Milestone 2\n",
    "\n",
    "Nama: Dwi Adhi Widigda Kartomihardjo\n",
    "\n",
    "Batch: FTDS-27\n",
    "\n",
    "Program ini dibuat untuk melakukan mengevaluasi pembelajaran fase 1 Hacktiv8 Fulltime Data Science.\n",
    "\n",
    "___"
   ]
  },
  {
   "cell_type": "markdown",
   "id": "aab0bf88",
   "metadata": {},
   "source": [
    "## Dataset\n",
    "\n",
    "Dataset yang digunakan untuk analisis ini diambil dari Used-car-catalog. Dataset ini terdiri dari 38532 baris dan 30 kolom. Dataset bisa di melalui link ini https://www.kaggle.com/datasets/lepchenkov/usedcarscatalog/data."
   ]
  },
  {
   "cell_type": "markdown",
   "id": "7083d4f8",
   "metadata": {},
   "source": [
    "## Latar Belakang\n",
    "\n",
    "Di Belarus, pasar mobil bekas cukup banyak peminatnya selain itu juga karena daya beli masyarakat menurun orang lebih memili membeli mobil bekas. Untuk menentukan harga mobil bekas untuk orang yang tidak mengerti mobil sulit karena tidak ada patokan nya. Saya sebagai data analyst akan membuat model untuk memprediksi harga mobil bekas untuk mempermudah orang-orang yang ingin menjual atau membeli mobil"
   ]
  },
  {
   "cell_type": "markdown",
   "id": "0cecfa7b",
   "metadata": {},
   "source": [
    "## Problem Statement\n",
    "\n",
    "Saya sebagai data analyst akan membuat model regresi untuk memprediksi harga jual mobil bekas. Sasaran nya adalah untuk mencapai nilai RMSE lebih kecil dari 1500 dollar dan nilai R2 sebesar 0.85 saat test data nya. Saya akan menggunakan 39000 baris data mobil bekas dari kaggle dan waktu analisis ini dikerjakan selama 2 minggu."
   ]
  },
  {
   "cell_type": "markdown",
   "id": "e901a100",
   "metadata": {},
   "source": [
    "## Objektif\n",
    "\n",
    "Tujuan dari projek ini adalah untuk membuat model yang dapat memprediksi harga mobil bekas"
   ]
  },
  {
   "cell_type": "markdown",
   "id": "df715e58",
   "metadata": {},
   "source": [
    "# 2. Import Libraries"
   ]
  },
  {
   "cell_type": "code",
   "execution_count": 2,
   "id": "086c35e8",
   "metadata": {},
   "outputs": [],
   "source": [
    "import pandas as pd\n",
    "import numpy as np\n",
    "import plotly_express as px\n",
    "import pickle\n",
    "import matplotlib.pyplot as plt\n",
    "import matplotlib.ticker as ticker\n",
    "import seaborn as sns\n",
    "from sklearn.model_selection import train_test_split, cross_val_score, RandomizedSearchCV\n",
    "from feature_engine.outliers import Winsorizer\n",
    "from sklearn.preprocessing import OneHotEncoder,StandardScaler\n",
    "from sklearn.metrics import root_mean_squared_error\n",
    "from sklearn.preprocessing import StandardScaler\n",
    "from sklearn.compose import ColumnTransformer, make_column_selector as selector\n",
    "from sklearn.pipeline import Pipeline\n",
    "from sklearn.neighbors import KNeighborsRegressor\n",
    "from sklearn.svm import SVR\n",
    "from sklearn.tree import DecisionTreeRegressor\n",
    "from sklearn.ensemble import RandomForestRegressor\n",
    "from xgboost import XGBRegressor"
   ]
  },
  {
   "cell_type": "markdown",
   "id": "abd4f936",
   "metadata": {},
   "source": [
    "Program ini menggunakan libraries dari pandas, numpy, plotly_express, scipy, sklearn, matplotlib, seaborn, feature_engine, dan statsmodels."
   ]
  },
  {
   "cell_type": "markdown",
   "id": "13df856f",
   "metadata": {},
   "source": [
    "# 3. Data Loading"
   ]
  },
  {
   "cell_type": "code",
   "execution_count": 3,
   "id": "955046d3",
   "metadata": {},
   "outputs": [
    {
     "data": {
      "text/html": [
       "<div>\n",
       "<style scoped>\n",
       "    .dataframe tbody tr th:only-of-type {\n",
       "        vertical-align: middle;\n",
       "    }\n",
       "\n",
       "    .dataframe tbody tr th {\n",
       "        vertical-align: top;\n",
       "    }\n",
       "\n",
       "    .dataframe thead th {\n",
       "        text-align: right;\n",
       "    }\n",
       "</style>\n",
       "<table border=\"1\" class=\"dataframe\">\n",
       "  <thead>\n",
       "    <tr style=\"text-align: right;\">\n",
       "      <th></th>\n",
       "      <th>manufacturer_name</th>\n",
       "      <th>model_name</th>\n",
       "      <th>transmission</th>\n",
       "      <th>color</th>\n",
       "      <th>odometer_value</th>\n",
       "      <th>year_produced</th>\n",
       "      <th>engine_fuel</th>\n",
       "      <th>engine_has_gas</th>\n",
       "      <th>engine_type</th>\n",
       "      <th>engine_capacity</th>\n",
       "      <th>...</th>\n",
       "      <th>feature_1</th>\n",
       "      <th>feature_2</th>\n",
       "      <th>feature_3</th>\n",
       "      <th>feature_4</th>\n",
       "      <th>feature_5</th>\n",
       "      <th>feature_6</th>\n",
       "      <th>feature_7</th>\n",
       "      <th>feature_8</th>\n",
       "      <th>feature_9</th>\n",
       "      <th>duration_listed</th>\n",
       "    </tr>\n",
       "  </thead>\n",
       "  <tbody>\n",
       "    <tr>\n",
       "      <th>0</th>\n",
       "      <td>Subaru</td>\n",
       "      <td>Outback</td>\n",
       "      <td>automatic</td>\n",
       "      <td>silver</td>\n",
       "      <td>190000</td>\n",
       "      <td>2010</td>\n",
       "      <td>gasoline</td>\n",
       "      <td>False</td>\n",
       "      <td>gasoline</td>\n",
       "      <td>2.5</td>\n",
       "      <td>...</td>\n",
       "      <td>True</td>\n",
       "      <td>True</td>\n",
       "      <td>True</td>\n",
       "      <td>False</td>\n",
       "      <td>True</td>\n",
       "      <td>False</td>\n",
       "      <td>True</td>\n",
       "      <td>True</td>\n",
       "      <td>True</td>\n",
       "      <td>16</td>\n",
       "    </tr>\n",
       "    <tr>\n",
       "      <th>1</th>\n",
       "      <td>Subaru</td>\n",
       "      <td>Outback</td>\n",
       "      <td>automatic</td>\n",
       "      <td>blue</td>\n",
       "      <td>290000</td>\n",
       "      <td>2002</td>\n",
       "      <td>gasoline</td>\n",
       "      <td>False</td>\n",
       "      <td>gasoline</td>\n",
       "      <td>3.0</td>\n",
       "      <td>...</td>\n",
       "      <td>True</td>\n",
       "      <td>False</td>\n",
       "      <td>False</td>\n",
       "      <td>True</td>\n",
       "      <td>True</td>\n",
       "      <td>False</td>\n",
       "      <td>False</td>\n",
       "      <td>False</td>\n",
       "      <td>True</td>\n",
       "      <td>83</td>\n",
       "    </tr>\n",
       "    <tr>\n",
       "      <th>2</th>\n",
       "      <td>Subaru</td>\n",
       "      <td>Forester</td>\n",
       "      <td>automatic</td>\n",
       "      <td>red</td>\n",
       "      <td>402000</td>\n",
       "      <td>2001</td>\n",
       "      <td>gasoline</td>\n",
       "      <td>False</td>\n",
       "      <td>gasoline</td>\n",
       "      <td>2.5</td>\n",
       "      <td>...</td>\n",
       "      <td>True</td>\n",
       "      <td>False</td>\n",
       "      <td>False</td>\n",
       "      <td>False</td>\n",
       "      <td>False</td>\n",
       "      <td>False</td>\n",
       "      <td>False</td>\n",
       "      <td>True</td>\n",
       "      <td>True</td>\n",
       "      <td>151</td>\n",
       "    </tr>\n",
       "    <tr>\n",
       "      <th>3</th>\n",
       "      <td>Subaru</td>\n",
       "      <td>Impreza</td>\n",
       "      <td>mechanical</td>\n",
       "      <td>blue</td>\n",
       "      <td>10000</td>\n",
       "      <td>1999</td>\n",
       "      <td>gasoline</td>\n",
       "      <td>False</td>\n",
       "      <td>gasoline</td>\n",
       "      <td>3.0</td>\n",
       "      <td>...</td>\n",
       "      <td>False</td>\n",
       "      <td>False</td>\n",
       "      <td>False</td>\n",
       "      <td>False</td>\n",
       "      <td>False</td>\n",
       "      <td>False</td>\n",
       "      <td>False</td>\n",
       "      <td>False</td>\n",
       "      <td>False</td>\n",
       "      <td>86</td>\n",
       "    </tr>\n",
       "    <tr>\n",
       "      <th>4</th>\n",
       "      <td>Subaru</td>\n",
       "      <td>Legacy</td>\n",
       "      <td>automatic</td>\n",
       "      <td>black</td>\n",
       "      <td>280000</td>\n",
       "      <td>2001</td>\n",
       "      <td>gasoline</td>\n",
       "      <td>False</td>\n",
       "      <td>gasoline</td>\n",
       "      <td>2.5</td>\n",
       "      <td>...</td>\n",
       "      <td>True</td>\n",
       "      <td>False</td>\n",
       "      <td>True</td>\n",
       "      <td>True</td>\n",
       "      <td>False</td>\n",
       "      <td>False</td>\n",
       "      <td>False</td>\n",
       "      <td>False</td>\n",
       "      <td>True</td>\n",
       "      <td>7</td>\n",
       "    </tr>\n",
       "    <tr>\n",
       "      <th>...</th>\n",
       "      <td>...</td>\n",
       "      <td>...</td>\n",
       "      <td>...</td>\n",
       "      <td>...</td>\n",
       "      <td>...</td>\n",
       "      <td>...</td>\n",
       "      <td>...</td>\n",
       "      <td>...</td>\n",
       "      <td>...</td>\n",
       "      <td>...</td>\n",
       "      <td>...</td>\n",
       "      <td>...</td>\n",
       "      <td>...</td>\n",
       "      <td>...</td>\n",
       "      <td>...</td>\n",
       "      <td>...</td>\n",
       "      <td>...</td>\n",
       "      <td>...</td>\n",
       "      <td>...</td>\n",
       "      <td>...</td>\n",
       "      <td>...</td>\n",
       "    </tr>\n",
       "    <tr>\n",
       "      <th>38526</th>\n",
       "      <td>Chrysler</td>\n",
       "      <td>300</td>\n",
       "      <td>automatic</td>\n",
       "      <td>silver</td>\n",
       "      <td>290000</td>\n",
       "      <td>2000</td>\n",
       "      <td>gasoline</td>\n",
       "      <td>False</td>\n",
       "      <td>gasoline</td>\n",
       "      <td>3.5</td>\n",
       "      <td>...</td>\n",
       "      <td>True</td>\n",
       "      <td>False</td>\n",
       "      <td>False</td>\n",
       "      <td>True</td>\n",
       "      <td>True</td>\n",
       "      <td>False</td>\n",
       "      <td>False</td>\n",
       "      <td>True</td>\n",
       "      <td>True</td>\n",
       "      <td>301</td>\n",
       "    </tr>\n",
       "    <tr>\n",
       "      <th>38527</th>\n",
       "      <td>Chrysler</td>\n",
       "      <td>PT Cruiser</td>\n",
       "      <td>mechanical</td>\n",
       "      <td>blue</td>\n",
       "      <td>321000</td>\n",
       "      <td>2004</td>\n",
       "      <td>diesel</td>\n",
       "      <td>False</td>\n",
       "      <td>diesel</td>\n",
       "      <td>2.2</td>\n",
       "      <td>...</td>\n",
       "      <td>True</td>\n",
       "      <td>False</td>\n",
       "      <td>False</td>\n",
       "      <td>True</td>\n",
       "      <td>True</td>\n",
       "      <td>False</td>\n",
       "      <td>False</td>\n",
       "      <td>True</td>\n",
       "      <td>True</td>\n",
       "      <td>317</td>\n",
       "    </tr>\n",
       "    <tr>\n",
       "      <th>38528</th>\n",
       "      <td>Chrysler</td>\n",
       "      <td>300</td>\n",
       "      <td>automatic</td>\n",
       "      <td>blue</td>\n",
       "      <td>777957</td>\n",
       "      <td>2000</td>\n",
       "      <td>gasoline</td>\n",
       "      <td>False</td>\n",
       "      <td>gasoline</td>\n",
       "      <td>3.5</td>\n",
       "      <td>...</td>\n",
       "      <td>True</td>\n",
       "      <td>False</td>\n",
       "      <td>False</td>\n",
       "      <td>True</td>\n",
       "      <td>True</td>\n",
       "      <td>False</td>\n",
       "      <td>False</td>\n",
       "      <td>True</td>\n",
       "      <td>True</td>\n",
       "      <td>369</td>\n",
       "    </tr>\n",
       "    <tr>\n",
       "      <th>38529</th>\n",
       "      <td>Chrysler</td>\n",
       "      <td>PT Cruiser</td>\n",
       "      <td>mechanical</td>\n",
       "      <td>black</td>\n",
       "      <td>20000</td>\n",
       "      <td>2001</td>\n",
       "      <td>gasoline</td>\n",
       "      <td>False</td>\n",
       "      <td>gasoline</td>\n",
       "      <td>2.0</td>\n",
       "      <td>...</td>\n",
       "      <td>True</td>\n",
       "      <td>False</td>\n",
       "      <td>False</td>\n",
       "      <td>False</td>\n",
       "      <td>False</td>\n",
       "      <td>False</td>\n",
       "      <td>False</td>\n",
       "      <td>False</td>\n",
       "      <td>True</td>\n",
       "      <td>490</td>\n",
       "    </tr>\n",
       "    <tr>\n",
       "      <th>38530</th>\n",
       "      <td>Chrysler</td>\n",
       "      <td>Voyager</td>\n",
       "      <td>automatic</td>\n",
       "      <td>silver</td>\n",
       "      <td>297729</td>\n",
       "      <td>2000</td>\n",
       "      <td>gasoline</td>\n",
       "      <td>False</td>\n",
       "      <td>gasoline</td>\n",
       "      <td>2.4</td>\n",
       "      <td>...</td>\n",
       "      <td>False</td>\n",
       "      <td>False</td>\n",
       "      <td>False</td>\n",
       "      <td>False</td>\n",
       "      <td>False</td>\n",
       "      <td>False</td>\n",
       "      <td>False</td>\n",
       "      <td>False</td>\n",
       "      <td>True</td>\n",
       "      <td>632</td>\n",
       "    </tr>\n",
       "  </tbody>\n",
       "</table>\n",
       "<p>38531 rows × 30 columns</p>\n",
       "</div>"
      ],
      "text/plain": [
       "      manufacturer_name  model_name transmission   color  odometer_value  \\\n",
       "0                Subaru     Outback    automatic  silver          190000   \n",
       "1                Subaru     Outback    automatic    blue          290000   \n",
       "2                Subaru    Forester    automatic     red          402000   \n",
       "3                Subaru     Impreza   mechanical    blue           10000   \n",
       "4                Subaru      Legacy    automatic   black          280000   \n",
       "...                 ...         ...          ...     ...             ...   \n",
       "38526          Chrysler         300    automatic  silver          290000   \n",
       "38527          Chrysler  PT Cruiser   mechanical    blue          321000   \n",
       "38528          Chrysler         300    automatic    blue          777957   \n",
       "38529          Chrysler  PT Cruiser   mechanical   black           20000   \n",
       "38530          Chrysler     Voyager    automatic  silver          297729   \n",
       "\n",
       "       year_produced engine_fuel  engine_has_gas engine_type  engine_capacity  \\\n",
       "0               2010    gasoline           False    gasoline              2.5   \n",
       "1               2002    gasoline           False    gasoline              3.0   \n",
       "2               2001    gasoline           False    gasoline              2.5   \n",
       "3               1999    gasoline           False    gasoline              3.0   \n",
       "4               2001    gasoline           False    gasoline              2.5   \n",
       "...              ...         ...             ...         ...              ...   \n",
       "38526           2000    gasoline           False    gasoline              3.5   \n",
       "38527           2004      diesel           False      diesel              2.2   \n",
       "38528           2000    gasoline           False    gasoline              3.5   \n",
       "38529           2001    gasoline           False    gasoline              2.0   \n",
       "38530           2000    gasoline           False    gasoline              2.4   \n",
       "\n",
       "       ... feature_1  feature_2 feature_3 feature_4  feature_5  feature_6  \\\n",
       "0      ...      True       True      True     False       True      False   \n",
       "1      ...      True      False     False      True       True      False   \n",
       "2      ...      True      False     False     False      False      False   \n",
       "3      ...     False      False     False     False      False      False   \n",
       "4      ...      True      False      True      True      False      False   \n",
       "...    ...       ...        ...       ...       ...        ...        ...   \n",
       "38526  ...      True      False     False      True       True      False   \n",
       "38527  ...      True      False     False      True       True      False   \n",
       "38528  ...      True      False     False      True       True      False   \n",
       "38529  ...      True      False     False     False      False      False   \n",
       "38530  ...     False      False     False     False      False      False   \n",
       "\n",
       "      feature_7  feature_8  feature_9  duration_listed  \n",
       "0          True       True       True               16  \n",
       "1         False      False       True               83  \n",
       "2         False       True       True              151  \n",
       "3         False      False      False               86  \n",
       "4         False      False       True                7  \n",
       "...         ...        ...        ...              ...  \n",
       "38526     False       True       True              301  \n",
       "38527     False       True       True              317  \n",
       "38528     False       True       True              369  \n",
       "38529     False      False       True              490  \n",
       "38530     False      False       True              632  \n",
       "\n",
       "[38531 rows x 30 columns]"
      ]
     },
     "execution_count": 3,
     "metadata": {},
     "output_type": "execute_result"
    }
   ],
   "source": [
    "data = pd.read_csv('cars.csv')\n",
    "data"
   ]
  },
  {
   "cell_type": "code",
   "execution_count": 5,
   "id": "3628c1b3",
   "metadata": {},
   "outputs": [
    {
     "data": {
      "text/html": [
       "<div>\n",
       "<style scoped>\n",
       "    .dataframe tbody tr th:only-of-type {\n",
       "        vertical-align: middle;\n",
       "    }\n",
       "\n",
       "    .dataframe tbody tr th {\n",
       "        vertical-align: top;\n",
       "    }\n",
       "\n",
       "    .dataframe thead th {\n",
       "        text-align: right;\n",
       "    }\n",
       "</style>\n",
       "<table border=\"1\" class=\"dataframe\">\n",
       "  <thead>\n",
       "    <tr style=\"text-align: right;\">\n",
       "      <th></th>\n",
       "      <th>manufacturer_name</th>\n",
       "      <th>model_name</th>\n",
       "      <th>transmission</th>\n",
       "      <th>color</th>\n",
       "      <th>odometer_value</th>\n",
       "      <th>year_produced</th>\n",
       "      <th>engine_fuel</th>\n",
       "      <th>engine_has_gas</th>\n",
       "      <th>engine_type</th>\n",
       "      <th>engine_capacity</th>\n",
       "      <th>...</th>\n",
       "      <th>feature_1</th>\n",
       "      <th>feature_2</th>\n",
       "      <th>feature_3</th>\n",
       "      <th>feature_4</th>\n",
       "      <th>feature_5</th>\n",
       "      <th>feature_6</th>\n",
       "      <th>feature_7</th>\n",
       "      <th>feature_8</th>\n",
       "      <th>feature_9</th>\n",
       "      <th>duration_listed</th>\n",
       "    </tr>\n",
       "  </thead>\n",
       "  <tbody>\n",
       "    <tr>\n",
       "      <th>8230</th>\n",
       "      <td>ВАЗ</td>\n",
       "      <td>2105</td>\n",
       "      <td>mechanical</td>\n",
       "      <td>red</td>\n",
       "      <td>999999</td>\n",
       "      <td>1991</td>\n",
       "      <td>gasoline</td>\n",
       "      <td>False</td>\n",
       "      <td>gasoline</td>\n",
       "      <td>1.2</td>\n",
       "      <td>...</td>\n",
       "      <td>False</td>\n",
       "      <td>False</td>\n",
       "      <td>False</td>\n",
       "      <td>False</td>\n",
       "      <td>False</td>\n",
       "      <td>False</td>\n",
       "      <td>False</td>\n",
       "      <td>False</td>\n",
       "      <td>False</td>\n",
       "      <td>1</td>\n",
       "    </tr>\n",
       "    <tr>\n",
       "      <th>8770</th>\n",
       "      <td>Fiat</td>\n",
       "      <td>Palio</td>\n",
       "      <td>mechanical</td>\n",
       "      <td>red</td>\n",
       "      <td>260000</td>\n",
       "      <td>1998</td>\n",
       "      <td>gasoline</td>\n",
       "      <td>False</td>\n",
       "      <td>gasoline</td>\n",
       "      <td>1.6</td>\n",
       "      <td>...</td>\n",
       "      <td>False</td>\n",
       "      <td>False</td>\n",
       "      <td>False</td>\n",
       "      <td>False</td>\n",
       "      <td>False</td>\n",
       "      <td>False</td>\n",
       "      <td>False</td>\n",
       "      <td>False</td>\n",
       "      <td>False</td>\n",
       "      <td>2</td>\n",
       "    </tr>\n",
       "    <tr>\n",
       "      <th>16406</th>\n",
       "      <td>Volkswagen</td>\n",
       "      <td>T4 Caravelle</td>\n",
       "      <td>mechanical</td>\n",
       "      <td>white</td>\n",
       "      <td>1</td>\n",
       "      <td>1995</td>\n",
       "      <td>diesel</td>\n",
       "      <td>False</td>\n",
       "      <td>diesel</td>\n",
       "      <td>2.4</td>\n",
       "      <td>...</td>\n",
       "      <td>False</td>\n",
       "      <td>False</td>\n",
       "      <td>False</td>\n",
       "      <td>False</td>\n",
       "      <td>False</td>\n",
       "      <td>False</td>\n",
       "      <td>False</td>\n",
       "      <td>False</td>\n",
       "      <td>False</td>\n",
       "      <td>3</td>\n",
       "    </tr>\n",
       "    <tr>\n",
       "      <th>30149</th>\n",
       "      <td>Mazda</td>\n",
       "      <td>626</td>\n",
       "      <td>mechanical</td>\n",
       "      <td>black</td>\n",
       "      <td>300000</td>\n",
       "      <td>1987</td>\n",
       "      <td>gasoline</td>\n",
       "      <td>False</td>\n",
       "      <td>gasoline</td>\n",
       "      <td>2.0</td>\n",
       "      <td>...</td>\n",
       "      <td>False</td>\n",
       "      <td>False</td>\n",
       "      <td>False</td>\n",
       "      <td>False</td>\n",
       "      <td>False</td>\n",
       "      <td>False</td>\n",
       "      <td>False</td>\n",
       "      <td>False</td>\n",
       "      <td>True</td>\n",
       "      <td>0</td>\n",
       "    </tr>\n",
       "    <tr>\n",
       "      <th>36634</th>\n",
       "      <td>Peugeot</td>\n",
       "      <td>406</td>\n",
       "      <td>mechanical</td>\n",
       "      <td>blue</td>\n",
       "      <td>200000</td>\n",
       "      <td>1997</td>\n",
       "      <td>gasoline</td>\n",
       "      <td>False</td>\n",
       "      <td>gasoline</td>\n",
       "      <td>1.6</td>\n",
       "      <td>...</td>\n",
       "      <td>False</td>\n",
       "      <td>False</td>\n",
       "      <td>False</td>\n",
       "      <td>False</td>\n",
       "      <td>False</td>\n",
       "      <td>False</td>\n",
       "      <td>False</td>\n",
       "      <td>False</td>\n",
       "      <td>False</td>\n",
       "      <td>1</td>\n",
       "    </tr>\n",
       "  </tbody>\n",
       "</table>\n",
       "<p>5 rows × 30 columns</p>\n",
       "</div>"
      ],
      "text/plain": [
       "      manufacturer_name    model_name transmission  color  odometer_value  \\\n",
       "8230                ВАЗ          2105   mechanical    red          999999   \n",
       "8770               Fiat         Palio   mechanical    red          260000   \n",
       "16406        Volkswagen  T4 Caravelle   mechanical  white               1   \n",
       "30149             Mazda           626   mechanical  black          300000   \n",
       "36634           Peugeot           406   mechanical   blue          200000   \n",
       "\n",
       "       year_produced engine_fuel  engine_has_gas engine_type  engine_capacity  \\\n",
       "8230            1991    gasoline           False    gasoline              1.2   \n",
       "8770            1998    gasoline           False    gasoline              1.6   \n",
       "16406           1995      diesel           False      diesel              2.4   \n",
       "30149           1987    gasoline           False    gasoline              2.0   \n",
       "36634           1997    gasoline           False    gasoline              1.6   \n",
       "\n",
       "       ... feature_1  feature_2 feature_3 feature_4  feature_5  feature_6  \\\n",
       "8230   ...     False      False     False     False      False      False   \n",
       "8770   ...     False      False     False     False      False      False   \n",
       "16406  ...     False      False     False     False      False      False   \n",
       "30149  ...     False      False     False     False      False      False   \n",
       "36634  ...     False      False     False     False      False      False   \n",
       "\n",
       "      feature_7  feature_8  feature_9  duration_listed  \n",
       "8230      False      False      False                1  \n",
       "8770      False      False      False                2  \n",
       "16406     False      False      False                3  \n",
       "30149     False      False       True                0  \n",
       "36634     False      False      False                1  \n",
       "\n",
       "[5 rows x 30 columns]"
      ]
     },
     "execution_count": 5,
     "metadata": {},
     "output_type": "execute_result"
    }
   ],
   "source": [
    "data.loc[data['price_usd'] == 1]"
   ]
  },
  {
   "cell_type": "code",
   "execution_count": 3,
   "id": "8ad031ed",
   "metadata": {},
   "outputs": [
    {
     "data": {
      "text/plain": [
       "(38531, 30)"
      ]
     },
     "execution_count": 3,
     "metadata": {},
     "output_type": "execute_result"
    }
   ],
   "source": [
    "data.shape"
   ]
  },
  {
   "cell_type": "markdown",
   "id": "1fd2af30",
   "metadata": {},
   "source": [
    "Dataset ini terdiri dari 38531 baris dan 30 kolom"
   ]
  },
  {
   "cell_type": "code",
   "execution_count": 4,
   "id": "aaec0f35",
   "metadata": {},
   "outputs": [
    {
     "name": "stdout",
     "output_type": "stream",
     "text": [
      "<class 'pandas.core.frame.DataFrame'>\n",
      "RangeIndex: 38531 entries, 0 to 38530\n",
      "Data columns (total 30 columns):\n",
      " #   Column             Non-Null Count  Dtype  \n",
      "---  ------             --------------  -----  \n",
      " 0   manufacturer_name  38531 non-null  object \n",
      " 1   model_name         38531 non-null  object \n",
      " 2   transmission       38531 non-null  object \n",
      " 3   color              38531 non-null  object \n",
      " 4   odometer_value     38531 non-null  int64  \n",
      " 5   year_produced      38531 non-null  int64  \n",
      " 6   engine_fuel        38531 non-null  object \n",
      " 7   engine_has_gas     38531 non-null  bool   \n",
      " 8   engine_type        38531 non-null  object \n",
      " 9   engine_capacity    38521 non-null  float64\n",
      " 10  body_type          38531 non-null  object \n",
      " 11  has_warranty       38531 non-null  bool   \n",
      " 12  state              38531 non-null  object \n",
      " 13  drivetrain         38531 non-null  object \n",
      " 14  price_usd          38531 non-null  float64\n",
      " 15  is_exchangeable    38531 non-null  bool   \n",
      " 16  location_region    38531 non-null  object \n",
      " 17  number_of_photos   38531 non-null  int64  \n",
      " 18  up_counter         38531 non-null  int64  \n",
      " 19  feature_0          38531 non-null  bool   \n",
      " 20  feature_1          38531 non-null  bool   \n",
      " 21  feature_2          38531 non-null  bool   \n",
      " 22  feature_3          38531 non-null  bool   \n",
      " 23  feature_4          38531 non-null  bool   \n",
      " 24  feature_5          38531 non-null  bool   \n",
      " 25  feature_6          38531 non-null  bool   \n",
      " 26  feature_7          38531 non-null  bool   \n",
      " 27  feature_8          38531 non-null  bool   \n",
      " 28  feature_9          38531 non-null  bool   \n",
      " 29  duration_listed    38531 non-null  int64  \n",
      "dtypes: bool(13), float64(2), int64(5), object(10)\n",
      "memory usage: 5.5+ MB\n"
     ]
    }
   ],
   "source": [
    "data.info()"
   ]
  },
  {
   "cell_type": "markdown",
   "id": "8519fc44",
   "metadata": {},
   "source": [
    "Keterangan setiap kolom ini adalah:\n",
    "\n",
    "* manumanufacturer_name: Nama manufaktur mobil\n",
    "* model_name: Nama model mobil\n",
    "* transmission: Tipe kopling\n",
    "* color: Warna mobil\n",
    "* odometer_value: Status odometer dalam kilometer\n",
    "* year_produced: Tahun mobil dibuat\n",
    "* engine_fuel: Tipe bensin mobil\n",
    "* engine_has_gas: Apakah mobil ada bensin?\n",
    "* engine_type: Tipe mesin mobil\n",
    "* engine_capacity: Kapasitas mesin dalam liter\n",
    "* body_type: Jenis bentuk mobil\n",
    "* has_warranty: Apakah mobil ada asuransi?\n",
    "* state: Status mobil\n",
    "* drivetrain: Sistem transmisi mobil\n",
    "* price_usd: Harga mobil dalam USD\n",
    "* is_exchangable: Apakah mobil siap di beli\n",
    "* location_region: Lokasi mobil di jual\n",
    "* number_of_photos: Jumlah banyak nya foto mobil\n",
    "* up_counter: Jumlah berapa mobil di promosikan\n",
    "* feature_1 to feature_9: Data dummy\n",
    "* duration_listed: Berapa lama mobil di katalog\n",
    "\n",
    "\n",
    "Dari summary informasi ini dataset terdiri dari:\n",
    "\n",
    "* 13 tipe data bool\n",
    "* 10 tipe data object\n",
    "* 5 tipe data int64\n",
    "* 2 tipe data float64\n",
    "\n",
    "Terdapat missing value di kolom engine_capacity "
   ]
  },
  {
   "cell_type": "code",
   "execution_count": 5,
   "id": "e8bca809",
   "metadata": {},
   "outputs": [
    {
     "data": {
      "text/plain": [
       "np.int64(40)"
      ]
     },
     "execution_count": 5,
     "metadata": {},
     "output_type": "execute_result"
    }
   ],
   "source": [
    "data.duplicated().sum()"
   ]
  },
  {
   "cell_type": "code",
   "execution_count": 6,
   "id": "971f8f3f",
   "metadata": {},
   "outputs": [
    {
     "data": {
      "text/html": [
       "<div>\n",
       "<style scoped>\n",
       "    .dataframe tbody tr th:only-of-type {\n",
       "        vertical-align: middle;\n",
       "    }\n",
       "\n",
       "    .dataframe tbody tr th {\n",
       "        vertical-align: top;\n",
       "    }\n",
       "\n",
       "    .dataframe thead th {\n",
       "        text-align: right;\n",
       "    }\n",
       "</style>\n",
       "<table border=\"1\" class=\"dataframe\">\n",
       "  <thead>\n",
       "    <tr style=\"text-align: right;\">\n",
       "      <th></th>\n",
       "      <th>manufacturer_name</th>\n",
       "      <th>model_name</th>\n",
       "      <th>transmission</th>\n",
       "      <th>color</th>\n",
       "      <th>odometer_value</th>\n",
       "      <th>year_produced</th>\n",
       "      <th>engine_fuel</th>\n",
       "      <th>engine_has_gas</th>\n",
       "      <th>engine_type</th>\n",
       "      <th>engine_capacity</th>\n",
       "      <th>...</th>\n",
       "      <th>feature_1</th>\n",
       "      <th>feature_2</th>\n",
       "      <th>feature_3</th>\n",
       "      <th>feature_4</th>\n",
       "      <th>feature_5</th>\n",
       "      <th>feature_6</th>\n",
       "      <th>feature_7</th>\n",
       "      <th>feature_8</th>\n",
       "      <th>feature_9</th>\n",
       "      <th>duration_listed</th>\n",
       "    </tr>\n",
       "  </thead>\n",
       "  <tbody>\n",
       "    <tr>\n",
       "      <th>5767</th>\n",
       "      <td>Mitsubishi</td>\n",
       "      <td>Lancer</td>\n",
       "      <td>automatic</td>\n",
       "      <td>black</td>\n",
       "      <td>250000</td>\n",
       "      <td>2003</td>\n",
       "      <td>gasoline</td>\n",
       "      <td>False</td>\n",
       "      <td>gasoline</td>\n",
       "      <td>2.0</td>\n",
       "      <td>...</td>\n",
       "      <td>True</td>\n",
       "      <td>False</td>\n",
       "      <td>False</td>\n",
       "      <td>False</td>\n",
       "      <td>False</td>\n",
       "      <td>False</td>\n",
       "      <td>False</td>\n",
       "      <td>False</td>\n",
       "      <td>False</td>\n",
       "      <td>50</td>\n",
       "    </tr>\n",
       "    <tr>\n",
       "      <th>6556</th>\n",
       "      <td>Citroen</td>\n",
       "      <td>Xantia</td>\n",
       "      <td>mechanical</td>\n",
       "      <td>silver</td>\n",
       "      <td>520000</td>\n",
       "      <td>1998</td>\n",
       "      <td>diesel</td>\n",
       "      <td>False</td>\n",
       "      <td>diesel</td>\n",
       "      <td>2.1</td>\n",
       "      <td>...</td>\n",
       "      <td>True</td>\n",
       "      <td>False</td>\n",
       "      <td>False</td>\n",
       "      <td>False</td>\n",
       "      <td>False</td>\n",
       "      <td>False</td>\n",
       "      <td>False</td>\n",
       "      <td>False</td>\n",
       "      <td>False</td>\n",
       "      <td>16</td>\n",
       "    </tr>\n",
       "    <tr>\n",
       "      <th>9996</th>\n",
       "      <td>Ford</td>\n",
       "      <td>Scorpio</td>\n",
       "      <td>mechanical</td>\n",
       "      <td>yellow</td>\n",
       "      <td>55555</td>\n",
       "      <td>1995</td>\n",
       "      <td>gasoline</td>\n",
       "      <td>False</td>\n",
       "      <td>gasoline</td>\n",
       "      <td>2.0</td>\n",
       "      <td>...</td>\n",
       "      <td>False</td>\n",
       "      <td>False</td>\n",
       "      <td>False</td>\n",
       "      <td>False</td>\n",
       "      <td>False</td>\n",
       "      <td>False</td>\n",
       "      <td>False</td>\n",
       "      <td>False</td>\n",
       "      <td>False</td>\n",
       "      <td>1</td>\n",
       "    </tr>\n",
       "    <tr>\n",
       "      <th>11380</th>\n",
       "      <td>Ford</td>\n",
       "      <td>Transit</td>\n",
       "      <td>mechanical</td>\n",
       "      <td>grey</td>\n",
       "      <td>700000</td>\n",
       "      <td>2005</td>\n",
       "      <td>diesel</td>\n",
       "      <td>False</td>\n",
       "      <td>diesel</td>\n",
       "      <td>2.4</td>\n",
       "      <td>...</td>\n",
       "      <td>False</td>\n",
       "      <td>False</td>\n",
       "      <td>False</td>\n",
       "      <td>False</td>\n",
       "      <td>False</td>\n",
       "      <td>False</td>\n",
       "      <td>False</td>\n",
       "      <td>False</td>\n",
       "      <td>False</td>\n",
       "      <td>60</td>\n",
       "    </tr>\n",
       "    <tr>\n",
       "      <th>11704</th>\n",
       "      <td>Ford</td>\n",
       "      <td>Mondeo</td>\n",
       "      <td>mechanical</td>\n",
       "      <td>green</td>\n",
       "      <td>380000</td>\n",
       "      <td>1998</td>\n",
       "      <td>diesel</td>\n",
       "      <td>False</td>\n",
       "      <td>diesel</td>\n",
       "      <td>1.8</td>\n",
       "      <td>...</td>\n",
       "      <td>False</td>\n",
       "      <td>False</td>\n",
       "      <td>False</td>\n",
       "      <td>False</td>\n",
       "      <td>True</td>\n",
       "      <td>False</td>\n",
       "      <td>False</td>\n",
       "      <td>True</td>\n",
       "      <td>True</td>\n",
       "      <td>67</td>\n",
       "    </tr>\n",
       "    <tr>\n",
       "      <th>12810</th>\n",
       "      <td>Renault</td>\n",
       "      <td>19</td>\n",
       "      <td>mechanical</td>\n",
       "      <td>blue</td>\n",
       "      <td>99999</td>\n",
       "      <td>1992</td>\n",
       "      <td>gasoline</td>\n",
       "      <td>False</td>\n",
       "      <td>gasoline</td>\n",
       "      <td>1.7</td>\n",
       "      <td>...</td>\n",
       "      <td>False</td>\n",
       "      <td>False</td>\n",
       "      <td>False</td>\n",
       "      <td>False</td>\n",
       "      <td>False</td>\n",
       "      <td>False</td>\n",
       "      <td>False</td>\n",
       "      <td>False</td>\n",
       "      <td>False</td>\n",
       "      <td>3</td>\n",
       "    </tr>\n",
       "    <tr>\n",
       "      <th>17338</th>\n",
       "      <td>Volkswagen</td>\n",
       "      <td>Touareg</td>\n",
       "      <td>automatic</td>\n",
       "      <td>grey</td>\n",
       "      <td>337400</td>\n",
       "      <td>2008</td>\n",
       "      <td>diesel</td>\n",
       "      <td>False</td>\n",
       "      <td>diesel</td>\n",
       "      <td>2.5</td>\n",
       "      <td>...</td>\n",
       "      <td>True</td>\n",
       "      <td>True</td>\n",
       "      <td>False</td>\n",
       "      <td>False</td>\n",
       "      <td>True</td>\n",
       "      <td>False</td>\n",
       "      <td>False</td>\n",
       "      <td>True</td>\n",
       "      <td>True</td>\n",
       "      <td>11</td>\n",
       "    </tr>\n",
       "    <tr>\n",
       "      <th>18184</th>\n",
       "      <td>Volkswagen</td>\n",
       "      <td>Passat</td>\n",
       "      <td>mechanical</td>\n",
       "      <td>black</td>\n",
       "      <td>157000</td>\n",
       "      <td>2008</td>\n",
       "      <td>gasoline</td>\n",
       "      <td>False</td>\n",
       "      <td>gasoline</td>\n",
       "      <td>1.8</td>\n",
       "      <td>...</td>\n",
       "      <td>True</td>\n",
       "      <td>True</td>\n",
       "      <td>True</td>\n",
       "      <td>True</td>\n",
       "      <td>True</td>\n",
       "      <td>False</td>\n",
       "      <td>True</td>\n",
       "      <td>True</td>\n",
       "      <td>True</td>\n",
       "      <td>42</td>\n",
       "    </tr>\n",
       "    <tr>\n",
       "      <th>31993</th>\n",
       "      <td>Skoda</td>\n",
       "      <td>Rapid</td>\n",
       "      <td>automatic</td>\n",
       "      <td>silver</td>\n",
       "      <td>0</td>\n",
       "      <td>2019</td>\n",
       "      <td>gasoline</td>\n",
       "      <td>False</td>\n",
       "      <td>gasoline</td>\n",
       "      <td>1.6</td>\n",
       "      <td>...</td>\n",
       "      <td>False</td>\n",
       "      <td>False</td>\n",
       "      <td>False</td>\n",
       "      <td>False</td>\n",
       "      <td>False</td>\n",
       "      <td>False</td>\n",
       "      <td>False</td>\n",
       "      <td>False</td>\n",
       "      <td>False</td>\n",
       "      <td>3</td>\n",
       "    </tr>\n",
       "    <tr>\n",
       "      <th>32017</th>\n",
       "      <td>Skoda</td>\n",
       "      <td>Rapid</td>\n",
       "      <td>mechanical</td>\n",
       "      <td>blue</td>\n",
       "      <td>0</td>\n",
       "      <td>2019</td>\n",
       "      <td>gasoline</td>\n",
       "      <td>False</td>\n",
       "      <td>gasoline</td>\n",
       "      <td>1.6</td>\n",
       "      <td>...</td>\n",
       "      <td>False</td>\n",
       "      <td>False</td>\n",
       "      <td>False</td>\n",
       "      <td>False</td>\n",
       "      <td>False</td>\n",
       "      <td>False</td>\n",
       "      <td>False</td>\n",
       "      <td>False</td>\n",
       "      <td>False</td>\n",
       "      <td>3</td>\n",
       "    </tr>\n",
       "    <tr>\n",
       "      <th>32018</th>\n",
       "      <td>Skoda</td>\n",
       "      <td>Rapid</td>\n",
       "      <td>mechanical</td>\n",
       "      <td>blue</td>\n",
       "      <td>0</td>\n",
       "      <td>2019</td>\n",
       "      <td>gasoline</td>\n",
       "      <td>False</td>\n",
       "      <td>gasoline</td>\n",
       "      <td>1.6</td>\n",
       "      <td>...</td>\n",
       "      <td>False</td>\n",
       "      <td>False</td>\n",
       "      <td>False</td>\n",
       "      <td>False</td>\n",
       "      <td>False</td>\n",
       "      <td>False</td>\n",
       "      <td>False</td>\n",
       "      <td>False</td>\n",
       "      <td>False</td>\n",
       "      <td>3</td>\n",
       "    </tr>\n",
       "    <tr>\n",
       "      <th>32022</th>\n",
       "      <td>Skoda</td>\n",
       "      <td>Rapid</td>\n",
       "      <td>mechanical</td>\n",
       "      <td>black</td>\n",
       "      <td>0</td>\n",
       "      <td>2019</td>\n",
       "      <td>gasoline</td>\n",
       "      <td>False</td>\n",
       "      <td>gasoline</td>\n",
       "      <td>1.6</td>\n",
       "      <td>...</td>\n",
       "      <td>False</td>\n",
       "      <td>False</td>\n",
       "      <td>False</td>\n",
       "      <td>False</td>\n",
       "      <td>False</td>\n",
       "      <td>False</td>\n",
       "      <td>False</td>\n",
       "      <td>False</td>\n",
       "      <td>False</td>\n",
       "      <td>3</td>\n",
       "    </tr>\n",
       "    <tr>\n",
       "      <th>32025</th>\n",
       "      <td>Skoda</td>\n",
       "      <td>Rapid</td>\n",
       "      <td>mechanical</td>\n",
       "      <td>brown</td>\n",
       "      <td>0</td>\n",
       "      <td>2019</td>\n",
       "      <td>gasoline</td>\n",
       "      <td>False</td>\n",
       "      <td>gasoline</td>\n",
       "      <td>1.6</td>\n",
       "      <td>...</td>\n",
       "      <td>False</td>\n",
       "      <td>False</td>\n",
       "      <td>False</td>\n",
       "      <td>False</td>\n",
       "      <td>False</td>\n",
       "      <td>False</td>\n",
       "      <td>False</td>\n",
       "      <td>False</td>\n",
       "      <td>False</td>\n",
       "      <td>3</td>\n",
       "    </tr>\n",
       "    <tr>\n",
       "      <th>32028</th>\n",
       "      <td>Skoda</td>\n",
       "      <td>Rapid</td>\n",
       "      <td>mechanical</td>\n",
       "      <td>white</td>\n",
       "      <td>0</td>\n",
       "      <td>2019</td>\n",
       "      <td>gasoline</td>\n",
       "      <td>False</td>\n",
       "      <td>gasoline</td>\n",
       "      <td>1.6</td>\n",
       "      <td>...</td>\n",
       "      <td>False</td>\n",
       "      <td>False</td>\n",
       "      <td>False</td>\n",
       "      <td>False</td>\n",
       "      <td>False</td>\n",
       "      <td>False</td>\n",
       "      <td>False</td>\n",
       "      <td>False</td>\n",
       "      <td>False</td>\n",
       "      <td>3</td>\n",
       "    </tr>\n",
       "    <tr>\n",
       "      <th>32034</th>\n",
       "      <td>Skoda</td>\n",
       "      <td>Rapid</td>\n",
       "      <td>automatic</td>\n",
       "      <td>silver</td>\n",
       "      <td>0</td>\n",
       "      <td>2019</td>\n",
       "      <td>gasoline</td>\n",
       "      <td>False</td>\n",
       "      <td>gasoline</td>\n",
       "      <td>1.6</td>\n",
       "      <td>...</td>\n",
       "      <td>False</td>\n",
       "      <td>False</td>\n",
       "      <td>False</td>\n",
       "      <td>False</td>\n",
       "      <td>False</td>\n",
       "      <td>False</td>\n",
       "      <td>False</td>\n",
       "      <td>False</td>\n",
       "      <td>False</td>\n",
       "      <td>3</td>\n",
       "    </tr>\n",
       "    <tr>\n",
       "      <th>32036</th>\n",
       "      <td>Skoda</td>\n",
       "      <td>Rapid</td>\n",
       "      <td>automatic</td>\n",
       "      <td>other</td>\n",
       "      <td>0</td>\n",
       "      <td>2019</td>\n",
       "      <td>gasoline</td>\n",
       "      <td>False</td>\n",
       "      <td>gasoline</td>\n",
       "      <td>1.6</td>\n",
       "      <td>...</td>\n",
       "      <td>False</td>\n",
       "      <td>False</td>\n",
       "      <td>False</td>\n",
       "      <td>False</td>\n",
       "      <td>False</td>\n",
       "      <td>False</td>\n",
       "      <td>False</td>\n",
       "      <td>False</td>\n",
       "      <td>False</td>\n",
       "      <td>3</td>\n",
       "    </tr>\n",
       "    <tr>\n",
       "      <th>32053</th>\n",
       "      <td>Skoda</td>\n",
       "      <td>Rapid</td>\n",
       "      <td>mechanical</td>\n",
       "      <td>blue</td>\n",
       "      <td>0</td>\n",
       "      <td>2019</td>\n",
       "      <td>gasoline</td>\n",
       "      <td>False</td>\n",
       "      <td>gasoline</td>\n",
       "      <td>1.6</td>\n",
       "      <td>...</td>\n",
       "      <td>False</td>\n",
       "      <td>False</td>\n",
       "      <td>False</td>\n",
       "      <td>False</td>\n",
       "      <td>False</td>\n",
       "      <td>False</td>\n",
       "      <td>False</td>\n",
       "      <td>False</td>\n",
       "      <td>False</td>\n",
       "      <td>3</td>\n",
       "    </tr>\n",
       "    <tr>\n",
       "      <th>32126</th>\n",
       "      <td>Skoda</td>\n",
       "      <td>Octavia</td>\n",
       "      <td>mechanical</td>\n",
       "      <td>white</td>\n",
       "      <td>0</td>\n",
       "      <td>2019</td>\n",
       "      <td>gasoline</td>\n",
       "      <td>False</td>\n",
       "      <td>gasoline</td>\n",
       "      <td>1.4</td>\n",
       "      <td>...</td>\n",
       "      <td>False</td>\n",
       "      <td>False</td>\n",
       "      <td>False</td>\n",
       "      <td>False</td>\n",
       "      <td>False</td>\n",
       "      <td>False</td>\n",
       "      <td>False</td>\n",
       "      <td>False</td>\n",
       "      <td>False</td>\n",
       "      <td>26</td>\n",
       "    </tr>\n",
       "    <tr>\n",
       "      <th>32128</th>\n",
       "      <td>Skoda</td>\n",
       "      <td>Kodiaq</td>\n",
       "      <td>automatic</td>\n",
       "      <td>silver</td>\n",
       "      <td>0</td>\n",
       "      <td>2019</td>\n",
       "      <td>gasoline</td>\n",
       "      <td>False</td>\n",
       "      <td>gasoline</td>\n",
       "      <td>2.0</td>\n",
       "      <td>...</td>\n",
       "      <td>False</td>\n",
       "      <td>False</td>\n",
       "      <td>False</td>\n",
       "      <td>False</td>\n",
       "      <td>False</td>\n",
       "      <td>False</td>\n",
       "      <td>False</td>\n",
       "      <td>False</td>\n",
       "      <td>False</td>\n",
       "      <td>26</td>\n",
       "    </tr>\n",
       "    <tr>\n",
       "      <th>32179</th>\n",
       "      <td>Skoda</td>\n",
       "      <td>Rapid</td>\n",
       "      <td>mechanical</td>\n",
       "      <td>green</td>\n",
       "      <td>0</td>\n",
       "      <td>2019</td>\n",
       "      <td>gasoline</td>\n",
       "      <td>False</td>\n",
       "      <td>gasoline</td>\n",
       "      <td>1.6</td>\n",
       "      <td>...</td>\n",
       "      <td>False</td>\n",
       "      <td>False</td>\n",
       "      <td>False</td>\n",
       "      <td>False</td>\n",
       "      <td>False</td>\n",
       "      <td>False</td>\n",
       "      <td>False</td>\n",
       "      <td>False</td>\n",
       "      <td>False</td>\n",
       "      <td>26</td>\n",
       "    </tr>\n",
       "    <tr>\n",
       "      <th>32180</th>\n",
       "      <td>Skoda</td>\n",
       "      <td>Rapid</td>\n",
       "      <td>mechanical</td>\n",
       "      <td>green</td>\n",
       "      <td>0</td>\n",
       "      <td>2019</td>\n",
       "      <td>gasoline</td>\n",
       "      <td>False</td>\n",
       "      <td>gasoline</td>\n",
       "      <td>1.6</td>\n",
       "      <td>...</td>\n",
       "      <td>False</td>\n",
       "      <td>False</td>\n",
       "      <td>False</td>\n",
       "      <td>False</td>\n",
       "      <td>False</td>\n",
       "      <td>False</td>\n",
       "      <td>False</td>\n",
       "      <td>False</td>\n",
       "      <td>False</td>\n",
       "      <td>26</td>\n",
       "    </tr>\n",
       "    <tr>\n",
       "      <th>32295</th>\n",
       "      <td>Skoda</td>\n",
       "      <td>Rapid</td>\n",
       "      <td>mechanical</td>\n",
       "      <td>blue</td>\n",
       "      <td>0</td>\n",
       "      <td>2019</td>\n",
       "      <td>gasoline</td>\n",
       "      <td>False</td>\n",
       "      <td>gasoline</td>\n",
       "      <td>1.6</td>\n",
       "      <td>...</td>\n",
       "      <td>False</td>\n",
       "      <td>False</td>\n",
       "      <td>False</td>\n",
       "      <td>False</td>\n",
       "      <td>False</td>\n",
       "      <td>False</td>\n",
       "      <td>False</td>\n",
       "      <td>False</td>\n",
       "      <td>False</td>\n",
       "      <td>2</td>\n",
       "    </tr>\n",
       "    <tr>\n",
       "      <th>32296</th>\n",
       "      <td>Skoda</td>\n",
       "      <td>Rapid</td>\n",
       "      <td>mechanical</td>\n",
       "      <td>blue</td>\n",
       "      <td>0</td>\n",
       "      <td>2019</td>\n",
       "      <td>gasoline</td>\n",
       "      <td>False</td>\n",
       "      <td>gasoline</td>\n",
       "      <td>1.6</td>\n",
       "      <td>...</td>\n",
       "      <td>False</td>\n",
       "      <td>False</td>\n",
       "      <td>False</td>\n",
       "      <td>False</td>\n",
       "      <td>False</td>\n",
       "      <td>False</td>\n",
       "      <td>False</td>\n",
       "      <td>False</td>\n",
       "      <td>False</td>\n",
       "      <td>2</td>\n",
       "    </tr>\n",
       "    <tr>\n",
       "      <th>32298</th>\n",
       "      <td>Skoda</td>\n",
       "      <td>Rapid</td>\n",
       "      <td>mechanical</td>\n",
       "      <td>blue</td>\n",
       "      <td>0</td>\n",
       "      <td>2019</td>\n",
       "      <td>gasoline</td>\n",
       "      <td>False</td>\n",
       "      <td>gasoline</td>\n",
       "      <td>1.6</td>\n",
       "      <td>...</td>\n",
       "      <td>False</td>\n",
       "      <td>False</td>\n",
       "      <td>False</td>\n",
       "      <td>False</td>\n",
       "      <td>False</td>\n",
       "      <td>False</td>\n",
       "      <td>False</td>\n",
       "      <td>False</td>\n",
       "      <td>False</td>\n",
       "      <td>2</td>\n",
       "    </tr>\n",
       "    <tr>\n",
       "      <th>32299</th>\n",
       "      <td>Skoda</td>\n",
       "      <td>Rapid</td>\n",
       "      <td>mechanical</td>\n",
       "      <td>blue</td>\n",
       "      <td>0</td>\n",
       "      <td>2019</td>\n",
       "      <td>gasoline</td>\n",
       "      <td>False</td>\n",
       "      <td>gasoline</td>\n",
       "      <td>1.6</td>\n",
       "      <td>...</td>\n",
       "      <td>False</td>\n",
       "      <td>False</td>\n",
       "      <td>False</td>\n",
       "      <td>False</td>\n",
       "      <td>False</td>\n",
       "      <td>False</td>\n",
       "      <td>False</td>\n",
       "      <td>False</td>\n",
       "      <td>False</td>\n",
       "      <td>2</td>\n",
       "    </tr>\n",
       "    <tr>\n",
       "      <th>32301</th>\n",
       "      <td>Skoda</td>\n",
       "      <td>Rapid</td>\n",
       "      <td>mechanical</td>\n",
       "      <td>other</td>\n",
       "      <td>0</td>\n",
       "      <td>2019</td>\n",
       "      <td>gasoline</td>\n",
       "      <td>False</td>\n",
       "      <td>gasoline</td>\n",
       "      <td>1.6</td>\n",
       "      <td>...</td>\n",
       "      <td>False</td>\n",
       "      <td>False</td>\n",
       "      <td>False</td>\n",
       "      <td>False</td>\n",
       "      <td>False</td>\n",
       "      <td>False</td>\n",
       "      <td>False</td>\n",
       "      <td>False</td>\n",
       "      <td>False</td>\n",
       "      <td>2</td>\n",
       "    </tr>\n",
       "    <tr>\n",
       "      <th>32302</th>\n",
       "      <td>Skoda</td>\n",
       "      <td>Rapid</td>\n",
       "      <td>mechanical</td>\n",
       "      <td>other</td>\n",
       "      <td>0</td>\n",
       "      <td>2019</td>\n",
       "      <td>gasoline</td>\n",
       "      <td>False</td>\n",
       "      <td>gasoline</td>\n",
       "      <td>1.6</td>\n",
       "      <td>...</td>\n",
       "      <td>False</td>\n",
       "      <td>False</td>\n",
       "      <td>False</td>\n",
       "      <td>False</td>\n",
       "      <td>False</td>\n",
       "      <td>False</td>\n",
       "      <td>False</td>\n",
       "      <td>False</td>\n",
       "      <td>False</td>\n",
       "      <td>2</td>\n",
       "    </tr>\n",
       "    <tr>\n",
       "      <th>32304</th>\n",
       "      <td>Skoda</td>\n",
       "      <td>Rapid</td>\n",
       "      <td>mechanical</td>\n",
       "      <td>other</td>\n",
       "      <td>0</td>\n",
       "      <td>2019</td>\n",
       "      <td>gasoline</td>\n",
       "      <td>False</td>\n",
       "      <td>gasoline</td>\n",
       "      <td>1.6</td>\n",
       "      <td>...</td>\n",
       "      <td>False</td>\n",
       "      <td>False</td>\n",
       "      <td>False</td>\n",
       "      <td>False</td>\n",
       "      <td>False</td>\n",
       "      <td>False</td>\n",
       "      <td>False</td>\n",
       "      <td>False</td>\n",
       "      <td>False</td>\n",
       "      <td>2</td>\n",
       "    </tr>\n",
       "    <tr>\n",
       "      <th>32306</th>\n",
       "      <td>Skoda</td>\n",
       "      <td>Rapid</td>\n",
       "      <td>mechanical</td>\n",
       "      <td>black</td>\n",
       "      <td>0</td>\n",
       "      <td>2019</td>\n",
       "      <td>gasoline</td>\n",
       "      <td>False</td>\n",
       "      <td>gasoline</td>\n",
       "      <td>1.6</td>\n",
       "      <td>...</td>\n",
       "      <td>False</td>\n",
       "      <td>False</td>\n",
       "      <td>False</td>\n",
       "      <td>False</td>\n",
       "      <td>False</td>\n",
       "      <td>False</td>\n",
       "      <td>False</td>\n",
       "      <td>False</td>\n",
       "      <td>False</td>\n",
       "      <td>2</td>\n",
       "    </tr>\n",
       "    <tr>\n",
       "      <th>32307</th>\n",
       "      <td>Skoda</td>\n",
       "      <td>Rapid</td>\n",
       "      <td>mechanical</td>\n",
       "      <td>black</td>\n",
       "      <td>0</td>\n",
       "      <td>2019</td>\n",
       "      <td>gasoline</td>\n",
       "      <td>False</td>\n",
       "      <td>gasoline</td>\n",
       "      <td>1.6</td>\n",
       "      <td>...</td>\n",
       "      <td>False</td>\n",
       "      <td>False</td>\n",
       "      <td>False</td>\n",
       "      <td>False</td>\n",
       "      <td>False</td>\n",
       "      <td>False</td>\n",
       "      <td>False</td>\n",
       "      <td>False</td>\n",
       "      <td>False</td>\n",
       "      <td>2</td>\n",
       "    </tr>\n",
       "    <tr>\n",
       "      <th>32308</th>\n",
       "      <td>Skoda</td>\n",
       "      <td>Rapid</td>\n",
       "      <td>mechanical</td>\n",
       "      <td>black</td>\n",
       "      <td>0</td>\n",
       "      <td>2019</td>\n",
       "      <td>gasoline</td>\n",
       "      <td>False</td>\n",
       "      <td>gasoline</td>\n",
       "      <td>1.6</td>\n",
       "      <td>...</td>\n",
       "      <td>False</td>\n",
       "      <td>False</td>\n",
       "      <td>False</td>\n",
       "      <td>False</td>\n",
       "      <td>False</td>\n",
       "      <td>False</td>\n",
       "      <td>False</td>\n",
       "      <td>False</td>\n",
       "      <td>False</td>\n",
       "      <td>2</td>\n",
       "    </tr>\n",
       "    <tr>\n",
       "      <th>32310</th>\n",
       "      <td>Skoda</td>\n",
       "      <td>Rapid</td>\n",
       "      <td>mechanical</td>\n",
       "      <td>black</td>\n",
       "      <td>0</td>\n",
       "      <td>2019</td>\n",
       "      <td>gasoline</td>\n",
       "      <td>False</td>\n",
       "      <td>gasoline</td>\n",
       "      <td>1.6</td>\n",
       "      <td>...</td>\n",
       "      <td>False</td>\n",
       "      <td>False</td>\n",
       "      <td>False</td>\n",
       "      <td>False</td>\n",
       "      <td>False</td>\n",
       "      <td>False</td>\n",
       "      <td>False</td>\n",
       "      <td>False</td>\n",
       "      <td>False</td>\n",
       "      <td>2</td>\n",
       "    </tr>\n",
       "    <tr>\n",
       "      <th>32312</th>\n",
       "      <td>Skoda</td>\n",
       "      <td>Rapid</td>\n",
       "      <td>mechanical</td>\n",
       "      <td>brown</td>\n",
       "      <td>0</td>\n",
       "      <td>2019</td>\n",
       "      <td>gasoline</td>\n",
       "      <td>False</td>\n",
       "      <td>gasoline</td>\n",
       "      <td>1.6</td>\n",
       "      <td>...</td>\n",
       "      <td>False</td>\n",
       "      <td>False</td>\n",
       "      <td>False</td>\n",
       "      <td>False</td>\n",
       "      <td>False</td>\n",
       "      <td>False</td>\n",
       "      <td>False</td>\n",
       "      <td>False</td>\n",
       "      <td>False</td>\n",
       "      <td>2</td>\n",
       "    </tr>\n",
       "    <tr>\n",
       "      <th>32313</th>\n",
       "      <td>Skoda</td>\n",
       "      <td>Rapid</td>\n",
       "      <td>mechanical</td>\n",
       "      <td>brown</td>\n",
       "      <td>0</td>\n",
       "      <td>2019</td>\n",
       "      <td>gasoline</td>\n",
       "      <td>False</td>\n",
       "      <td>gasoline</td>\n",
       "      <td>1.6</td>\n",
       "      <td>...</td>\n",
       "      <td>False</td>\n",
       "      <td>False</td>\n",
       "      <td>False</td>\n",
       "      <td>False</td>\n",
       "      <td>False</td>\n",
       "      <td>False</td>\n",
       "      <td>False</td>\n",
       "      <td>False</td>\n",
       "      <td>False</td>\n",
       "      <td>2</td>\n",
       "    </tr>\n",
       "    <tr>\n",
       "      <th>32315</th>\n",
       "      <td>Skoda</td>\n",
       "      <td>Rapid</td>\n",
       "      <td>mechanical</td>\n",
       "      <td>brown</td>\n",
       "      <td>0</td>\n",
       "      <td>2019</td>\n",
       "      <td>gasoline</td>\n",
       "      <td>False</td>\n",
       "      <td>gasoline</td>\n",
       "      <td>1.6</td>\n",
       "      <td>...</td>\n",
       "      <td>False</td>\n",
       "      <td>False</td>\n",
       "      <td>False</td>\n",
       "      <td>False</td>\n",
       "      <td>False</td>\n",
       "      <td>False</td>\n",
       "      <td>False</td>\n",
       "      <td>False</td>\n",
       "      <td>False</td>\n",
       "      <td>2</td>\n",
       "    </tr>\n",
       "    <tr>\n",
       "      <th>32316</th>\n",
       "      <td>Skoda</td>\n",
       "      <td>Rapid</td>\n",
       "      <td>mechanical</td>\n",
       "      <td>brown</td>\n",
       "      <td>0</td>\n",
       "      <td>2019</td>\n",
       "      <td>gasoline</td>\n",
       "      <td>False</td>\n",
       "      <td>gasoline</td>\n",
       "      <td>1.6</td>\n",
       "      <td>...</td>\n",
       "      <td>False</td>\n",
       "      <td>False</td>\n",
       "      <td>False</td>\n",
       "      <td>False</td>\n",
       "      <td>False</td>\n",
       "      <td>False</td>\n",
       "      <td>False</td>\n",
       "      <td>False</td>\n",
       "      <td>False</td>\n",
       "      <td>2</td>\n",
       "    </tr>\n",
       "    <tr>\n",
       "      <th>32317</th>\n",
       "      <td>Skoda</td>\n",
       "      <td>Rapid</td>\n",
       "      <td>mechanical</td>\n",
       "      <td>brown</td>\n",
       "      <td>0</td>\n",
       "      <td>2019</td>\n",
       "      <td>gasoline</td>\n",
       "      <td>False</td>\n",
       "      <td>gasoline</td>\n",
       "      <td>1.6</td>\n",
       "      <td>...</td>\n",
       "      <td>False</td>\n",
       "      <td>False</td>\n",
       "      <td>False</td>\n",
       "      <td>False</td>\n",
       "      <td>False</td>\n",
       "      <td>False</td>\n",
       "      <td>False</td>\n",
       "      <td>False</td>\n",
       "      <td>False</td>\n",
       "      <td>2</td>\n",
       "    </tr>\n",
       "    <tr>\n",
       "      <th>32318</th>\n",
       "      <td>Skoda</td>\n",
       "      <td>Rapid</td>\n",
       "      <td>mechanical</td>\n",
       "      <td>brown</td>\n",
       "      <td>0</td>\n",
       "      <td>2019</td>\n",
       "      <td>gasoline</td>\n",
       "      <td>False</td>\n",
       "      <td>gasoline</td>\n",
       "      <td>1.6</td>\n",
       "      <td>...</td>\n",
       "      <td>False</td>\n",
       "      <td>False</td>\n",
       "      <td>False</td>\n",
       "      <td>False</td>\n",
       "      <td>False</td>\n",
       "      <td>False</td>\n",
       "      <td>False</td>\n",
       "      <td>False</td>\n",
       "      <td>False</td>\n",
       "      <td>2</td>\n",
       "    </tr>\n",
       "    <tr>\n",
       "      <th>32321</th>\n",
       "      <td>Skoda</td>\n",
       "      <td>Rapid</td>\n",
       "      <td>mechanical</td>\n",
       "      <td>silver</td>\n",
       "      <td>0</td>\n",
       "      <td>2019</td>\n",
       "      <td>gasoline</td>\n",
       "      <td>False</td>\n",
       "      <td>gasoline</td>\n",
       "      <td>1.6</td>\n",
       "      <td>...</td>\n",
       "      <td>False</td>\n",
       "      <td>False</td>\n",
       "      <td>False</td>\n",
       "      <td>False</td>\n",
       "      <td>False</td>\n",
       "      <td>False</td>\n",
       "      <td>False</td>\n",
       "      <td>False</td>\n",
       "      <td>False</td>\n",
       "      <td>2</td>\n",
       "    </tr>\n",
       "    <tr>\n",
       "      <th>32325</th>\n",
       "      <td>Skoda</td>\n",
       "      <td>Rapid</td>\n",
       "      <td>mechanical</td>\n",
       "      <td>white</td>\n",
       "      <td>0</td>\n",
       "      <td>2019</td>\n",
       "      <td>gasoline</td>\n",
       "      <td>False</td>\n",
       "      <td>gasoline</td>\n",
       "      <td>1.6</td>\n",
       "      <td>...</td>\n",
       "      <td>False</td>\n",
       "      <td>False</td>\n",
       "      <td>False</td>\n",
       "      <td>False</td>\n",
       "      <td>False</td>\n",
       "      <td>False</td>\n",
       "      <td>False</td>\n",
       "      <td>False</td>\n",
       "      <td>False</td>\n",
       "      <td>2</td>\n",
       "    </tr>\n",
       "  </tbody>\n",
       "</table>\n",
       "<p>40 rows × 30 columns</p>\n",
       "</div>"
      ],
      "text/plain": [
       "      manufacturer_name model_name transmission   color  odometer_value  \\\n",
       "5767         Mitsubishi     Lancer    automatic   black          250000   \n",
       "6556            Citroen     Xantia   mechanical  silver          520000   \n",
       "9996               Ford    Scorpio   mechanical  yellow           55555   \n",
       "11380              Ford    Transit   mechanical    grey          700000   \n",
       "11704              Ford     Mondeo   mechanical   green          380000   \n",
       "12810           Renault         19   mechanical    blue           99999   \n",
       "17338        Volkswagen    Touareg    automatic    grey          337400   \n",
       "18184        Volkswagen     Passat   mechanical   black          157000   \n",
       "31993             Skoda      Rapid    automatic  silver               0   \n",
       "32017             Skoda      Rapid   mechanical    blue               0   \n",
       "32018             Skoda      Rapid   mechanical    blue               0   \n",
       "32022             Skoda      Rapid   mechanical   black               0   \n",
       "32025             Skoda      Rapid   mechanical   brown               0   \n",
       "32028             Skoda      Rapid   mechanical   white               0   \n",
       "32034             Skoda      Rapid    automatic  silver               0   \n",
       "32036             Skoda      Rapid    automatic   other               0   \n",
       "32053             Skoda      Rapid   mechanical    blue               0   \n",
       "32126             Skoda    Octavia   mechanical   white               0   \n",
       "32128             Skoda     Kodiaq    automatic  silver               0   \n",
       "32179             Skoda      Rapid   mechanical   green               0   \n",
       "32180             Skoda      Rapid   mechanical   green               0   \n",
       "32295             Skoda      Rapid   mechanical    blue               0   \n",
       "32296             Skoda      Rapid   mechanical    blue               0   \n",
       "32298             Skoda      Rapid   mechanical    blue               0   \n",
       "32299             Skoda      Rapid   mechanical    blue               0   \n",
       "32301             Skoda      Rapid   mechanical   other               0   \n",
       "32302             Skoda      Rapid   mechanical   other               0   \n",
       "32304             Skoda      Rapid   mechanical   other               0   \n",
       "32306             Skoda      Rapid   mechanical   black               0   \n",
       "32307             Skoda      Rapid   mechanical   black               0   \n",
       "32308             Skoda      Rapid   mechanical   black               0   \n",
       "32310             Skoda      Rapid   mechanical   black               0   \n",
       "32312             Skoda      Rapid   mechanical   brown               0   \n",
       "32313             Skoda      Rapid   mechanical   brown               0   \n",
       "32315             Skoda      Rapid   mechanical   brown               0   \n",
       "32316             Skoda      Rapid   mechanical   brown               0   \n",
       "32317             Skoda      Rapid   mechanical   brown               0   \n",
       "32318             Skoda      Rapid   mechanical   brown               0   \n",
       "32321             Skoda      Rapid   mechanical  silver               0   \n",
       "32325             Skoda      Rapid   mechanical   white               0   \n",
       "\n",
       "       year_produced engine_fuel  engine_has_gas engine_type  engine_capacity  \\\n",
       "5767            2003    gasoline           False    gasoline              2.0   \n",
       "6556            1998      diesel           False      diesel              2.1   \n",
       "9996            1995    gasoline           False    gasoline              2.0   \n",
       "11380           2005      diesel           False      diesel              2.4   \n",
       "11704           1998      diesel           False      diesel              1.8   \n",
       "12810           1992    gasoline           False    gasoline              1.7   \n",
       "17338           2008      diesel           False      diesel              2.5   \n",
       "18184           2008    gasoline           False    gasoline              1.8   \n",
       "31993           2019    gasoline           False    gasoline              1.6   \n",
       "32017           2019    gasoline           False    gasoline              1.6   \n",
       "32018           2019    gasoline           False    gasoline              1.6   \n",
       "32022           2019    gasoline           False    gasoline              1.6   \n",
       "32025           2019    gasoline           False    gasoline              1.6   \n",
       "32028           2019    gasoline           False    gasoline              1.6   \n",
       "32034           2019    gasoline           False    gasoline              1.6   \n",
       "32036           2019    gasoline           False    gasoline              1.6   \n",
       "32053           2019    gasoline           False    gasoline              1.6   \n",
       "32126           2019    gasoline           False    gasoline              1.4   \n",
       "32128           2019    gasoline           False    gasoline              2.0   \n",
       "32179           2019    gasoline           False    gasoline              1.6   \n",
       "32180           2019    gasoline           False    gasoline              1.6   \n",
       "32295           2019    gasoline           False    gasoline              1.6   \n",
       "32296           2019    gasoline           False    gasoline              1.6   \n",
       "32298           2019    gasoline           False    gasoline              1.6   \n",
       "32299           2019    gasoline           False    gasoline              1.6   \n",
       "32301           2019    gasoline           False    gasoline              1.6   \n",
       "32302           2019    gasoline           False    gasoline              1.6   \n",
       "32304           2019    gasoline           False    gasoline              1.6   \n",
       "32306           2019    gasoline           False    gasoline              1.6   \n",
       "32307           2019    gasoline           False    gasoline              1.6   \n",
       "32308           2019    gasoline           False    gasoline              1.6   \n",
       "32310           2019    gasoline           False    gasoline              1.6   \n",
       "32312           2019    gasoline           False    gasoline              1.6   \n",
       "32313           2019    gasoline           False    gasoline              1.6   \n",
       "32315           2019    gasoline           False    gasoline              1.6   \n",
       "32316           2019    gasoline           False    gasoline              1.6   \n",
       "32317           2019    gasoline           False    gasoline              1.6   \n",
       "32318           2019    gasoline           False    gasoline              1.6   \n",
       "32321           2019    gasoline           False    gasoline              1.6   \n",
       "32325           2019    gasoline           False    gasoline              1.6   \n",
       "\n",
       "       ... feature_1  feature_2 feature_3 feature_4  feature_5  feature_6  \\\n",
       "5767   ...      True      False     False     False      False      False   \n",
       "6556   ...      True      False     False     False      False      False   \n",
       "9996   ...     False      False     False     False      False      False   \n",
       "11380  ...     False      False     False     False      False      False   \n",
       "11704  ...     False      False     False     False       True      False   \n",
       "12810  ...     False      False     False     False      False      False   \n",
       "17338  ...      True       True     False     False       True      False   \n",
       "18184  ...      True       True      True      True       True      False   \n",
       "31993  ...     False      False     False     False      False      False   \n",
       "32017  ...     False      False     False     False      False      False   \n",
       "32018  ...     False      False     False     False      False      False   \n",
       "32022  ...     False      False     False     False      False      False   \n",
       "32025  ...     False      False     False     False      False      False   \n",
       "32028  ...     False      False     False     False      False      False   \n",
       "32034  ...     False      False     False     False      False      False   \n",
       "32036  ...     False      False     False     False      False      False   \n",
       "32053  ...     False      False     False     False      False      False   \n",
       "32126  ...     False      False     False     False      False      False   \n",
       "32128  ...     False      False     False     False      False      False   \n",
       "32179  ...     False      False     False     False      False      False   \n",
       "32180  ...     False      False     False     False      False      False   \n",
       "32295  ...     False      False     False     False      False      False   \n",
       "32296  ...     False      False     False     False      False      False   \n",
       "32298  ...     False      False     False     False      False      False   \n",
       "32299  ...     False      False     False     False      False      False   \n",
       "32301  ...     False      False     False     False      False      False   \n",
       "32302  ...     False      False     False     False      False      False   \n",
       "32304  ...     False      False     False     False      False      False   \n",
       "32306  ...     False      False     False     False      False      False   \n",
       "32307  ...     False      False     False     False      False      False   \n",
       "32308  ...     False      False     False     False      False      False   \n",
       "32310  ...     False      False     False     False      False      False   \n",
       "32312  ...     False      False     False     False      False      False   \n",
       "32313  ...     False      False     False     False      False      False   \n",
       "32315  ...     False      False     False     False      False      False   \n",
       "32316  ...     False      False     False     False      False      False   \n",
       "32317  ...     False      False     False     False      False      False   \n",
       "32318  ...     False      False     False     False      False      False   \n",
       "32321  ...     False      False     False     False      False      False   \n",
       "32325  ...     False      False     False     False      False      False   \n",
       "\n",
       "      feature_7  feature_8  feature_9  duration_listed  \n",
       "5767      False      False      False               50  \n",
       "6556      False      False      False               16  \n",
       "9996      False      False      False                1  \n",
       "11380     False      False      False               60  \n",
       "11704     False       True       True               67  \n",
       "12810     False      False      False                3  \n",
       "17338     False       True       True               11  \n",
       "18184      True       True       True               42  \n",
       "31993     False      False      False                3  \n",
       "32017     False      False      False                3  \n",
       "32018     False      False      False                3  \n",
       "32022     False      False      False                3  \n",
       "32025     False      False      False                3  \n",
       "32028     False      False      False                3  \n",
       "32034     False      False      False                3  \n",
       "32036     False      False      False                3  \n",
       "32053     False      False      False                3  \n",
       "32126     False      False      False               26  \n",
       "32128     False      False      False               26  \n",
       "32179     False      False      False               26  \n",
       "32180     False      False      False               26  \n",
       "32295     False      False      False                2  \n",
       "32296     False      False      False                2  \n",
       "32298     False      False      False                2  \n",
       "32299     False      False      False                2  \n",
       "32301     False      False      False                2  \n",
       "32302     False      False      False                2  \n",
       "32304     False      False      False                2  \n",
       "32306     False      False      False                2  \n",
       "32307     False      False      False                2  \n",
       "32308     False      False      False                2  \n",
       "32310     False      False      False                2  \n",
       "32312     False      False      False                2  \n",
       "32313     False      False      False                2  \n",
       "32315     False      False      False                2  \n",
       "32316     False      False      False                2  \n",
       "32317     False      False      False                2  \n",
       "32318     False      False      False                2  \n",
       "32321     False      False      False                2  \n",
       "32325     False      False      False                2  \n",
       "\n",
       "[40 rows x 30 columns]"
      ]
     },
     "execution_count": 6,
     "metadata": {},
     "output_type": "execute_result"
    }
   ],
   "source": [
    "data[data.duplicated()]"
   ]
  },
  {
   "cell_type": "markdown",
   "id": "11003d11",
   "metadata": {},
   "source": [
    "Di dataset terdapat 40 data duplikat dan data ini akan dihapus dari dataframe."
   ]
  },
  {
   "cell_type": "code",
   "execution_count": 3,
   "id": "2b8a9a8e",
   "metadata": {},
   "outputs": [],
   "source": [
    "data = data.drop_duplicates()"
   ]
  },
  {
   "cell_type": "code",
   "execution_count": 4,
   "id": "83809192",
   "metadata": {},
   "outputs": [
    {
     "data": {
      "text/plain": [
       "np.int64(0)"
      ]
     },
     "execution_count": 4,
     "metadata": {},
     "output_type": "execute_result"
    }
   ],
   "source": [
    "data.duplicated().sum()"
   ]
  },
  {
   "cell_type": "markdown",
   "id": "9b7312ca",
   "metadata": {},
   "source": [
    "Dataset sudah tidak ada data yang duplikat"
   ]
  },
  {
   "cell_type": "code",
   "execution_count": 5,
   "id": "9155658b",
   "metadata": {},
   "outputs": [
    {
     "data": {
      "text/plain": [
       "manufacturer_name     0\n",
       "model_name            0\n",
       "transmission          0\n",
       "color                 0\n",
       "odometer_value        0\n",
       "year_produced         0\n",
       "engine_fuel           0\n",
       "engine_has_gas        0\n",
       "engine_type           0\n",
       "engine_capacity      10\n",
       "body_type             0\n",
       "has_warranty          0\n",
       "state                 0\n",
       "drivetrain            0\n",
       "price_usd             0\n",
       "is_exchangeable       0\n",
       "location_region       0\n",
       "number_of_photos      0\n",
       "up_counter            0\n",
       "feature_0             0\n",
       "feature_1             0\n",
       "feature_2             0\n",
       "feature_3             0\n",
       "feature_4             0\n",
       "feature_5             0\n",
       "feature_6             0\n",
       "feature_7             0\n",
       "feature_8             0\n",
       "feature_9             0\n",
       "duration_listed       0\n",
       "dtype: int64"
      ]
     },
     "execution_count": 5,
     "metadata": {},
     "output_type": "execute_result"
    }
   ],
   "source": [
    "data.isna().sum()"
   ]
  },
  {
   "cell_type": "markdown",
   "id": "9a9ce478",
   "metadata": {},
   "source": [
    "Terdapat 10 data yang missing value di kolom engine_capacity"
   ]
  },
  {
   "cell_type": "markdown",
   "id": "72797334",
   "metadata": {},
   "source": [
    "# 4. Feature Engineering Part 1"
   ]
  },
  {
   "cell_type": "code",
   "execution_count": 6,
   "id": "ea48a9dc",
   "metadata": {},
   "outputs": [],
   "source": [
    "pd.set_option('display.max_columns', None)"
   ]
  },
  {
   "cell_type": "markdown",
   "id": "17181624",
   "metadata": {},
   "source": [
    "Set option untuk melihat semua kolom di dataset"
   ]
  },
  {
   "cell_type": "code",
   "execution_count": 7,
   "id": "7b4ca7fc",
   "metadata": {},
   "outputs": [
    {
     "data": {
      "text/html": [
       "<div>\n",
       "<style scoped>\n",
       "    .dataframe tbody tr th:only-of-type {\n",
       "        vertical-align: middle;\n",
       "    }\n",
       "\n",
       "    .dataframe tbody tr th {\n",
       "        vertical-align: top;\n",
       "    }\n",
       "\n",
       "    .dataframe thead th {\n",
       "        text-align: right;\n",
       "    }\n",
       "</style>\n",
       "<table border=\"1\" class=\"dataframe\">\n",
       "  <thead>\n",
       "    <tr style=\"text-align: right;\">\n",
       "      <th></th>\n",
       "      <th>manufacturer_name</th>\n",
       "      <th>model_name</th>\n",
       "      <th>transmission</th>\n",
       "      <th>color</th>\n",
       "      <th>odometer_value</th>\n",
       "      <th>year_produced</th>\n",
       "      <th>engine_fuel</th>\n",
       "      <th>engine_has_gas</th>\n",
       "      <th>engine_type</th>\n",
       "      <th>engine_capacity</th>\n",
       "      <th>body_type</th>\n",
       "      <th>has_warranty</th>\n",
       "      <th>state</th>\n",
       "      <th>drivetrain</th>\n",
       "      <th>price_usd</th>\n",
       "      <th>is_exchangeable</th>\n",
       "      <th>location_region</th>\n",
       "      <th>number_of_photos</th>\n",
       "      <th>up_counter</th>\n",
       "      <th>feature_0</th>\n",
       "      <th>feature_1</th>\n",
       "      <th>feature_2</th>\n",
       "      <th>feature_3</th>\n",
       "      <th>feature_4</th>\n",
       "      <th>feature_5</th>\n",
       "      <th>feature_6</th>\n",
       "      <th>feature_7</th>\n",
       "      <th>feature_8</th>\n",
       "      <th>feature_9</th>\n",
       "      <th>duration_listed</th>\n",
       "    </tr>\n",
       "  </thead>\n",
       "  <tbody>\n",
       "    <tr>\n",
       "      <th>8782</th>\n",
       "      <td>Fiat</td>\n",
       "      <td>500</td>\n",
       "      <td>automatic</td>\n",
       "      <td>orange</td>\n",
       "      <td>27000</td>\n",
       "      <td>2013</td>\n",
       "      <td>electric</td>\n",
       "      <td>False</td>\n",
       "      <td>electric</td>\n",
       "      <td>NaN</td>\n",
       "      <td>hatchback</td>\n",
       "      <td>False</td>\n",
       "      <td>owned</td>\n",
       "      <td>front</td>\n",
       "      <td>14900.0</td>\n",
       "      <td>True</td>\n",
       "      <td>Минская обл.</td>\n",
       "      <td>11</td>\n",
       "      <td>13</td>\n",
       "      <td>False</td>\n",
       "      <td>True</td>\n",
       "      <td>False</td>\n",
       "      <td>True</td>\n",
       "      <td>True</td>\n",
       "      <td>True</td>\n",
       "      <td>False</td>\n",
       "      <td>True</td>\n",
       "      <td>True</td>\n",
       "      <td>True</td>\n",
       "      <td>77</td>\n",
       "    </tr>\n",
       "    <tr>\n",
       "      <th>9048</th>\n",
       "      <td>Fiat</td>\n",
       "      <td>500</td>\n",
       "      <td>automatic</td>\n",
       "      <td>orange</td>\n",
       "      <td>49000</td>\n",
       "      <td>2014</td>\n",
       "      <td>electric</td>\n",
       "      <td>False</td>\n",
       "      <td>electric</td>\n",
       "      <td>NaN</td>\n",
       "      <td>hatchback</td>\n",
       "      <td>False</td>\n",
       "      <td>owned</td>\n",
       "      <td>front</td>\n",
       "      <td>16000.0</td>\n",
       "      <td>False</td>\n",
       "      <td>Минская обл.</td>\n",
       "      <td>18</td>\n",
       "      <td>1</td>\n",
       "      <td>False</td>\n",
       "      <td>False</td>\n",
       "      <td>False</td>\n",
       "      <td>True</td>\n",
       "      <td>False</td>\n",
       "      <td>True</td>\n",
       "      <td>False</td>\n",
       "      <td>True</td>\n",
       "      <td>False</td>\n",
       "      <td>True</td>\n",
       "      <td>11</td>\n",
       "    </tr>\n",
       "    <tr>\n",
       "      <th>24226</th>\n",
       "      <td>Chevrolet</td>\n",
       "      <td>Volt</td>\n",
       "      <td>automatic</td>\n",
       "      <td>silver</td>\n",
       "      <td>168000</td>\n",
       "      <td>2013</td>\n",
       "      <td>electric</td>\n",
       "      <td>False</td>\n",
       "      <td>electric</td>\n",
       "      <td>NaN</td>\n",
       "      <td>liftback</td>\n",
       "      <td>False</td>\n",
       "      <td>owned</td>\n",
       "      <td>front</td>\n",
       "      <td>12950.0</td>\n",
       "      <td>True</td>\n",
       "      <td>Минская обл.</td>\n",
       "      <td>21</td>\n",
       "      <td>5</td>\n",
       "      <td>False</td>\n",
       "      <td>False</td>\n",
       "      <td>False</td>\n",
       "      <td>True</td>\n",
       "      <td>False</td>\n",
       "      <td>False</td>\n",
       "      <td>False</td>\n",
       "      <td>True</td>\n",
       "      <td>True</td>\n",
       "      <td>True</td>\n",
       "      <td>6</td>\n",
       "    </tr>\n",
       "    <tr>\n",
       "      <th>25943</th>\n",
       "      <td>Nissan</td>\n",
       "      <td>Leaf</td>\n",
       "      <td>automatic</td>\n",
       "      <td>white</td>\n",
       "      <td>57357</td>\n",
       "      <td>2015</td>\n",
       "      <td>electric</td>\n",
       "      <td>False</td>\n",
       "      <td>electric</td>\n",
       "      <td>NaN</td>\n",
       "      <td>hatchback</td>\n",
       "      <td>False</td>\n",
       "      <td>owned</td>\n",
       "      <td>front</td>\n",
       "      <td>13850.0</td>\n",
       "      <td>False</td>\n",
       "      <td>Минская обл.</td>\n",
       "      <td>20</td>\n",
       "      <td>57</td>\n",
       "      <td>False</td>\n",
       "      <td>True</td>\n",
       "      <td>True</td>\n",
       "      <td>True</td>\n",
       "      <td>True</td>\n",
       "      <td>True</td>\n",
       "      <td>True</td>\n",
       "      <td>True</td>\n",
       "      <td>True</td>\n",
       "      <td>True</td>\n",
       "      <td>75</td>\n",
       "    </tr>\n",
       "    <tr>\n",
       "      <th>26203</th>\n",
       "      <td>Nissan</td>\n",
       "      <td>Leaf</td>\n",
       "      <td>automatic</td>\n",
       "      <td>blue</td>\n",
       "      <td>97400</td>\n",
       "      <td>2011</td>\n",
       "      <td>electric</td>\n",
       "      <td>False</td>\n",
       "      <td>electric</td>\n",
       "      <td>NaN</td>\n",
       "      <td>hatchback</td>\n",
       "      <td>False</td>\n",
       "      <td>owned</td>\n",
       "      <td>front</td>\n",
       "      <td>9300.0</td>\n",
       "      <td>True</td>\n",
       "      <td>Минская обл.</td>\n",
       "      <td>7</td>\n",
       "      <td>21</td>\n",
       "      <td>False</td>\n",
       "      <td>True</td>\n",
       "      <td>False</td>\n",
       "      <td>False</td>\n",
       "      <td>False</td>\n",
       "      <td>False</td>\n",
       "      <td>False</td>\n",
       "      <td>True</td>\n",
       "      <td>False</td>\n",
       "      <td>True</td>\n",
       "      <td>64</td>\n",
       "    </tr>\n",
       "    <tr>\n",
       "      <th>26222</th>\n",
       "      <td>Nissan</td>\n",
       "      <td>Leaf</td>\n",
       "      <td>automatic</td>\n",
       "      <td>white</td>\n",
       "      <td>50000</td>\n",
       "      <td>2014</td>\n",
       "      <td>electric</td>\n",
       "      <td>False</td>\n",
       "      <td>electric</td>\n",
       "      <td>NaN</td>\n",
       "      <td>hatchback</td>\n",
       "      <td>False</td>\n",
       "      <td>owned</td>\n",
       "      <td>front</td>\n",
       "      <td>12900.0</td>\n",
       "      <td>False</td>\n",
       "      <td>Минская обл.</td>\n",
       "      <td>12</td>\n",
       "      <td>7</td>\n",
       "      <td>False</td>\n",
       "      <td>True</td>\n",
       "      <td>False</td>\n",
       "      <td>False</td>\n",
       "      <td>False</td>\n",
       "      <td>True</td>\n",
       "      <td>False</td>\n",
       "      <td>True</td>\n",
       "      <td>True</td>\n",
       "      <td>False</td>\n",
       "      <td>18</td>\n",
       "    </tr>\n",
       "    <tr>\n",
       "      <th>26582</th>\n",
       "      <td>Nissan</td>\n",
       "      <td>Leaf</td>\n",
       "      <td>automatic</td>\n",
       "      <td>black</td>\n",
       "      <td>84000</td>\n",
       "      <td>2014</td>\n",
       "      <td>electric</td>\n",
       "      <td>False</td>\n",
       "      <td>electric</td>\n",
       "      <td>NaN</td>\n",
       "      <td>hatchback</td>\n",
       "      <td>False</td>\n",
       "      <td>owned</td>\n",
       "      <td>front</td>\n",
       "      <td>14500.0</td>\n",
       "      <td>False</td>\n",
       "      <td>Минская обл.</td>\n",
       "      <td>12</td>\n",
       "      <td>19</td>\n",
       "      <td>False</td>\n",
       "      <td>False</td>\n",
       "      <td>False</td>\n",
       "      <td>False</td>\n",
       "      <td>False</td>\n",
       "      <td>True</td>\n",
       "      <td>True</td>\n",
       "      <td>True</td>\n",
       "      <td>True</td>\n",
       "      <td>True</td>\n",
       "      <td>138</td>\n",
       "    </tr>\n",
       "    <tr>\n",
       "      <th>26914</th>\n",
       "      <td>Nissan</td>\n",
       "      <td>Leaf</td>\n",
       "      <td>automatic</td>\n",
       "      <td>black</td>\n",
       "      <td>84500</td>\n",
       "      <td>2013</td>\n",
       "      <td>electric</td>\n",
       "      <td>False</td>\n",
       "      <td>electric</td>\n",
       "      <td>NaN</td>\n",
       "      <td>hatchback</td>\n",
       "      <td>False</td>\n",
       "      <td>owned</td>\n",
       "      <td>front</td>\n",
       "      <td>15500.0</td>\n",
       "      <td>False</td>\n",
       "      <td>Брестская обл.</td>\n",
       "      <td>5</td>\n",
       "      <td>2</td>\n",
       "      <td>False</td>\n",
       "      <td>True</td>\n",
       "      <td>False</td>\n",
       "      <td>True</td>\n",
       "      <td>False</td>\n",
       "      <td>True</td>\n",
       "      <td>True</td>\n",
       "      <td>True</td>\n",
       "      <td>True</td>\n",
       "      <td>True</td>\n",
       "      <td>58</td>\n",
       "    </tr>\n",
       "    <tr>\n",
       "      <th>27554</th>\n",
       "      <td>BMW</td>\n",
       "      <td>i3</td>\n",
       "      <td>automatic</td>\n",
       "      <td>white</td>\n",
       "      <td>54150</td>\n",
       "      <td>2015</td>\n",
       "      <td>electric</td>\n",
       "      <td>False</td>\n",
       "      <td>electric</td>\n",
       "      <td>NaN</td>\n",
       "      <td>hatchback</td>\n",
       "      <td>False</td>\n",
       "      <td>owned</td>\n",
       "      <td>rear</td>\n",
       "      <td>24750.0</td>\n",
       "      <td>True</td>\n",
       "      <td>Минская обл.</td>\n",
       "      <td>23</td>\n",
       "      <td>17</td>\n",
       "      <td>False</td>\n",
       "      <td>True</td>\n",
       "      <td>True</td>\n",
       "      <td>True</td>\n",
       "      <td>False</td>\n",
       "      <td>True</td>\n",
       "      <td>True</td>\n",
       "      <td>True</td>\n",
       "      <td>True</td>\n",
       "      <td>True</td>\n",
       "      <td>18</td>\n",
       "    </tr>\n",
       "    <tr>\n",
       "      <th>29590</th>\n",
       "      <td>BMW</td>\n",
       "      <td>i3</td>\n",
       "      <td>automatic</td>\n",
       "      <td>other</td>\n",
       "      <td>67000</td>\n",
       "      <td>2018</td>\n",
       "      <td>electric</td>\n",
       "      <td>False</td>\n",
       "      <td>electric</td>\n",
       "      <td>NaN</td>\n",
       "      <td>liftback</td>\n",
       "      <td>False</td>\n",
       "      <td>owned</td>\n",
       "      <td>rear</td>\n",
       "      <td>39999.0</td>\n",
       "      <td>False</td>\n",
       "      <td>Минская обл.</td>\n",
       "      <td>6</td>\n",
       "      <td>2</td>\n",
       "      <td>False</td>\n",
       "      <td>True</td>\n",
       "      <td>True</td>\n",
       "      <td>True</td>\n",
       "      <td>True</td>\n",
       "      <td>True</td>\n",
       "      <td>True</td>\n",
       "      <td>True</td>\n",
       "      <td>True</td>\n",
       "      <td>True</td>\n",
       "      <td>57</td>\n",
       "    </tr>\n",
       "  </tbody>\n",
       "</table>\n",
       "</div>"
      ],
      "text/plain": [
       "      manufacturer_name model_name transmission   color  odometer_value  \\\n",
       "8782               Fiat        500    automatic  orange           27000   \n",
       "9048               Fiat        500    automatic  orange           49000   \n",
       "24226         Chevrolet       Volt    automatic  silver          168000   \n",
       "25943            Nissan       Leaf    automatic   white           57357   \n",
       "26203            Nissan       Leaf    automatic    blue           97400   \n",
       "26222            Nissan       Leaf    automatic   white           50000   \n",
       "26582            Nissan       Leaf    automatic   black           84000   \n",
       "26914            Nissan       Leaf    automatic   black           84500   \n",
       "27554               BMW         i3    automatic   white           54150   \n",
       "29590               BMW         i3    automatic   other           67000   \n",
       "\n",
       "       year_produced engine_fuel  engine_has_gas engine_type  engine_capacity  \\\n",
       "8782            2013    electric           False    electric              NaN   \n",
       "9048            2014    electric           False    electric              NaN   \n",
       "24226           2013    electric           False    electric              NaN   \n",
       "25943           2015    electric           False    electric              NaN   \n",
       "26203           2011    electric           False    electric              NaN   \n",
       "26222           2014    electric           False    electric              NaN   \n",
       "26582           2014    electric           False    electric              NaN   \n",
       "26914           2013    electric           False    electric              NaN   \n",
       "27554           2015    electric           False    electric              NaN   \n",
       "29590           2018    electric           False    electric              NaN   \n",
       "\n",
       "       body_type  has_warranty  state drivetrain  price_usd  is_exchangeable  \\\n",
       "8782   hatchback         False  owned      front    14900.0             True   \n",
       "9048   hatchback         False  owned      front    16000.0            False   \n",
       "24226   liftback         False  owned      front    12950.0             True   \n",
       "25943  hatchback         False  owned      front    13850.0            False   \n",
       "26203  hatchback         False  owned      front     9300.0             True   \n",
       "26222  hatchback         False  owned      front    12900.0            False   \n",
       "26582  hatchback         False  owned      front    14500.0            False   \n",
       "26914  hatchback         False  owned      front    15500.0            False   \n",
       "27554  hatchback         False  owned       rear    24750.0             True   \n",
       "29590   liftback         False  owned       rear    39999.0            False   \n",
       "\n",
       "      location_region  number_of_photos  up_counter  feature_0  feature_1  \\\n",
       "8782     Минская обл.                11          13      False       True   \n",
       "9048     Минская обл.                18           1      False      False   \n",
       "24226    Минская обл.                21           5      False      False   \n",
       "25943    Минская обл.                20          57      False       True   \n",
       "26203    Минская обл.                 7          21      False       True   \n",
       "26222    Минская обл.                12           7      False       True   \n",
       "26582    Минская обл.                12          19      False      False   \n",
       "26914  Брестская обл.                 5           2      False       True   \n",
       "27554    Минская обл.                23          17      False       True   \n",
       "29590    Минская обл.                 6           2      False       True   \n",
       "\n",
       "       feature_2  feature_3  feature_4  feature_5  feature_6  feature_7  \\\n",
       "8782       False       True       True       True      False       True   \n",
       "9048       False       True      False       True      False       True   \n",
       "24226      False       True      False      False      False       True   \n",
       "25943       True       True       True       True       True       True   \n",
       "26203      False      False      False      False      False       True   \n",
       "26222      False      False      False       True      False       True   \n",
       "26582      False      False      False       True       True       True   \n",
       "26914      False       True      False       True       True       True   \n",
       "27554       True       True      False       True       True       True   \n",
       "29590       True       True       True       True       True       True   \n",
       "\n",
       "       feature_8  feature_9  duration_listed  \n",
       "8782        True       True               77  \n",
       "9048       False       True               11  \n",
       "24226       True       True                6  \n",
       "25943       True       True               75  \n",
       "26203      False       True               64  \n",
       "26222       True      False               18  \n",
       "26582       True       True              138  \n",
       "26914       True       True               58  \n",
       "27554       True       True               18  \n",
       "29590       True       True               57  "
      ]
     },
     "execution_count": 7,
     "metadata": {},
     "output_type": "execute_result"
    }
   ],
   "source": [
    "data.loc[data['engine_capacity'].isna()]"
   ]
  },
  {
   "cell_type": "markdown",
   "id": "0f8742a3",
   "metadata": {},
   "source": [
    "Data ada missing value ini ada di kolom engine_capacity yaitu kapasitas mesin dalam liter. Tipe missing value di kolom ini adalah Missing Completely at Random karena missing value ini dapat di jelaskan dengan kolom lain engine_fuel. Mobil di baris ini adalah mobil listrik yang tidak mengunakan kapasitas mesin secara traditional seperti mobil gasoline yang menggunakan bensin. "
   ]
  },
  {
   "cell_type": "code",
   "execution_count": 8,
   "id": "0a4dcf48",
   "metadata": {},
   "outputs": [
    {
     "data": {
      "text/html": [
       "<div>\n",
       "<style scoped>\n",
       "    .dataframe tbody tr th:only-of-type {\n",
       "        vertical-align: middle;\n",
       "    }\n",
       "\n",
       "    .dataframe tbody tr th {\n",
       "        vertical-align: top;\n",
       "    }\n",
       "\n",
       "    .dataframe thead th {\n",
       "        text-align: right;\n",
       "    }\n",
       "</style>\n",
       "<table border=\"1\" class=\"dataframe\">\n",
       "  <thead>\n",
       "    <tr style=\"text-align: right;\">\n",
       "      <th></th>\n",
       "      <th>count</th>\n",
       "      <th>mean</th>\n",
       "      <th>std</th>\n",
       "      <th>min</th>\n",
       "      <th>25%</th>\n",
       "      <th>50%</th>\n",
       "      <th>75%</th>\n",
       "      <th>max</th>\n",
       "    </tr>\n",
       "  </thead>\n",
       "  <tbody>\n",
       "    <tr>\n",
       "      <th>odometer_value</th>\n",
       "      <td>38491.0</td>\n",
       "      <td>249058.31</td>\n",
       "      <td>135918.33</td>\n",
       "      <td>0.0</td>\n",
       "      <td>158000.0</td>\n",
       "      <td>250000.0</td>\n",
       "      <td>325000.0</td>\n",
       "      <td>1000000.0</td>\n",
       "    </tr>\n",
       "    <tr>\n",
       "      <th>year_produced</th>\n",
       "      <td>38491.0</td>\n",
       "      <td>2002.93</td>\n",
       "      <td>8.06</td>\n",
       "      <td>1942.0</td>\n",
       "      <td>1998.0</td>\n",
       "      <td>2003.0</td>\n",
       "      <td>2009.0</td>\n",
       "      <td>2019.0</td>\n",
       "    </tr>\n",
       "    <tr>\n",
       "      <th>engine_capacity</th>\n",
       "      <td>38481.0</td>\n",
       "      <td>2.06</td>\n",
       "      <td>0.67</td>\n",
       "      <td>0.2</td>\n",
       "      <td>1.6</td>\n",
       "      <td>2.0</td>\n",
       "      <td>2.3</td>\n",
       "      <td>8.0</td>\n",
       "    </tr>\n",
       "    <tr>\n",
       "      <th>price_usd</th>\n",
       "      <td>38491.0</td>\n",
       "      <td>6632.81</td>\n",
       "      <td>6424.03</td>\n",
       "      <td>1.0</td>\n",
       "      <td>2100.0</td>\n",
       "      <td>4800.0</td>\n",
       "      <td>8950.0</td>\n",
       "      <td>50000.0</td>\n",
       "    </tr>\n",
       "    <tr>\n",
       "      <th>number_of_photos</th>\n",
       "      <td>38491.0</td>\n",
       "      <td>9.64</td>\n",
       "      <td>6.09</td>\n",
       "      <td>1.0</td>\n",
       "      <td>5.0</td>\n",
       "      <td>8.0</td>\n",
       "      <td>12.0</td>\n",
       "      <td>86.0</td>\n",
       "    </tr>\n",
       "    <tr>\n",
       "      <th>up_counter</th>\n",
       "      <td>38491.0</td>\n",
       "      <td>16.32</td>\n",
       "      <td>43.31</td>\n",
       "      <td>1.0</td>\n",
       "      <td>2.0</td>\n",
       "      <td>5.0</td>\n",
       "      <td>16.0</td>\n",
       "      <td>1861.0</td>\n",
       "    </tr>\n",
       "    <tr>\n",
       "      <th>duration_listed</th>\n",
       "      <td>38491.0</td>\n",
       "      <td>80.65</td>\n",
       "      <td>112.86</td>\n",
       "      <td>0.0</td>\n",
       "      <td>23.0</td>\n",
       "      <td>59.0</td>\n",
       "      <td>91.0</td>\n",
       "      <td>2232.0</td>\n",
       "    </tr>\n",
       "  </tbody>\n",
       "</table>\n",
       "</div>"
      ],
      "text/plain": [
       "                    count       mean        std     min       25%       50%  \\\n",
       "odometer_value    38491.0  249058.31  135918.33     0.0  158000.0  250000.0   \n",
       "year_produced     38491.0    2002.93       8.06  1942.0    1998.0    2003.0   \n",
       "engine_capacity   38481.0       2.06       0.67     0.2       1.6       2.0   \n",
       "price_usd         38491.0    6632.81    6424.03     1.0    2100.0    4800.0   \n",
       "number_of_photos  38491.0       9.64       6.09     1.0       5.0       8.0   \n",
       "up_counter        38491.0      16.32      43.31     1.0       2.0       5.0   \n",
       "duration_listed   38491.0      80.65     112.86     0.0      23.0      59.0   \n",
       "\n",
       "                       75%        max  \n",
       "odometer_value    325000.0  1000000.0  \n",
       "year_produced       2009.0     2019.0  \n",
       "engine_capacity        2.3        8.0  \n",
       "price_usd           8950.0    50000.0  \n",
       "number_of_photos      12.0       86.0  \n",
       "up_counter            16.0     1861.0  \n",
       "duration_listed       91.0     2232.0  "
      ]
     },
     "execution_count": 8,
     "metadata": {},
     "output_type": "execute_result"
    }
   ],
   "source": [
    "data.describe().round(2).T"
   ]
  },
  {
   "cell_type": "markdown",
   "id": "2e4d32a2",
   "metadata": {},
   "source": [
    "Bedasarkan describe, nilai minimum untuk engine_capacity adalah 0.2 oleh karena itu missing value di engine_capacity akan diisi dengan 0."
   ]
  },
  {
   "cell_type": "code",
   "execution_count": 9,
   "id": "bc1275d4",
   "metadata": {},
   "outputs": [
    {
     "name": "stderr",
     "output_type": "stream",
     "text": [
      "C:\\Users\\ASUS\\AppData\\Local\\Temp\\ipykernel_22444\\765938012.py:1: SettingWithCopyWarning: \n",
      "A value is trying to be set on a copy of a slice from a DataFrame.\n",
      "Try using .loc[row_indexer,col_indexer] = value instead\n",
      "\n",
      "See the caveats in the documentation: https://pandas.pydata.org/pandas-docs/stable/user_guide/indexing.html#returning-a-view-versus-a-copy\n",
      "  data['engine_capacity'] = data['engine_capacity'].fillna(0)\n"
     ]
    }
   ],
   "source": [
    "data['engine_capacity'] = data['engine_capacity'].fillna(0)"
   ]
  },
  {
   "cell_type": "code",
   "execution_count": 10,
   "id": "950143a4",
   "metadata": {},
   "outputs": [
    {
     "data": {
      "text/plain": [
       "manufacturer_name    0\n",
       "model_name           0\n",
       "transmission         0\n",
       "color                0\n",
       "odometer_value       0\n",
       "year_produced        0\n",
       "engine_fuel          0\n",
       "engine_has_gas       0\n",
       "engine_type          0\n",
       "engine_capacity      0\n",
       "body_type            0\n",
       "has_warranty         0\n",
       "state                0\n",
       "drivetrain           0\n",
       "price_usd            0\n",
       "is_exchangeable      0\n",
       "location_region      0\n",
       "number_of_photos     0\n",
       "up_counter           0\n",
       "feature_0            0\n",
       "feature_1            0\n",
       "feature_2            0\n",
       "feature_3            0\n",
       "feature_4            0\n",
       "feature_5            0\n",
       "feature_6            0\n",
       "feature_7            0\n",
       "feature_8            0\n",
       "feature_9            0\n",
       "duration_listed      0\n",
       "dtype: int64"
      ]
     },
     "execution_count": 10,
     "metadata": {},
     "output_type": "execute_result"
    }
   ],
   "source": [
    "data.isna().sum()"
   ]
  },
  {
   "cell_type": "markdown",
   "id": "048c08fa",
   "metadata": {},
   "source": [
    "Setelah di handle missing value nya, missing value nya 0"
   ]
  },
  {
   "cell_type": "code",
   "execution_count": 11,
   "id": "9ae756d7",
   "metadata": {},
   "outputs": [
    {
     "name": "stderr",
     "output_type": "stream",
     "text": [
      "C:\\Users\\ASUS\\AppData\\Local\\Temp\\ipykernel_22444\\737715599.py:1: SettingWithCopyWarning: \n",
      "A value is trying to be set on a copy of a slice from a DataFrame.\n",
      "Try using .loc[row_indexer,col_indexer] = value instead\n",
      "\n",
      "See the caveats in the documentation: https://pandas.pydata.org/pandas-docs/stable/user_guide/indexing.html#returning-a-view-versus-a-copy\n",
      "  data['car_age'] = 2025 - data['year_produced']\n"
     ]
    },
    {
     "data": {
      "text/html": [
       "<div>\n",
       "<style scoped>\n",
       "    .dataframe tbody tr th:only-of-type {\n",
       "        vertical-align: middle;\n",
       "    }\n",
       "\n",
       "    .dataframe tbody tr th {\n",
       "        vertical-align: top;\n",
       "    }\n",
       "\n",
       "    .dataframe thead th {\n",
       "        text-align: right;\n",
       "    }\n",
       "</style>\n",
       "<table border=\"1\" class=\"dataframe\">\n",
       "  <thead>\n",
       "    <tr style=\"text-align: right;\">\n",
       "      <th></th>\n",
       "      <th>manufacturer_name</th>\n",
       "      <th>model_name</th>\n",
       "      <th>transmission</th>\n",
       "      <th>color</th>\n",
       "      <th>odometer_value</th>\n",
       "      <th>year_produced</th>\n",
       "      <th>engine_fuel</th>\n",
       "      <th>engine_has_gas</th>\n",
       "      <th>engine_type</th>\n",
       "      <th>engine_capacity</th>\n",
       "      <th>body_type</th>\n",
       "      <th>has_warranty</th>\n",
       "      <th>state</th>\n",
       "      <th>drivetrain</th>\n",
       "      <th>price_usd</th>\n",
       "      <th>is_exchangeable</th>\n",
       "      <th>location_region</th>\n",
       "      <th>number_of_photos</th>\n",
       "      <th>up_counter</th>\n",
       "      <th>feature_0</th>\n",
       "      <th>feature_1</th>\n",
       "      <th>feature_2</th>\n",
       "      <th>feature_3</th>\n",
       "      <th>feature_4</th>\n",
       "      <th>feature_5</th>\n",
       "      <th>feature_6</th>\n",
       "      <th>feature_7</th>\n",
       "      <th>feature_8</th>\n",
       "      <th>feature_9</th>\n",
       "      <th>duration_listed</th>\n",
       "      <th>car_age</th>\n",
       "    </tr>\n",
       "  </thead>\n",
       "  <tbody>\n",
       "    <tr>\n",
       "      <th>0</th>\n",
       "      <td>Subaru</td>\n",
       "      <td>Outback</td>\n",
       "      <td>automatic</td>\n",
       "      <td>silver</td>\n",
       "      <td>190000</td>\n",
       "      <td>2010</td>\n",
       "      <td>gasoline</td>\n",
       "      <td>False</td>\n",
       "      <td>gasoline</td>\n",
       "      <td>2.5</td>\n",
       "      <td>universal</td>\n",
       "      <td>False</td>\n",
       "      <td>owned</td>\n",
       "      <td>all</td>\n",
       "      <td>10900.00</td>\n",
       "      <td>False</td>\n",
       "      <td>Минская обл.</td>\n",
       "      <td>9</td>\n",
       "      <td>13</td>\n",
       "      <td>False</td>\n",
       "      <td>True</td>\n",
       "      <td>True</td>\n",
       "      <td>True</td>\n",
       "      <td>False</td>\n",
       "      <td>True</td>\n",
       "      <td>False</td>\n",
       "      <td>True</td>\n",
       "      <td>True</td>\n",
       "      <td>True</td>\n",
       "      <td>16</td>\n",
       "      <td>15</td>\n",
       "    </tr>\n",
       "    <tr>\n",
       "      <th>1</th>\n",
       "      <td>Subaru</td>\n",
       "      <td>Outback</td>\n",
       "      <td>automatic</td>\n",
       "      <td>blue</td>\n",
       "      <td>290000</td>\n",
       "      <td>2002</td>\n",
       "      <td>gasoline</td>\n",
       "      <td>False</td>\n",
       "      <td>gasoline</td>\n",
       "      <td>3.0</td>\n",
       "      <td>universal</td>\n",
       "      <td>False</td>\n",
       "      <td>owned</td>\n",
       "      <td>all</td>\n",
       "      <td>5000.00</td>\n",
       "      <td>True</td>\n",
       "      <td>Минская обл.</td>\n",
       "      <td>12</td>\n",
       "      <td>54</td>\n",
       "      <td>False</td>\n",
       "      <td>True</td>\n",
       "      <td>False</td>\n",
       "      <td>False</td>\n",
       "      <td>True</td>\n",
       "      <td>True</td>\n",
       "      <td>False</td>\n",
       "      <td>False</td>\n",
       "      <td>False</td>\n",
       "      <td>True</td>\n",
       "      <td>83</td>\n",
       "      <td>23</td>\n",
       "    </tr>\n",
       "    <tr>\n",
       "      <th>2</th>\n",
       "      <td>Subaru</td>\n",
       "      <td>Forester</td>\n",
       "      <td>automatic</td>\n",
       "      <td>red</td>\n",
       "      <td>402000</td>\n",
       "      <td>2001</td>\n",
       "      <td>gasoline</td>\n",
       "      <td>False</td>\n",
       "      <td>gasoline</td>\n",
       "      <td>2.5</td>\n",
       "      <td>suv</td>\n",
       "      <td>False</td>\n",
       "      <td>owned</td>\n",
       "      <td>all</td>\n",
       "      <td>2800.00</td>\n",
       "      <td>True</td>\n",
       "      <td>Минская обл.</td>\n",
       "      <td>4</td>\n",
       "      <td>72</td>\n",
       "      <td>False</td>\n",
       "      <td>True</td>\n",
       "      <td>False</td>\n",
       "      <td>False</td>\n",
       "      <td>False</td>\n",
       "      <td>False</td>\n",
       "      <td>False</td>\n",
       "      <td>False</td>\n",
       "      <td>True</td>\n",
       "      <td>True</td>\n",
       "      <td>151</td>\n",
       "      <td>24</td>\n",
       "    </tr>\n",
       "    <tr>\n",
       "      <th>3</th>\n",
       "      <td>Subaru</td>\n",
       "      <td>Impreza</td>\n",
       "      <td>mechanical</td>\n",
       "      <td>blue</td>\n",
       "      <td>10000</td>\n",
       "      <td>1999</td>\n",
       "      <td>gasoline</td>\n",
       "      <td>False</td>\n",
       "      <td>gasoline</td>\n",
       "      <td>3.0</td>\n",
       "      <td>sedan</td>\n",
       "      <td>False</td>\n",
       "      <td>owned</td>\n",
       "      <td>all</td>\n",
       "      <td>9999.00</td>\n",
       "      <td>True</td>\n",
       "      <td>Минская обл.</td>\n",
       "      <td>9</td>\n",
       "      <td>42</td>\n",
       "      <td>True</td>\n",
       "      <td>False</td>\n",
       "      <td>False</td>\n",
       "      <td>False</td>\n",
       "      <td>False</td>\n",
       "      <td>False</td>\n",
       "      <td>False</td>\n",
       "      <td>False</td>\n",
       "      <td>False</td>\n",
       "      <td>False</td>\n",
       "      <td>86</td>\n",
       "      <td>26</td>\n",
       "    </tr>\n",
       "    <tr>\n",
       "      <th>4</th>\n",
       "      <td>Subaru</td>\n",
       "      <td>Legacy</td>\n",
       "      <td>automatic</td>\n",
       "      <td>black</td>\n",
       "      <td>280000</td>\n",
       "      <td>2001</td>\n",
       "      <td>gasoline</td>\n",
       "      <td>False</td>\n",
       "      <td>gasoline</td>\n",
       "      <td>2.5</td>\n",
       "      <td>universal</td>\n",
       "      <td>False</td>\n",
       "      <td>owned</td>\n",
       "      <td>all</td>\n",
       "      <td>2134.11</td>\n",
       "      <td>True</td>\n",
       "      <td>Гомельская обл.</td>\n",
       "      <td>14</td>\n",
       "      <td>7</td>\n",
       "      <td>False</td>\n",
       "      <td>True</td>\n",
       "      <td>False</td>\n",
       "      <td>True</td>\n",
       "      <td>True</td>\n",
       "      <td>False</td>\n",
       "      <td>False</td>\n",
       "      <td>False</td>\n",
       "      <td>False</td>\n",
       "      <td>True</td>\n",
       "      <td>7</td>\n",
       "      <td>24</td>\n",
       "    </tr>\n",
       "    <tr>\n",
       "      <th>...</th>\n",
       "      <td>...</td>\n",
       "      <td>...</td>\n",
       "      <td>...</td>\n",
       "      <td>...</td>\n",
       "      <td>...</td>\n",
       "      <td>...</td>\n",
       "      <td>...</td>\n",
       "      <td>...</td>\n",
       "      <td>...</td>\n",
       "      <td>...</td>\n",
       "      <td>...</td>\n",
       "      <td>...</td>\n",
       "      <td>...</td>\n",
       "      <td>...</td>\n",
       "      <td>...</td>\n",
       "      <td>...</td>\n",
       "      <td>...</td>\n",
       "      <td>...</td>\n",
       "      <td>...</td>\n",
       "      <td>...</td>\n",
       "      <td>...</td>\n",
       "      <td>...</td>\n",
       "      <td>...</td>\n",
       "      <td>...</td>\n",
       "      <td>...</td>\n",
       "      <td>...</td>\n",
       "      <td>...</td>\n",
       "      <td>...</td>\n",
       "      <td>...</td>\n",
       "      <td>...</td>\n",
       "      <td>...</td>\n",
       "    </tr>\n",
       "    <tr>\n",
       "      <th>38526</th>\n",
       "      <td>Chrysler</td>\n",
       "      <td>300</td>\n",
       "      <td>automatic</td>\n",
       "      <td>silver</td>\n",
       "      <td>290000</td>\n",
       "      <td>2000</td>\n",
       "      <td>gasoline</td>\n",
       "      <td>False</td>\n",
       "      <td>gasoline</td>\n",
       "      <td>3.5</td>\n",
       "      <td>sedan</td>\n",
       "      <td>False</td>\n",
       "      <td>owned</td>\n",
       "      <td>front</td>\n",
       "      <td>2750.00</td>\n",
       "      <td>True</td>\n",
       "      <td>Минская обл.</td>\n",
       "      <td>5</td>\n",
       "      <td>85</td>\n",
       "      <td>False</td>\n",
       "      <td>True</td>\n",
       "      <td>False</td>\n",
       "      <td>False</td>\n",
       "      <td>True</td>\n",
       "      <td>True</td>\n",
       "      <td>False</td>\n",
       "      <td>False</td>\n",
       "      <td>True</td>\n",
       "      <td>True</td>\n",
       "      <td>301</td>\n",
       "      <td>25</td>\n",
       "    </tr>\n",
       "    <tr>\n",
       "      <th>38527</th>\n",
       "      <td>Chrysler</td>\n",
       "      <td>PT Cruiser</td>\n",
       "      <td>mechanical</td>\n",
       "      <td>blue</td>\n",
       "      <td>321000</td>\n",
       "      <td>2004</td>\n",
       "      <td>diesel</td>\n",
       "      <td>False</td>\n",
       "      <td>diesel</td>\n",
       "      <td>2.2</td>\n",
       "      <td>hatchback</td>\n",
       "      <td>False</td>\n",
       "      <td>owned</td>\n",
       "      <td>front</td>\n",
       "      <td>4800.00</td>\n",
       "      <td>True</td>\n",
       "      <td>Брестская обл.</td>\n",
       "      <td>4</td>\n",
       "      <td>20</td>\n",
       "      <td>False</td>\n",
       "      <td>True</td>\n",
       "      <td>False</td>\n",
       "      <td>False</td>\n",
       "      <td>True</td>\n",
       "      <td>True</td>\n",
       "      <td>False</td>\n",
       "      <td>False</td>\n",
       "      <td>True</td>\n",
       "      <td>True</td>\n",
       "      <td>317</td>\n",
       "      <td>21</td>\n",
       "    </tr>\n",
       "    <tr>\n",
       "      <th>38528</th>\n",
       "      <td>Chrysler</td>\n",
       "      <td>300</td>\n",
       "      <td>automatic</td>\n",
       "      <td>blue</td>\n",
       "      <td>777957</td>\n",
       "      <td>2000</td>\n",
       "      <td>gasoline</td>\n",
       "      <td>False</td>\n",
       "      <td>gasoline</td>\n",
       "      <td>3.5</td>\n",
       "      <td>sedan</td>\n",
       "      <td>False</td>\n",
       "      <td>owned</td>\n",
       "      <td>front</td>\n",
       "      <td>4300.00</td>\n",
       "      <td>False</td>\n",
       "      <td>Минская обл.</td>\n",
       "      <td>3</td>\n",
       "      <td>63</td>\n",
       "      <td>False</td>\n",
       "      <td>True</td>\n",
       "      <td>False</td>\n",
       "      <td>False</td>\n",
       "      <td>True</td>\n",
       "      <td>True</td>\n",
       "      <td>False</td>\n",
       "      <td>False</td>\n",
       "      <td>True</td>\n",
       "      <td>True</td>\n",
       "      <td>369</td>\n",
       "      <td>25</td>\n",
       "    </tr>\n",
       "    <tr>\n",
       "      <th>38529</th>\n",
       "      <td>Chrysler</td>\n",
       "      <td>PT Cruiser</td>\n",
       "      <td>mechanical</td>\n",
       "      <td>black</td>\n",
       "      <td>20000</td>\n",
       "      <td>2001</td>\n",
       "      <td>gasoline</td>\n",
       "      <td>False</td>\n",
       "      <td>gasoline</td>\n",
       "      <td>2.0</td>\n",
       "      <td>minivan</td>\n",
       "      <td>False</td>\n",
       "      <td>owned</td>\n",
       "      <td>front</td>\n",
       "      <td>4000.00</td>\n",
       "      <td>True</td>\n",
       "      <td>Брестская обл.</td>\n",
       "      <td>7</td>\n",
       "      <td>156</td>\n",
       "      <td>False</td>\n",
       "      <td>True</td>\n",
       "      <td>False</td>\n",
       "      <td>False</td>\n",
       "      <td>False</td>\n",
       "      <td>False</td>\n",
       "      <td>False</td>\n",
       "      <td>False</td>\n",
       "      <td>False</td>\n",
       "      <td>True</td>\n",
       "      <td>490</td>\n",
       "      <td>24</td>\n",
       "    </tr>\n",
       "    <tr>\n",
       "      <th>38530</th>\n",
       "      <td>Chrysler</td>\n",
       "      <td>Voyager</td>\n",
       "      <td>automatic</td>\n",
       "      <td>silver</td>\n",
       "      <td>297729</td>\n",
       "      <td>2000</td>\n",
       "      <td>gasoline</td>\n",
       "      <td>False</td>\n",
       "      <td>gasoline</td>\n",
       "      <td>2.4</td>\n",
       "      <td>minivan</td>\n",
       "      <td>False</td>\n",
       "      <td>owned</td>\n",
       "      <td>front</td>\n",
       "      <td>3200.00</td>\n",
       "      <td>True</td>\n",
       "      <td>Минская обл.</td>\n",
       "      <td>4</td>\n",
       "      <td>73</td>\n",
       "      <td>False</td>\n",
       "      <td>False</td>\n",
       "      <td>False</td>\n",
       "      <td>False</td>\n",
       "      <td>False</td>\n",
       "      <td>False</td>\n",
       "      <td>False</td>\n",
       "      <td>False</td>\n",
       "      <td>False</td>\n",
       "      <td>True</td>\n",
       "      <td>632</td>\n",
       "      <td>25</td>\n",
       "    </tr>\n",
       "  </tbody>\n",
       "</table>\n",
       "<p>38491 rows × 31 columns</p>\n",
       "</div>"
      ],
      "text/plain": [
       "      manufacturer_name  model_name transmission   color  odometer_value  \\\n",
       "0                Subaru     Outback    automatic  silver          190000   \n",
       "1                Subaru     Outback    automatic    blue          290000   \n",
       "2                Subaru    Forester    automatic     red          402000   \n",
       "3                Subaru     Impreza   mechanical    blue           10000   \n",
       "4                Subaru      Legacy    automatic   black          280000   \n",
       "...                 ...         ...          ...     ...             ...   \n",
       "38526          Chrysler         300    automatic  silver          290000   \n",
       "38527          Chrysler  PT Cruiser   mechanical    blue          321000   \n",
       "38528          Chrysler         300    automatic    blue          777957   \n",
       "38529          Chrysler  PT Cruiser   mechanical   black           20000   \n",
       "38530          Chrysler     Voyager    automatic  silver          297729   \n",
       "\n",
       "       year_produced engine_fuel  engine_has_gas engine_type  engine_capacity  \\\n",
       "0               2010    gasoline           False    gasoline              2.5   \n",
       "1               2002    gasoline           False    gasoline              3.0   \n",
       "2               2001    gasoline           False    gasoline              2.5   \n",
       "3               1999    gasoline           False    gasoline              3.0   \n",
       "4               2001    gasoline           False    gasoline              2.5   \n",
       "...              ...         ...             ...         ...              ...   \n",
       "38526           2000    gasoline           False    gasoline              3.5   \n",
       "38527           2004      diesel           False      diesel              2.2   \n",
       "38528           2000    gasoline           False    gasoline              3.5   \n",
       "38529           2001    gasoline           False    gasoline              2.0   \n",
       "38530           2000    gasoline           False    gasoline              2.4   \n",
       "\n",
       "       body_type  has_warranty  state drivetrain  price_usd  is_exchangeable  \\\n",
       "0      universal         False  owned        all   10900.00            False   \n",
       "1      universal         False  owned        all    5000.00             True   \n",
       "2            suv         False  owned        all    2800.00             True   \n",
       "3          sedan         False  owned        all    9999.00             True   \n",
       "4      universal         False  owned        all    2134.11             True   \n",
       "...          ...           ...    ...        ...        ...              ...   \n",
       "38526      sedan         False  owned      front    2750.00             True   \n",
       "38527  hatchback         False  owned      front    4800.00             True   \n",
       "38528      sedan         False  owned      front    4300.00            False   \n",
       "38529    minivan         False  owned      front    4000.00             True   \n",
       "38530    minivan         False  owned      front    3200.00             True   \n",
       "\n",
       "       location_region  number_of_photos  up_counter  feature_0  feature_1  \\\n",
       "0         Минская обл.                 9          13      False       True   \n",
       "1         Минская обл.                12          54      False       True   \n",
       "2         Минская обл.                 4          72      False       True   \n",
       "3         Минская обл.                 9          42       True      False   \n",
       "4      Гомельская обл.                14           7      False       True   \n",
       "...                ...               ...         ...        ...        ...   \n",
       "38526     Минская обл.                 5          85      False       True   \n",
       "38527   Брестская обл.                 4          20      False       True   \n",
       "38528     Минская обл.                 3          63      False       True   \n",
       "38529   Брестская обл.                 7         156      False       True   \n",
       "38530     Минская обл.                 4          73      False      False   \n",
       "\n",
       "       feature_2  feature_3  feature_4  feature_5  feature_6  feature_7  \\\n",
       "0           True       True      False       True      False       True   \n",
       "1          False      False       True       True      False      False   \n",
       "2          False      False      False      False      False      False   \n",
       "3          False      False      False      False      False      False   \n",
       "4          False       True       True      False      False      False   \n",
       "...          ...        ...        ...        ...        ...        ...   \n",
       "38526      False      False       True       True      False      False   \n",
       "38527      False      False       True       True      False      False   \n",
       "38528      False      False       True       True      False      False   \n",
       "38529      False      False      False      False      False      False   \n",
       "38530      False      False      False      False      False      False   \n",
       "\n",
       "       feature_8  feature_9  duration_listed  car_age  \n",
       "0           True       True               16       15  \n",
       "1          False       True               83       23  \n",
       "2           True       True              151       24  \n",
       "3          False      False               86       26  \n",
       "4          False       True                7       24  \n",
       "...          ...        ...              ...      ...  \n",
       "38526       True       True              301       25  \n",
       "38527       True       True              317       21  \n",
       "38528       True       True              369       25  \n",
       "38529      False       True              490       24  \n",
       "38530      False       True              632       25  \n",
       "\n",
       "[38491 rows x 31 columns]"
      ]
     },
     "execution_count": 11,
     "metadata": {},
     "output_type": "execute_result"
    }
   ],
   "source": [
    "data['car_age'] = 2025 - data['year_produced']\n",
    "data"
   ]
  },
  {
   "cell_type": "markdown",
   "id": "36b06b63",
   "metadata": {},
   "source": [
    "Kolom car_age dibuat untuk melihat umur setiap mobil."
   ]
  },
  {
   "cell_type": "markdown",
   "id": "2bd72d76",
   "metadata": {},
   "source": [
    "# 5. EDA"
   ]
  },
  {
   "cell_type": "code",
   "execution_count": 19,
   "id": "ce9705af",
   "metadata": {},
   "outputs": [
    {
     "data": {
      "image/png": "[encoded data removed]",
      "text/plain": [
       "<Figure size 640x480 with 1 Axes>"
      ]
     },
     "metadata": {},
     "output_type": "display_data"
    }
   ],
   "source": [
    "sns.histplot(data['price_usd'], bins=50, kde=True)\n",
    "plt.xlabel('Price in USD')\n",
    "plt.ylabel('Number of Car')\n",
    "plt.title(\"Distribution of Car Prices\")\n",
    "plt.savefig('car_price_distribution.png', dpi=300, bbox_inches='tight')\n",
    "plt.show()"
   ]
  },
  {
   "cell_type": "markdown",
   "id": "40596c7a",
   "metadata": {},
   "source": [
    "Cell berikut menggambarkan distribusi harga mobil bekas dalam histogram. Persebaran harga skew ke kiri dimana banyak mobil dijual dengan harga sekitar 5000 dolar. Semakin harga nya naik semakin sedikit mobil yang dijual. Bisa dibilang lebih banyak mobil umum yang dijual dibadingkan dengan mobil antik."
   ]
  },
  {
   "cell_type": "code",
   "execution_count": 26,
   "id": "76b45db3",
   "metadata": {},
   "outputs": [
    {
     "data": {
      "image/png": "[encoded data removed]",
      "text/plain": [
       "<Figure size 640x480 with 1 Axes>"
      ]
     },
     "metadata": {},
     "output_type": "display_data"
    }
   ],
   "source": [
    "data['manufacturer_name'].value_counts().head(10).plot(kind='bar')\n",
    "plt.title('Top 10 Car Brands')\n",
    "plt.xlabel('Car Brands')\n",
    "plt.ylabel('Number of Cars')\n",
    "plt.savefig('top_10_car_brands.png', dpi=300, bbox_inches='tight')\n",
    "plt.show()"
   ]
  },
  {
   "cell_type": "markdown",
   "id": "802b5726",
   "metadata": {},
   "source": [
    "Cell ini menampilkan 10 brand mobil yang popular dijual. Volkswagen adalah brand yang paling sering dijual dengan sebanyak 4000 model dan Nissan di urutan ke 10 dengan sekitar 1500 model yang dijual. Sebanyak 8 mobil Eropa, 1 mobil Amerika, dan 1 mobil Jepang. Bisa dibilang mobil Eropa lebih banyak peminat nya dibandingkan mobil Amerika dan Jepang."
   ]
  },
  {
   "cell_type": "code",
   "execution_count": 38,
   "id": "5821c785",
   "metadata": {},
   "outputs": [
    {
     "data": {
      "image/png": "[encoded data removed]",
      "text/plain": [
       "<Figure size 640x480 with 1 Axes>"
      ]
     },
     "metadata": {},
     "output_type": "display_data"
    }
   ],
   "source": [
    "# sns.scatterplot(x='odometer_value', y='price_usd', data=data)\n",
    "# plt.title(\"Odometer vs Price\")\n",
    "# plt.xlabel('Odometer Value')\n",
    "# plt.ylabel('Car Price in USD')\n",
    "# plt.show()\n",
    "sns.scatterplot(x='odometer_value', y='price_usd', data=data)\n",
    "plt.title(\"Odometer vs Price\")\n",
    "plt.xlabel('Odometer Value (in km)')\n",
    "plt.ylabel('Car Price in USD')\n",
    "\n",
    "# Format the x-axis to show full numbers with commas\n",
    "ax = plt.gca()\n",
    "ax.xaxis.set_major_formatter(ticker.FuncFormatter(lambda x, _: f'{x/1000:.0f}k'))\n",
    "\n",
    "plt.tight_layout()\n",
    "plt.savefig('odometer_vs_price.png', dpi=300, bbox_inches='tight')\n",
    "plt.show()  "
   ]
  },
  {
   "cell_type": "markdown",
   "id": "ed07123d",
   "metadata": {},
   "source": [
    "Cell ini menampilkan hubungan antara kolom odometer_value dengan price_usd menggunakan scatterplot. Terlihat ada korelasi negatif dimana semakin tinggi odometer_value semakin rendah harga mobil yang dijual. Bisa dibilang semakin sering dan lama mobil digunakan bedasarkan jarak tempuh nya semakin murah harga mobil nya."
   ]
  },
  {
   "cell_type": "code",
   "execution_count": 40,
   "id": "0a0c0a2b",
   "metadata": {},
   "outputs": [
    {
     "data": {
      "image/png": "[encoded data removed]",
      "text/plain": [
       "<Figure size 640x480 with 1 Axes>"
      ]
     },
     "metadata": {},
     "output_type": "display_data"
    }
   ],
   "source": [
    "sns.scatterplot(x='car_age', y='price_usd', data=data)\n",
    "plt.title(\"Car Age vs Price\")\n",
    "plt.xlabel('Car Age')\n",
    "plt.ylabel('Price in USD')\n",
    "plt.savefig('car_age_vs_price.png', dpi=300, bbox_inches='tight')\n",
    "plt.show()"
   ]
  },
  {
   "cell_type": "markdown",
   "id": "1a85540e",
   "metadata": {},
   "source": [
    "Cell ini menampilkan hubungan antara kolom car_age dengan price_usd menggunakan scatterplot. Bedasarkan scatterplot, banyak mobil dijual berurumur 10 sampai 30 tahun. Terlihat ada korelasi negatif dimana semakin tinggi car_age semakin rendah harga mobil yang dijual. Bisa dibilang semakin tua mobil, semakin murah harga mobil nya. Tetapi bedasarkan scarplot ada data point dimana umur mobil lebih dari 30 tahun tetapi harga jual nya lebih banyak. Bisa dibilang data point ini adalah mobil antik dimana umur tidak terlalu mempengaruhi harga jual."
   ]
  },
  {
   "cell_type": "markdown",
   "id": "07802325",
   "metadata": {},
   "source": [
    "Distribusi body_type"
   ]
  },
  {
   "cell_type": "code",
   "execution_count": 18,
   "id": "1bc7dab3",
   "metadata": {},
   "outputs": [
    {
     "data": {
      "application/vnd.plotly.v1+json": {
       "config": {
        "plotlyServerURL": "https://plot.ly"
       },
       "data": [
        {
         "domain": {
          "x": [
           0,
           1
          ],
          "y": [
           0,
           1
          ]
         },
         "hovertemplate": "body_type=%{label}<br>price_usd=%{value}<extra></extra>",
         "labels": [
          "cabriolet",
          "coupe",
          "hatchback",
          "liftback",
          "limousine",
          "minibus",
          "minivan",
          "pickup",
          "sedan",
          "suv",
          "universal",
          "van"
         ],
         "legendgroup": "",
         "name": "",
         "showlegend": true,
         "type": "pie",
         "values": {
          "bdata": "NaXi7MNvxUAWBU0iyiG9QEXS6fSqiK9AQMrznrnAvkBVVVVVFdq/QANhpB0ficBA10dsfczyt0BD2SeaGvLGQD2vVtL5lbZAF2IcxvrjykDjSUatYJizQAtFw8KLErpA",
          "dtype": "f8"
         }
        }
       ],
       "layout": {
        "legend": {
         "tracegroupgap": 0
        },
        "template": {
         "data": {
          "bar": [
           {
            "error_x": {
             "color": "#2a3f5f"
            },
            "error_y": {
             "color": "#2a3f5f"
            },
            "marker": {
             "line": {
              "color": "#E5ECF6",
              "width": 0.5
             },
             "pattern": {
              "fillmode": "overlay",
              "size": 10,
              "solidity": 0.2
             }
            },
            "type": "bar"
           }
          ],
          "barpolar": [
           {
            "marker": {
             "line": {
              "color": "#E5ECF6",
              "width": 0.5
             },
             "pattern": {
              "fillmode": "overlay",
              "size": 10,
              "solidity": 0.2
             }
            },
            "type": "barpolar"
           }
          ],
          "carpet": [
           {
            "aaxis": {
             "endlinecolor": "#2a3f5f",
             "gridcolor": "white",
             "linecolor": "white",
             "minorgridcolor": "white",
             "startlinecolor": "#2a3f5f"
            },
            "baxis": {
             "endlinecolor": "#2a3f5f",
             "gridcolor": "white",
             "linecolor": "white",
             "minorgridcolor": "white",
             "startlinecolor": "#2a3f5f"
            },
            "type": "carpet"
           }
          ],
          "choropleth": [
           {
            "colorbar": {
             "outlinewidth": 0,
             "ticks": ""
            },
            "type": "choropleth"
           }
          ],
          "contour": [
           {
            "colorbar": {
             "outlinewidth": 0,
             "ticks": ""
            },
            "colorscale": [
             [
              0,
              "#0d0887"
             ],
             [
              0.1111111111111111,
              "#46039f"
             ],
             [
              0.2222222222222222,
              "#7201a8"
             ],
             [
              0.3333333333333333,
              "#9c179e"
             ],
             [
              0.4444444444444444,
              "#bd3786"
             ],
             [
              0.5555555555555556,
              "#d8576b"
             ],
             [
              0.6666666666666666,
              "#ed7953"
             ],
             [
              0.7777777777777778,
              "#fb9f3a"
             ],
             [
              0.8888888888888888,
              "#fdca26"
             ],
             [
              1,
              "#f0f921"
             ]
            ],
            "type": "contour"
           }
          ],
          "contourcarpet": [
           {
            "colorbar": {
             "outlinewidth": 0,
             "ticks": ""
            },
            "type": "contourcarpet"
           }
          ],
          "heatmap": [
           {
            "colorbar": {
             "outlinewidth": 0,
             "ticks": ""
            },
            "colorscale": [
             [
              0,
              "#0d0887"
             ],
             [
              0.1111111111111111,
              "#46039f"
             ],
             [
              0.2222222222222222,
              "#7201a8"
             ],
             [
              0.3333333333333333,
              "#9c179e"
             ],
             [
              0.4444444444444444,
              "#bd3786"
             ],
             [
              0.5555555555555556,
              "#d8576b"
             ],
             [
              0.6666666666666666,
              "#ed7953"
             ],
             [
              0.7777777777777778,
              "#fb9f3a"
             ],
             [
              0.8888888888888888,
              "#fdca26"
             ],
             [
              1,
              "#f0f921"
             ]
            ],
            "type": "heatmap"
           }
          ],
          "histogram": [
           {
            "marker": {
             "pattern": {
              "fillmode": "overlay",
              "size": 10,
              "solidity": 0.2
             }
            },
            "type": "histogram"
           }
          ],
          "histogram2d": [
           {
            "colorbar": {
             "outlinewidth": 0,
             "ticks": ""
            },
            "colorscale": [
             [
              0,
              "#0d0887"
             ],
             [
              0.1111111111111111,
              "#46039f"
             ],
             [
              0.2222222222222222,
              "#7201a8"
             ],
             [
              0.3333333333333333,
              "#9c179e"
             ],
             [
              0.4444444444444444,
              "#bd3786"
             ],
             [
              0.5555555555555556,
              "#d8576b"
             ],
             [
              0.6666666666666666,
              "#ed7953"
             ],
             [
              0.7777777777777778,
              "#fb9f3a"
             ],
             [
              0.8888888888888888,
              "#fdca26"
             ],
             [
              1,
              "#f0f921"
             ]
            ],
            "type": "histogram2d"
           }
          ],
          "histogram2dcontour": [
           {
            "colorbar": {
             "outlinewidth": 0,
             "ticks": ""
            },
            "colorscale": [
             [
              0,
              "#0d0887"
             ],
             [
              0.1111111111111111,
              "#46039f"
             ],
             [
              0.2222222222222222,
              "#7201a8"
             ],
             [
              0.3333333333333333,
              "#9c179e"
             ],
             [
              0.4444444444444444,
              "#bd3786"
             ],
             [
              0.5555555555555556,
              "#d8576b"
             ],
             [
              0.6666666666666666,
              "#ed7953"
             ],
             [
              0.7777777777777778,
              "#fb9f3a"
             ],
             [
              0.8888888888888888,
              "#fdca26"
             ],
             [
              1,
              "#f0f921"
             ]
            ],
            "type": "histogram2dcontour"
           }
          ],
          "mesh3d": [
           {
            "colorbar": {
             "outlinewidth": 0,
             "ticks": ""
            },
            "type": "mesh3d"
           }
          ],
          "parcoords": [
           {
            "line": {
             "colorbar": {
              "outlinewidth": 0,
              "ticks": ""
             }
            },
            "type": "parcoords"
           }
          ],
          "pie": [
           {
            "automargin": true,
            "type": "pie"
           }
          ],
          "scatter": [
           {
            "fillpattern": {
             "fillmode": "overlay",
             "size": 10,
             "solidity": 0.2
            },
            "type": "scatter"
           }
          ],
          "scatter3d": [
           {
            "line": {
             "colorbar": {
              "outlinewidth": 0,
              "ticks": ""
             }
            },
            "marker": {
             "colorbar": {
              "outlinewidth": 0,
              "ticks": ""
             }
            },
            "type": "scatter3d"
           }
          ],
          "scattercarpet": [
           {
            "marker": {
             "colorbar": {
              "outlinewidth": 0,
              "ticks": ""
             }
            },
            "type": "scattercarpet"
           }
          ],
          "scattergeo": [
           {
            "marker": {
             "colorbar": {
              "outlinewidth": 0,
              "ticks": ""
             }
            },
            "type": "scattergeo"
           }
          ],
          "scattergl": [
           {
            "marker": {
             "colorbar": {
              "outlinewidth": 0,
              "ticks": ""
             }
            },
            "type": "scattergl"
           }
          ],
          "scattermap": [
           {
            "marker": {
             "colorbar": {
              "outlinewidth": 0,
              "ticks": ""
             }
            },
            "type": "scattermap"
           }
          ],
          "scattermapbox": [
           {
            "marker": {
             "colorbar": {
              "outlinewidth": 0,
              "ticks": ""
             }
            },
            "type": "scattermapbox"
           }
          ],
          "scatterpolar": [
           {
            "marker": {
             "colorbar": {
              "outlinewidth": 0,
              "ticks": ""
             }
            },
            "type": "scatterpolar"
           }
          ],
          "scatterpolargl": [
           {
            "marker": {
             "colorbar": {
              "outlinewidth": 0,
              "ticks": ""
             }
            },
            "type": "scatterpolargl"
           }
          ],
          "scatterternary": [
           {
            "marker": {
             "colorbar": {
              "outlinewidth": 0,
              "ticks": ""
             }
            },
            "type": "scatterternary"
           }
          ],
          "surface": [
           {
            "colorbar": {
             "outlinewidth": 0,
             "ticks": ""
            },
            "colorscale": [
             [
              0,
              "#0d0887"
             ],
             [
              0.1111111111111111,
              "#46039f"
             ],
             [
              0.2222222222222222,
              "#7201a8"
             ],
             [
              0.3333333333333333,
              "#9c179e"
             ],
             [
              0.4444444444444444,
              "#bd3786"
             ],
             [
              0.5555555555555556,
              "#d8576b"
             ],
             [
              0.6666666666666666,
              "#ed7953"
             ],
             [
              0.7777777777777778,
              "#fb9f3a"
             ],
             [
              0.8888888888888888,
              "#fdca26"
             ],
             [
              1,
              "#f0f921"
             ]
            ],
            "type": "surface"
           }
          ],
          "table": [
           {
            "cells": {
             "fill": {
              "color": "#EBF0F8"
             },
             "line": {
              "color": "white"
             }
            },
            "header": {
             "fill": {
              "color": "#C8D4E3"
             },
             "line": {
              "color": "white"
             }
            },
            "type": "table"
           }
          ]
         },
         "layout": {
          "annotationdefaults": {
           "arrowcolor": "#2a3f5f",
           "arrowhead": 0,
           "arrowwidth": 1
          },
          "autotypenumbers": "strict",
          "coloraxis": {
           "colorbar": {
            "outlinewidth": 0,
            "ticks": ""
           }
          },
          "colorscale": {
           "diverging": [
            [
             0,
             "#8e0152"
            ],
            [
             0.1,
             "#c51b7d"
            ],
            [
             0.2,
             "#de77ae"
            ],
            [
             0.3,
             "#f1b6da"
            ],
            [
             0.4,
             "#fde0ef"
            ],
            [
             0.5,
             "#f7f7f7"
            ],
            [
             0.6,
             "#e6f5d0"
            ],
            [
             0.7,
             "#b8e186"
            ],
            [
             0.8,
             "#7fbc41"
            ],
            [
             0.9,
             "#4d9221"
            ],
            [
             1,
             "#276419"
            ]
           ],
           "sequential": [
            [
             0,
             "#0d0887"
            ],
            [
             0.1111111111111111,
             "#46039f"
            ],
            [
             0.2222222222222222,
             "#7201a8"
            ],
            [
             0.3333333333333333,
             "#9c179e"
            ],
            [
             0.4444444444444444,
             "#bd3786"
            ],
            [
             0.5555555555555556,
             "#d8576b"
            ],
            [
             0.6666666666666666,
             "#ed7953"
            ],
            [
             0.7777777777777778,
             "#fb9f3a"
            ],
            [
             0.8888888888888888,
             "#fdca26"
            ],
            [
             1,
             "#f0f921"
            ]
           ],
           "sequentialminus": [
            [
             0,
             "#0d0887"
            ],
            [
             0.1111111111111111,
             "#46039f"
            ],
            [
             0.2222222222222222,
             "#7201a8"
            ],
            [
             0.3333333333333333,
             "#9c179e"
            ],
            [
             0.4444444444444444,
             "#bd3786"
            ],
            [
             0.5555555555555556,
             "#d8576b"
            ],
            [
             0.6666666666666666,
             "#ed7953"
            ],
            [
             0.7777777777777778,
             "#fb9f3a"
            ],
            [
             0.8888888888888888,
             "#fdca26"
            ],
            [
             1,
             "#f0f921"
            ]
           ]
          },
          "colorway": [
           "#636efa",
           "#EF553B",
           "#00cc96",
           "#ab63fa",
           "#FFA15A",
           "#19d3f3",
           "#FF6692",
           "#B6E880",
           "#FF97FF",
           "#FECB52"
          ],
          "font": {
           "color": "#2a3f5f"
          },
          "geo": {
           "bgcolor": "white",
           "lakecolor": "white",
           "landcolor": "#E5ECF6",
           "showlakes": true,
           "showland": true,
           "subunitcolor": "white"
          },
          "hoverlabel": {
           "align": "left"
          },
          "hovermode": "closest",
          "mapbox": {
           "style": "light"
          },
          "paper_bgcolor": "white",
          "plot_bgcolor": "#E5ECF6",
          "polar": {
           "angularaxis": {
            "gridcolor": "white",
            "linecolor": "white",
            "ticks": ""
           },
           "bgcolor": "#E5ECF6",
           "radialaxis": {
            "gridcolor": "white",
            "linecolor": "white",
            "ticks": ""
           }
          },
          "scene": {
           "xaxis": {
            "backgroundcolor": "#E5ECF6",
            "gridcolor": "white",
            "gridwidth": 2,
            "linecolor": "white",
            "showbackground": true,
            "ticks": "",
            "zerolinecolor": "white"
           },
           "yaxis": {
            "backgroundcolor": "#E5ECF6",
            "gridcolor": "white",
            "gridwidth": 2,
            "linecolor": "white",
            "showbackground": true,
            "ticks": "",
            "zerolinecolor": "white"
           },
           "zaxis": {
            "backgroundcolor": "#E5ECF6",
            "gridcolor": "white",
            "gridwidth": 2,
            "linecolor": "white",
            "showbackground": true,
            "ticks": "",
            "zerolinecolor": "white"
           }
          },
          "shapedefaults": {
           "line": {
            "color": "#2a3f5f"
           }
          },
          "ternary": {
           "aaxis": {
            "gridcolor": "white",
            "linecolor": "white",
            "ticks": ""
           },
           "baxis": {
            "gridcolor": "white",
            "linecolor": "white",
            "ticks": ""
           },
           "bgcolor": "#E5ECF6",
           "caxis": {
            "gridcolor": "white",
            "linecolor": "white",
            "ticks": ""
           }
          },
          "title": {
           "x": 0.05
          },
          "xaxis": {
           "automargin": true,
           "gridcolor": "white",
           "linecolor": "white",
           "ticks": "",
           "title": {
            "standoff": 15
           },
           "zerolinecolor": "white",
           "zerolinewidth": 2
          },
          "yaxis": {
           "automargin": true,
           "gridcolor": "white",
           "linecolor": "white",
           "ticks": "",
           "title": {
            "standoff": 15
           },
           "zerolinecolor": "white",
           "zerolinewidth": 2
          }
         }
        },
        "title": {
         "text": "Proportion of Car Body Type"
        }
       }
      }
     },
     "metadata": {},
     "output_type": "display_data"
    }
   ],
   "source": [
    "# body_type_vis = data.groupby('body_type')[['price_usd']].mean().reset_index()\n",
    "# fig = px.pie(body_type_vis,values='price_usd',names='body_type',title='Proporsi Jenis Bentuk Mobil')\n",
    "# fig.show()\n",
    "\n",
    "body_type_vis = data.groupby('body_type')[['price_usd']].mean().reset_index()\n",
    "fig = px.pie(body_type_vis, values='price_usd', names='body_type', title='Proportion of Car Body Type')\n",
    "\n",
    "# Save as PNG (requires Kaleido)\n",
    "fig.write_image(\"body_type_pie_chart.png\", scale=2)  # High-res\n",
    "\n",
    "# Optional: Show it\n",
    "fig.show()\n"
   ]
  },
  {
   "cell_type": "markdown",
   "id": "a4fd2cf1",
   "metadata": {},
   "source": [
    "Cell ini menampilkan proporsi jenis mobil yang dijual. Terdapat 12 jenis mobil dan yang paling banyak adalah tipe suv sebanyak 14.3%, kedua adalah pickup 12.2%, dan ketiga adalah cabriolet atau roadster sebanyak 11.4%."
   ]
  },
  {
   "cell_type": "code",
   "execution_count": 17,
   "id": "367e7092",
   "metadata": {},
   "outputs": [
    {
     "data": {
      "application/vnd.plotly.v1+json": {
       "config": {
        "plotlyServerURL": "https://plot.ly"
       },
       "data": [
        {
         "domain": {
          "x": [
           0,
           1
          ],
          "y": [
           0,
           1
          ]
         },
         "hovertemplate": "drivetrain=%{label}<br>price_usd=%{value}<extra></extra>",
         "labels": [
          "all",
          "front",
          "rear"
         ],
         "legendgroup": "",
         "name": "",
         "showlegend": true,
         "type": "pie",
         "values": {
          "bdata": "ZTf2OB2kykDy3OW7T/S0QBQYzO3FCbhA",
          "dtype": "f8"
         }
        }
       ],
       "layout": {
        "legend": {
         "tracegroupgap": 0
        },
        "template": {
         "data": {
          "bar": [
           {
            "error_x": {
             "color": "#2a3f5f"
            },
            "error_y": {
             "color": "#2a3f5f"
            },
            "marker": {
             "line": {
              "color": "#E5ECF6",
              "width": 0.5
             },
             "pattern": {
              "fillmode": "overlay",
              "size": 10,
              "solidity": 0.2
             }
            },
            "type": "bar"
           }
          ],
          "barpolar": [
           {
            "marker": {
             "line": {
              "color": "#E5ECF6",
              "width": 0.5
             },
             "pattern": {
              "fillmode": "overlay",
              "size": 10,
              "solidity": 0.2
             }
            },
            "type": "barpolar"
           }
          ],
          "carpet": [
           {
            "aaxis": {
             "endlinecolor": "#2a3f5f",
             "gridcolor": "white",
             "linecolor": "white",
             "minorgridcolor": "white",
             "startlinecolor": "#2a3f5f"
            },
            "baxis": {
             "endlinecolor": "#2a3f5f",
             "gridcolor": "white",
             "linecolor": "white",
             "minorgridcolor": "white",
             "startlinecolor": "#2a3f5f"
            },
            "type": "carpet"
           }
          ],
          "choropleth": [
           {
            "colorbar": {
             "outlinewidth": 0,
             "ticks": ""
            },
            "type": "choropleth"
           }
          ],
          "contour": [
           {
            "colorbar": {
             "outlinewidth": 0,
             "ticks": ""
            },
            "colorscale": [
             [
              0,
              "#0d0887"
             ],
             [
              0.1111111111111111,
              "#46039f"
             ],
             [
              0.2222222222222222,
              "#7201a8"
             ],
             [
              0.3333333333333333,
              "#9c179e"
             ],
             [
              0.4444444444444444,
              "#bd3786"
             ],
             [
              0.5555555555555556,
              "#d8576b"
             ],
             [
              0.6666666666666666,
              "#ed7953"
             ],
             [
              0.7777777777777778,
              "#fb9f3a"
             ],
             [
              0.8888888888888888,
              "#fdca26"
             ],
             [
              1,
              "#f0f921"
             ]
            ],
            "type": "contour"
           }
          ],
          "contourcarpet": [
           {
            "colorbar": {
             "outlinewidth": 0,
             "ticks": ""
            },
            "type": "contourcarpet"
           }
          ],
          "heatmap": [
           {
            "colorbar": {
             "outlinewidth": 0,
             "ticks": ""
            },
            "colorscale": [
             [
              0,
              "#0d0887"
             ],
             [
              0.1111111111111111,
              "#46039f"
             ],
             [
              0.2222222222222222,
              "#7201a8"
             ],
             [
              0.3333333333333333,
              "#9c179e"
             ],
             [
              0.4444444444444444,
              "#bd3786"
             ],
             [
              0.5555555555555556,
              "#d8576b"
             ],
             [
              0.6666666666666666,
              "#ed7953"
             ],
             [
              0.7777777777777778,
              "#fb9f3a"
             ],
             [
              0.8888888888888888,
              "#fdca26"
             ],
             [
              1,
              "#f0f921"
             ]
            ],
            "type": "heatmap"
           }
          ],
          "histogram": [
           {
            "marker": {
             "pattern": {
              "fillmode": "overlay",
              "size": 10,
              "solidity": 0.2
             }
            },
            "type": "histogram"
           }
          ],
          "histogram2d": [
           {
            "colorbar": {
             "outlinewidth": 0,
             "ticks": ""
            },
            "colorscale": [
             [
              0,
              "#0d0887"
             ],
             [
              0.1111111111111111,
              "#46039f"
             ],
             [
              0.2222222222222222,
              "#7201a8"
             ],
             [
              0.3333333333333333,
              "#9c179e"
             ],
             [
              0.4444444444444444,
              "#bd3786"
             ],
             [
              0.5555555555555556,
              "#d8576b"
             ],
             [
              0.6666666666666666,
              "#ed7953"
             ],
             [
              0.7777777777777778,
              "#fb9f3a"
             ],
             [
              0.8888888888888888,
              "#fdca26"
             ],
             [
              1,
              "#f0f921"
             ]
            ],
            "type": "histogram2d"
           }
          ],
          "histogram2dcontour": [
           {
            "colorbar": {
             "outlinewidth": 0,
             "ticks": ""
            },
            "colorscale": [
             [
              0,
              "#0d0887"
             ],
             [
              0.1111111111111111,
              "#46039f"
             ],
             [
              0.2222222222222222,
              "#7201a8"
             ],
             [
              0.3333333333333333,
              "#9c179e"
             ],
             [
              0.4444444444444444,
              "#bd3786"
             ],
             [
              0.5555555555555556,
              "#d8576b"
             ],
             [
              0.6666666666666666,
              "#ed7953"
             ],
             [
              0.7777777777777778,
              "#fb9f3a"
             ],
             [
              0.8888888888888888,
              "#fdca26"
             ],
             [
              1,
              "#f0f921"
             ]
            ],
            "type": "histogram2dcontour"
           }
          ],
          "mesh3d": [
           {
            "colorbar": {
             "outlinewidth": 0,
             "ticks": ""
            },
            "type": "mesh3d"
           }
          ],
          "parcoords": [
           {
            "line": {
             "colorbar": {
              "outlinewidth": 0,
              "ticks": ""
             }
            },
            "type": "parcoords"
           }
          ],
          "pie": [
           {
            "automargin": true,
            "type": "pie"
           }
          ],
          "scatter": [
           {
            "fillpattern": {
             "fillmode": "overlay",
             "size": 10,
             "solidity": 0.2
            },
            "type": "scatter"
           }
          ],
          "scatter3d": [
           {
            "line": {
             "colorbar": {
              "outlinewidth": 0,
              "ticks": ""
             }
            },
            "marker": {
             "colorbar": {
              "outlinewidth": 0,
              "ticks": ""
             }
            },
            "type": "scatter3d"
           }
          ],
          "scattercarpet": [
           {
            "marker": {
             "colorbar": {
              "outlinewidth": 0,
              "ticks": ""
             }
            },
            "type": "scattercarpet"
           }
          ],
          "scattergeo": [
           {
            "marker": {
             "colorbar": {
              "outlinewidth": 0,
              "ticks": ""
             }
            },
            "type": "scattergeo"
           }
          ],
          "scattergl": [
           {
            "marker": {
             "colorbar": {
              "outlinewidth": 0,
              "ticks": ""
             }
            },
            "type": "scattergl"
           }
          ],
          "scattermap": [
           {
            "marker": {
             "colorbar": {
              "outlinewidth": 0,
              "ticks": ""
             }
            },
            "type": "scattermap"
           }
          ],
          "scattermapbox": [
           {
            "marker": {
             "colorbar": {
              "outlinewidth": 0,
              "ticks": ""
             }
            },
            "type": "scattermapbox"
           }
          ],
          "scatterpolar": [
           {
            "marker": {
             "colorbar": {
              "outlinewidth": 0,
              "ticks": ""
             }
            },
            "type": "scatterpolar"
           }
          ],
          "scatterpolargl": [
           {
            "marker": {
             "colorbar": {
              "outlinewidth": 0,
              "ticks": ""
             }
            },
            "type": "scatterpolargl"
           }
          ],
          "scatterternary": [
           {
            "marker": {
             "colorbar": {
              "outlinewidth": 0,
              "ticks": ""
             }
            },
            "type": "scatterternary"
           }
          ],
          "surface": [
           {
            "colorbar": {
             "outlinewidth": 0,
             "ticks": ""
            },
            "colorscale": [
             [
              0,
              "#0d0887"
             ],
             [
              0.1111111111111111,
              "#46039f"
             ],
             [
              0.2222222222222222,
              "#7201a8"
             ],
             [
              0.3333333333333333,
              "#9c179e"
             ],
             [
              0.4444444444444444,
              "#bd3786"
             ],
             [
              0.5555555555555556,
              "#d8576b"
             ],
             [
              0.6666666666666666,
              "#ed7953"
             ],
             [
              0.7777777777777778,
              "#fb9f3a"
             ],
             [
              0.8888888888888888,
              "#fdca26"
             ],
             [
              1,
              "#f0f921"
             ]
            ],
            "type": "surface"
           }
          ],
          "table": [
           {
            "cells": {
             "fill": {
              "color": "#EBF0F8"
             },
             "line": {
              "color": "white"
             }
            },
            "header": {
             "fill": {
              "color": "#C8D4E3"
             },
             "line": {
              "color": "white"
             }
            },
            "type": "table"
           }
          ]
         },
         "layout": {
          "annotationdefaults": {
           "arrowcolor": "#2a3f5f",
           "arrowhead": 0,
           "arrowwidth": 1
          },
          "autotypenumbers": "strict",
          "coloraxis": {
           "colorbar": {
            "outlinewidth": 0,
            "ticks": ""
           }
          },
          "colorscale": {
           "diverging": [
            [
             0,
             "#8e0152"
            ],
            [
             0.1,
             "#c51b7d"
            ],
            [
             0.2,
             "#de77ae"
            ],
            [
             0.3,
             "#f1b6da"
            ],
            [
             0.4,
             "#fde0ef"
            ],
            [
             0.5,
             "#f7f7f7"
            ],
            [
             0.6,
             "#e6f5d0"
            ],
            [
             0.7,
             "#b8e186"
            ],
            [
             0.8,
             "#7fbc41"
            ],
            [
             0.9,
             "#4d9221"
            ],
            [
             1,
             "#276419"
            ]
           ],
           "sequential": [
            [
             0,
             "#0d0887"
            ],
            [
             0.1111111111111111,
             "#46039f"
            ],
            [
             0.2222222222222222,
             "#7201a8"
            ],
            [
             0.3333333333333333,
             "#9c179e"
            ],
            [
             0.4444444444444444,
             "#bd3786"
            ],
            [
             0.5555555555555556,
             "#d8576b"
            ],
            [
             0.6666666666666666,
             "#ed7953"
            ],
            [
             0.7777777777777778,
             "#fb9f3a"
            ],
            [
             0.8888888888888888,
             "#fdca26"
            ],
            [
             1,
             "#f0f921"
            ]
           ],
           "sequentialminus": [
            [
             0,
             "#0d0887"
            ],
            [
             0.1111111111111111,
             "#46039f"
            ],
            [
             0.2222222222222222,
             "#7201a8"
            ],
            [
             0.3333333333333333,
             "#9c179e"
            ],
            [
             0.4444444444444444,
             "#bd3786"
            ],
            [
             0.5555555555555556,
             "#d8576b"
            ],
            [
             0.6666666666666666,
             "#ed7953"
            ],
            [
             0.7777777777777778,
             "#fb9f3a"
            ],
            [
             0.8888888888888888,
             "#fdca26"
            ],
            [
             1,
             "#f0f921"
            ]
           ]
          },
          "colorway": [
           "#636efa",
           "#EF553B",
           "#00cc96",
           "#ab63fa",
           "#FFA15A",
           "#19d3f3",
           "#FF6692",
           "#B6E880",
           "#FF97FF",
           "#FECB52"
          ],
          "font": {
           "color": "#2a3f5f"
          },
          "geo": {
           "bgcolor": "white",
           "lakecolor": "white",
           "landcolor": "#E5ECF6",
           "showlakes": true,
           "showland": true,
           "subunitcolor": "white"
          },
          "hoverlabel": {
           "align": "left"
          },
          "hovermode": "closest",
          "mapbox": {
           "style": "light"
          },
          "paper_bgcolor": "white",
          "plot_bgcolor": "#E5ECF6",
          "polar": {
           "angularaxis": {
            "gridcolor": "white",
            "linecolor": "white",
            "ticks": ""
           },
           "bgcolor": "#E5ECF6",
           "radialaxis": {
            "gridcolor": "white",
            "linecolor": "white",
            "ticks": ""
           }
          },
          "scene": {
           "xaxis": {
            "backgroundcolor": "#E5ECF6",
            "gridcolor": "white",
            "gridwidth": 2,
            "linecolor": "white",
            "showbackground": true,
            "ticks": "",
            "zerolinecolor": "white"
           },
           "yaxis": {
            "backgroundcolor": "#E5ECF6",
            "gridcolor": "white",
            "gridwidth": 2,
            "linecolor": "white",
            "showbackground": true,
            "ticks": "",
            "zerolinecolor": "white"
           },
           "zaxis": {
            "backgroundcolor": "#E5ECF6",
            "gridcolor": "white",
            "gridwidth": 2,
            "linecolor": "white",
            "showbackground": true,
            "ticks": "",
            "zerolinecolor": "white"
           }
          },
          "shapedefaults": {
           "line": {
            "color": "#2a3f5f"
           }
          },
          "ternary": {
           "aaxis": {
            "gridcolor": "white",
            "linecolor": "white",
            "ticks": ""
           },
           "baxis": {
            "gridcolor": "white",
            "linecolor": "white",
            "ticks": ""
           },
           "bgcolor": "#E5ECF6",
           "caxis": {
            "gridcolor": "white",
            "linecolor": "white",
            "ticks": ""
           }
          },
          "title": {
           "x": 0.05
          },
          "xaxis": {
           "automargin": true,
           "gridcolor": "white",
           "linecolor": "white",
           "ticks": "",
           "title": {
            "standoff": 15
           },
           "zerolinecolor": "white",
           "zerolinewidth": 2
          },
          "yaxis": {
           "automargin": true,
           "gridcolor": "white",
           "linecolor": "white",
           "ticks": "",
           "title": {
            "standoff": 15
           },
           "zerolinecolor": "white",
           "zerolinewidth": 2
          }
         }
        },
        "title": {
         "text": "Proportion of Drivetrain"
        }
       }
      }
     },
     "metadata": {},
     "output_type": "display_data"
    }
   ],
   "source": [
    "body_type_vis = data.groupby('drivetrain')[['price_usd']].mean().reset_index()\n",
    "fig = px.pie(body_type_vis,values='price_usd',names='drivetrain',title='Proportion of Drivetrain')\n",
    "\n",
    "fig.write_image(\"drivetrain_pie_chart.png\", scale=2)  # High-res\n",
    "fig.show()"
   ]
  },
  {
   "cell_type": "markdown",
   "id": "29a12528",
   "metadata": {},
   "source": [
    "Cell ini menampilkan proporsi jenis drive train yang dijual. Terdapat 3 jenis drive train yaitu all wheel drive, rear wheel drive dan front wheel drive. All wheel drive adalaha jenis drive train terbanyak dengan proporsi 54.2%. Front wheel dan Rear wheel memiliki proporsi yang hampir mirip. Bisa dibilang mobil dengan sistem all wheel drive lebih banyak peminat nya. Hal ini mungkin terkadi karena data di ambil di Belarus yang memiliki 4 musim. Mobil all wheel drive cenderung kokoh untuk banyak kondisi cuaca."
   ]
  },
  {
   "cell_type": "code",
   "execution_count": 19,
   "id": "7bfe0004",
   "metadata": {},
   "outputs": [
    {
     "data": {
      "application/vnd.plotly.v1+json": {
       "config": {
        "plotlyServerURL": "https://plot.ly"
       },
       "data": [
        {
         "branchvalues": "total",
         "customdata": {
          "bdata": "AAAAAAA4lkAAAAAAAHiHQAAAAAAAGIZAAAAAAAB4hUAAAAAAAOCDQAAAAAAAqIFAAAAAAAAggUAAAAAAAJB/QAAAAAAA8HlAAAAAAAAweEAAAAAAAMB3QAAAAAAAkHdAAAAAAAAwd0AAAAAAAOB2QAAAAAAAQHZAAAAAAAAgdkAAAAAAACB2QAAAAAAAoHVAAAAAAAAwdEAAAAAAABB0QAAAAAAAwHNAAAAAAAAAc0AAAAAAAMByQAAAAAAAkHJAAAAAAAAQckAAAAAAAAByQAAAAAAA0HBAAAAAAACgbUAAAAAAAKBtQAAAAAAAIG1AAAAAAABAbEAAAAAAACBsQAAAAAAAYGtAAAAAAAAgakAAAAAAAGBpQAAAAAAAAGlAAAAAAAAgaEAAAAAAAOBnQAAAAAAAoGdAAAAAAAAAZ0AAAAAAAOBmQAAAAAAAIGZAAAAAAACgZUAAAAAAACBlQAAAAAAAoGRAAAAAAACAZEAAAAAAAEBkQAAAAAAA4GNAAAAAAADgY0AAAAAAAGBjQFqCpJDqloxA8JYGQf+ZgUDdCO9wNlN+QJGH4Kt8NnpA7MRO7MRhe0DO8iQyDR9zQMCwzU7xTnNAXJj2kXi/cUDHlQTmPQF1QId+s3XoS3BAj9zv+o9BcUBE9iUfIJlwQAAAAAAAQGxAO7ETO7HzaECDG2Rzx/VkQJsUIgc9MWRA",
          "dtype": "f8",
          "shape": "66, 1"
         },
         "domain": {
          "x": [
           0,
           1
          ],
          "y": [
           0,
           1
          ]
         },
         "hovertemplate": "labels=%{label}<br>count_sum=%{value}<br>parent=%{parent}<br>id=%{id}<br>count=%{color}<extra></extra>",
         "ids": [
          "Volkswagen/Passat",
          "Opel/Astra",
          "Volkswagen/Golf",
          "Audi/A6",
          "Ford/Mondeo",
          "Opel/Vectra",
          "Renault/Laguna",
          "Audi/A4",
          "Peugeot/406",
          "Opel/Omega",
          "Ford/Focus",
          "Renault/Megane",
          "Audi/100",
          "Skoda/Octavia",
          "Opel/Zafira",
          "BMW/525",
          "Citroen/Xantia",
          "Nissan/Primera",
          "Renault/Scenic",
          "Mazda/626",
          "Citroen/C5",
          "Audi/80",
          "Ford/Transit",
          "BMW/X5",
          "Honda/Civic",
          "BMW/520",
          "Mazda/6",
          "Volkswagen/Jetta",
          "Honda/Accord",
          "BMW/320",
          "Hyundai/Santa Fe",
          "Mercedes-Benz/Sprinter",
          "Mazda/323",
          "Skoda/Rapid",
          "Volkswagen/T4",
          "Volkswagen/Touran",
          "Ford/Escort",
          "Nissan/Almera",
          "BMW/318",
          "Peugeot/307",
          "Ford/Galaxy",
          "Peugeot/308",
          "Kia/Sportage",
          "Volkswagen/Sharan",
          "Mercedes-Benz/E200",
          "Toyota/Corolla",
          "Kia/Rio",
          "Nissan/Qashqai",
          "Toyota/Avensis",
          "Audi/A8",
          "Volkswagen",
          "Opel",
          "Audi",
          "Ford",
          "Renault",
          "Peugeot",
          "Skoda",
          "BMW",
          "Citroen",
          "Nissan",
          "Mazda",
          "Honda",
          "Hyundai",
          "Mercedes-Benz",
          "Kia",
          "Toyota"
         ],
         "labels": [
          "Passat",
          "Astra",
          "Golf",
          "A6",
          "Mondeo",
          "Vectra",
          "Laguna",
          "A4",
          "406",
          "Omega",
          "Focus",
          "Megane",
          "100",
          "Octavia",
          "Zafira",
          "525",
          "Xantia",
          "Primera",
          "Scenic",
          "626",
          "C5",
          "80",
          "Transit",
          "X5",
          "Civic",
          "520",
          "6",
          "Jetta",
          "Accord",
          "320",
          "Santa Fe",
          "Sprinter",
          "323",
          "Rapid",
          "T4",
          "Touran",
          "Escort",
          "Almera",
          "318",
          "307",
          "Galaxy",
          "308",
          "Sportage",
          "Sharan",
          "E200",
          "Corolla",
          "Rio",
          "Qashqai",
          "Avensis",
          "A8",
          "Volkswagen",
          "Opel",
          "Audi",
          "Ford",
          "Renault",
          "Peugeot",
          "Skoda",
          "BMW",
          "Citroen",
          "Nissan",
          "Mazda",
          "Honda",
          "Hyundai",
          "Mercedes-Benz",
          "Kia",
          "Toyota"
         ],
         "marker": {
          "coloraxis": "coloraxis",
          "colors": {
           "bdata": "AAAAAAA4lkAAAAAAAHiHQAAAAAAAGIZAAAAAAAB4hUAAAAAAAOCDQAAAAAAAqIFAAAAAAAAggUAAAAAAAJB/QAAAAAAA8HlAAAAAAAAweEAAAAAAAMB3QAAAAAAAkHdAAAAAAAAwd0AAAAAAAOB2QAAAAAAAQHZAAAAAAAAgdkAAAAAAACB2QAAAAAAAoHVAAAAAAAAwdEAAAAAAABB0QAAAAAAAwHNAAAAAAAAAc0AAAAAAAMByQAAAAAAAkHJAAAAAAAAQckAAAAAAAAByQAAAAAAA0HBAAAAAAACgbUAAAAAAAKBtQAAAAAAAIG1AAAAAAABAbEAAAAAAACBsQAAAAAAAYGtAAAAAAAAgakAAAAAAAGBpQAAAAAAAAGlAAAAAAAAgaEAAAAAAAOBnQAAAAAAAoGdAAAAAAAAAZ0AAAAAAAOBmQAAAAAAAIGZAAAAAAACgZUAAAAAAACBlQAAAAAAAoGRAAAAAAACAZEAAAAAAAEBkQAAAAAAA4GNAAAAAAADgY0AAAAAAAGBjQFqCpJDqloxA8JYGQf+ZgUDdCO9wNlN+QJGH4Kt8NnpA7MRO7MRhe0DO8iQyDR9zQMCwzU7xTnNAXJj2kXi/cUDHlQTmPQF1QId+s3XoS3BAj9zv+o9BcUBE9iUfIJlwQAAAAAAAQGxAO7ETO7HzaECDG2Rzx/VkQJsUIgc9MWRA",
           "dtype": "f8"
          }
         },
         "name": "",
         "parents": [
          "Volkswagen",
          "Opel",
          "Volkswagen",
          "Audi",
          "Ford",
          "Opel",
          "Renault",
          "Audi",
          "Peugeot",
          "Opel",
          "Ford",
          "Renault",
          "Audi",
          "Skoda",
          "Opel",
          "BMW",
          "Citroen",
          "Nissan",
          "Renault",
          "Mazda",
          "Citroen",
          "Audi",
          "Ford",
          "BMW",
          "Honda",
          "BMW",
          "Mazda",
          "Volkswagen",
          "Honda",
          "BMW",
          "Hyundai",
          "Mercedes-Benz",
          "Mazda",
          "Skoda",
          "Volkswagen",
          "Volkswagen",
          "Ford",
          "Nissan",
          "BMW",
          "Peugeot",
          "Ford",
          "Peugeot",
          "Kia",
          "Volkswagen",
          "Mercedes-Benz",
          "Toyota",
          "Kia",
          "Nissan",
          "Toyota",
          "Audi",
          "",
          "",
          "",
          "",
          "",
          "",
          "",
          "",
          "",
          "",
          "",
          "",
          "",
          "",
          "",
          ""
         ],
         "type": "treemap",
         "values": {
          "bdata": "AAAAAAA4lkAAAAAAAHiHQAAAAAAAGIZAAAAAAAB4hUAAAAAAAOCDQAAAAAAAqIFAAAAAAAAggUAAAAAAAJB/QAAAAAAA8HlAAAAAAAAweEAAAAAAAMB3QAAAAAAAkHdAAAAAAAAwd0AAAAAAAOB2QAAAAAAAQHZAAAAAAAAgdkAAAAAAACB2QAAAAAAAoHVAAAAAAAAwdEAAAAAAABB0QAAAAAAAwHNAAAAAAAAAc0AAAAAAAMByQAAAAAAAkHJAAAAAAAAQckAAAAAAAAByQAAAAAAA0HBAAAAAAACgbUAAAAAAAKBtQAAAAAAAIG1AAAAAAABAbEAAAAAAACBsQAAAAAAAYGtAAAAAAAAgakAAAAAAAGBpQAAAAAAAAGlAAAAAAAAgaEAAAAAAAOBnQAAAAAAAoGdAAAAAAAAAZ0AAAAAAAOBmQAAAAAAAIGZAAAAAAACgZUAAAAAAACBlQAAAAAAAoGRAAAAAAACAZEAAAAAAAEBkQAAAAAAA4GNAAAAAAADgY0AAAAAAAGBjQAAAAAAA9KZAAAAAAAAWoEAAAAAAAJifQAAAAAAAcJpAAAAAAACAk0AAAAAAAECIQAAAAAAA+IFAAAAAAABElUAAAAAAAPCEQAAAAAAAwIVAAAAAAABIiUAAAAAAAHCAQAAAAAAAQGxAAAAAAABgeEAAAAAAAPB0QAAAAAAAMHRA",
          "dtype": "f8"
         }
        }
       ],
       "layout": {
        "coloraxis": {
         "colorbar": {
          "title": {
           "text": "count"
          }
         },
         "colorscale": [
          [
           0,
           "#440154"
          ],
          [
           0.1111111111111111,
           "#482878"
          ],
          [
           0.2222222222222222,
           "#3e4989"
          ],
          [
           0.3333333333333333,
           "#31688e"
          ],
          [
           0.4444444444444444,
           "#26828e"
          ],
          [
           0.5555555555555556,
           "#1f9e89"
          ],
          [
           0.6666666666666666,
           "#35b779"
          ],
          [
           0.7777777777777778,
           "#6ece58"
          ],
          [
           0.8888888888888888,
           "#b5de2b"
          ],
          [
           1,
           "#fde725"
          ]
         ]
        },
        "legend": {
         "tracegroupgap": 0
        },
        "margin": {
         "b": 25,
         "l": 25,
         "r": 25,
         "t": 50
        },
        "template": {
         "data": {
          "bar": [
           {
            "error_x": {
             "color": "#2a3f5f"
            },
            "error_y": {
             "color": "#2a3f5f"
            },
            "marker": {
             "line": {
              "color": "#E5ECF6",
              "width": 0.5
             },
             "pattern": {
              "fillmode": "overlay",
              "size": 10,
              "solidity": 0.2
             }
            },
            "type": "bar"
           }
          ],
          "barpolar": [
           {
            "marker": {
             "line": {
              "color": "#E5ECF6",
              "width": 0.5
             },
             "pattern": {
              "fillmode": "overlay",
              "size": 10,
              "solidity": 0.2
             }
            },
            "type": "barpolar"
           }
          ],
          "carpet": [
           {
            "aaxis": {
             "endlinecolor": "#2a3f5f",
             "gridcolor": "white",
             "linecolor": "white",
             "minorgridcolor": "white",
             "startlinecolor": "#2a3f5f"
            },
            "baxis": {
             "endlinecolor": "#2a3f5f",
             "gridcolor": "white",
             "linecolor": "white",
             "minorgridcolor": "white",
             "startlinecolor": "#2a3f5f"
            },
            "type": "carpet"
           }
          ],
          "choropleth": [
           {
            "colorbar": {
             "outlinewidth": 0,
             "ticks": ""
            },
            "type": "choropleth"
           }
          ],
          "contour": [
           {
            "colorbar": {
             "outlinewidth": 0,
             "ticks": ""
            },
            "colorscale": [
             [
              0,
              "#0d0887"
             ],
             [
              0.1111111111111111,
              "#46039f"
             ],
             [
              0.2222222222222222,
              "#7201a8"
             ],
             [
              0.3333333333333333,
              "#9c179e"
             ],
             [
              0.4444444444444444,
              "#bd3786"
             ],
             [
              0.5555555555555556,
              "#d8576b"
             ],
             [
              0.6666666666666666,
              "#ed7953"
             ],
             [
              0.7777777777777778,
              "#fb9f3a"
             ],
             [
              0.8888888888888888,
              "#fdca26"
             ],
             [
              1,
              "#f0f921"
             ]
            ],
            "type": "contour"
           }
          ],
          "contourcarpet": [
           {
            "colorbar": {
             "outlinewidth": 0,
             "ticks": ""
            },
            "type": "contourcarpet"
           }
          ],
          "heatmap": [
           {
            "colorbar": {
             "outlinewidth": 0,
             "ticks": ""
            },
            "colorscale": [
             [
              0,
              "#0d0887"
             ],
             [
              0.1111111111111111,
              "#46039f"
             ],
             [
              0.2222222222222222,
              "#7201a8"
             ],
             [
              0.3333333333333333,
              "#9c179e"
             ],
             [
              0.4444444444444444,
              "#bd3786"
             ],
             [
              0.5555555555555556,
              "#d8576b"
             ],
             [
              0.6666666666666666,
              "#ed7953"
             ],
             [
              0.7777777777777778,
              "#fb9f3a"
             ],
             [
              0.8888888888888888,
              "#fdca26"
             ],
             [
              1,
              "#f0f921"
             ]
            ],
            "type": "heatmap"
           }
          ],
          "histogram": [
           {
            "marker": {
             "pattern": {
              "fillmode": "overlay",
              "size": 10,
              "solidity": 0.2
             }
            },
            "type": "histogram"
           }
          ],
          "histogram2d": [
           {
            "colorbar": {
             "outlinewidth": 0,
             "ticks": ""
            },
            "colorscale": [
             [
              0,
              "#0d0887"
             ],
             [
              0.1111111111111111,
              "#46039f"
             ],
             [
              0.2222222222222222,
              "#7201a8"
             ],
             [
              0.3333333333333333,
              "#9c179e"
             ],
             [
              0.4444444444444444,
              "#bd3786"
             ],
             [
              0.5555555555555556,
              "#d8576b"
             ],
             [
              0.6666666666666666,
              "#ed7953"
             ],
             [
              0.7777777777777778,
              "#fb9f3a"
             ],
             [
              0.8888888888888888,
              "#fdca26"
             ],
             [
              1,
              "#f0f921"
             ]
            ],
            "type": "histogram2d"
           }
          ],
          "histogram2dcontour": [
           {
            "colorbar": {
             "outlinewidth": 0,
             "ticks": ""
            },
            "colorscale": [
             [
              0,
              "#0d0887"
             ],
             [
              0.1111111111111111,
              "#46039f"
             ],
             [
              0.2222222222222222,
              "#7201a8"
             ],
             [
              0.3333333333333333,
              "#9c179e"
             ],
             [
              0.4444444444444444,
              "#bd3786"
             ],
             [
              0.5555555555555556,
              "#d8576b"
             ],
             [
              0.6666666666666666,
              "#ed7953"
             ],
             [
              0.7777777777777778,
              "#fb9f3a"
             ],
             [
              0.8888888888888888,
              "#fdca26"
             ],
             [
              1,
              "#f0f921"
             ]
            ],
            "type": "histogram2dcontour"
           }
          ],
          "mesh3d": [
           {
            "colorbar": {
             "outlinewidth": 0,
             "ticks": ""
            },
            "type": "mesh3d"
           }
          ],
          "parcoords": [
           {
            "line": {
             "colorbar": {
              "outlinewidth": 0,
              "ticks": ""
             }
            },
            "type": "parcoords"
           }
          ],
          "pie": [
           {
            "automargin": true,
            "type": "pie"
           }
          ],
          "scatter": [
           {
            "fillpattern": {
             "fillmode": "overlay",
             "size": 10,
             "solidity": 0.2
            },
            "type": "scatter"
           }
          ],
          "scatter3d": [
           {
            "line": {
             "colorbar": {
              "outlinewidth": 0,
              "ticks": ""
             }
            },
            "marker": {
             "colorbar": {
              "outlinewidth": 0,
              "ticks": ""
             }
            },
            "type": "scatter3d"
           }
          ],
          "scattercarpet": [
           {
            "marker": {
             "colorbar": {
              "outlinewidth": 0,
              "ticks": ""
             }
            },
            "type": "scattercarpet"
           }
          ],
          "scattergeo": [
           {
            "marker": {
             "colorbar": {
              "outlinewidth": 0,
              "ticks": ""
             }
            },
            "type": "scattergeo"
           }
          ],
          "scattergl": [
           {
            "marker": {
             "colorbar": {
              "outlinewidth": 0,
              "ticks": ""
             }
            },
            "type": "scattergl"
           }
          ],
          "scattermap": [
           {
            "marker": {
             "colorbar": {
              "outlinewidth": 0,
              "ticks": ""
             }
            },
            "type": "scattermap"
           }
          ],
          "scattermapbox": [
           {
            "marker": {
             "colorbar": {
              "outlinewidth": 0,
              "ticks": ""
             }
            },
            "type": "scattermapbox"
           }
          ],
          "scatterpolar": [
           {
            "marker": {
             "colorbar": {
              "outlinewidth": 0,
              "ticks": ""
             }
            },
            "type": "scatterpolar"
           }
          ],
          "scatterpolargl": [
           {
            "marker": {
             "colorbar": {
              "outlinewidth": 0,
              "ticks": ""
             }
            },
            "type": "scatterpolargl"
           }
          ],
          "scatterternary": [
           {
            "marker": {
             "colorbar": {
              "outlinewidth": 0,
              "ticks": ""
             }
            },
            "type": "scatterternary"
           }
          ],
          "surface": [
           {
            "colorbar": {
             "outlinewidth": 0,
             "ticks": ""
            },
            "colorscale": [
             [
              0,
              "#0d0887"
             ],
             [
              0.1111111111111111,
              "#46039f"
             ],
             [
              0.2222222222222222,
              "#7201a8"
             ],
             [
              0.3333333333333333,
              "#9c179e"
             ],
             [
              0.4444444444444444,
              "#bd3786"
             ],
             [
              0.5555555555555556,
              "#d8576b"
             ],
             [
              0.6666666666666666,
              "#ed7953"
             ],
             [
              0.7777777777777778,
              "#fb9f3a"
             ],
             [
              0.8888888888888888,
              "#fdca26"
             ],
             [
              1,
              "#f0f921"
             ]
            ],
            "type": "surface"
           }
          ],
          "table": [
           {
            "cells": {
             "fill": {
              "color": "#EBF0F8"
             },
             "line": {
              "color": "white"
             }
            },
            "header": {
             "fill": {
              "color": "#C8D4E3"
             },
             "line": {
              "color": "white"
             }
            },
            "type": "table"
           }
          ]
         },
         "layout": {
          "annotationdefaults": {
           "arrowcolor": "#2a3f5f",
           "arrowhead": 0,
           "arrowwidth": 1
          },
          "autotypenumbers": "strict",
          "coloraxis": {
           "colorbar": {
            "outlinewidth": 0,
            "ticks": ""
           }
          },
          "colorscale": {
           "diverging": [
            [
             0,
             "#8e0152"
            ],
            [
             0.1,
             "#c51b7d"
            ],
            [
             0.2,
             "#de77ae"
            ],
            [
             0.3,
             "#f1b6da"
            ],
            [
             0.4,
             "#fde0ef"
            ],
            [
             0.5,
             "#f7f7f7"
            ],
            [
             0.6,
             "#e6f5d0"
            ],
            [
             0.7,
             "#b8e186"
            ],
            [
             0.8,
             "#7fbc41"
            ],
            [
             0.9,
             "#4d9221"
            ],
            [
             1,
             "#276419"
            ]
           ],
           "sequential": [
            [
             0,
             "#0d0887"
            ],
            [
             0.1111111111111111,
             "#46039f"
            ],
            [
             0.2222222222222222,
             "#7201a8"
            ],
            [
             0.3333333333333333,
             "#9c179e"
            ],
            [
             0.4444444444444444,
             "#bd3786"
            ],
            [
             0.5555555555555556,
             "#d8576b"
            ],
            [
             0.6666666666666666,
             "#ed7953"
            ],
            [
             0.7777777777777778,
             "#fb9f3a"
            ],
            [
             0.8888888888888888,
             "#fdca26"
            ],
            [
             1,
             "#f0f921"
            ]
           ],
           "sequentialminus": [
            [
             0,
             "#0d0887"
            ],
            [
             0.1111111111111111,
             "#46039f"
            ],
            [
             0.2222222222222222,
             "#7201a8"
            ],
            [
             0.3333333333333333,
             "#9c179e"
            ],
            [
             0.4444444444444444,
             "#bd3786"
            ],
            [
             0.5555555555555556,
             "#d8576b"
            ],
            [
             0.6666666666666666,
             "#ed7953"
            ],
            [
             0.7777777777777778,
             "#fb9f3a"
            ],
            [
             0.8888888888888888,
             "#fdca26"
            ],
            [
             1,
             "#f0f921"
            ]
           ]
          },
          "colorway": [
           "#636efa",
           "#EF553B",
           "#00cc96",
           "#ab63fa",
           "#FFA15A",
           "#19d3f3",
           "#FF6692",
           "#B6E880",
           "#FF97FF",
           "#FECB52"
          ],
          "font": {
           "color": "#2a3f5f"
          },
          "geo": {
           "bgcolor": "white",
           "lakecolor": "white",
           "landcolor": "#E5ECF6",
           "showlakes": true,
           "showland": true,
           "subunitcolor": "white"
          },
          "hoverlabel": {
           "align": "left"
          },
          "hovermode": "closest",
          "mapbox": {
           "style": "light"
          },
          "paper_bgcolor": "white",
          "plot_bgcolor": "#E5ECF6",
          "polar": {
           "angularaxis": {
            "gridcolor": "white",
            "linecolor": "white",
            "ticks": ""
           },
           "bgcolor": "#E5ECF6",
           "radialaxis": {
            "gridcolor": "white",
            "linecolor": "white",
            "ticks": ""
           }
          },
          "scene": {
           "xaxis": {
            "backgroundcolor": "#E5ECF6",
            "gridcolor": "white",
            "gridwidth": 2,
            "linecolor": "white",
            "showbackground": true,
            "ticks": "",
            "zerolinecolor": "white"
           },
           "yaxis": {
            "backgroundcolor": "#E5ECF6",
            "gridcolor": "white",
            "gridwidth": 2,
            "linecolor": "white",
            "showbackground": true,
            "ticks": "",
            "zerolinecolor": "white"
           },
           "zaxis": {
            "backgroundcolor": "#E5ECF6",
            "gridcolor": "white",
            "gridwidth": 2,
            "linecolor": "white",
            "showbackground": true,
            "ticks": "",
            "zerolinecolor": "white"
           }
          },
          "shapedefaults": {
           "line": {
            "color": "#2a3f5f"
           }
          },
          "ternary": {
           "aaxis": {
            "gridcolor": "white",
            "linecolor": "white",
            "ticks": ""
           },
           "baxis": {
            "gridcolor": "white",
            "linecolor": "white",
            "ticks": ""
           },
           "bgcolor": "#E5ECF6",
           "caxis": {
            "gridcolor": "white",
            "linecolor": "white",
            "ticks": ""
           }
          },
          "title": {
           "x": 0.05
          },
          "xaxis": {
           "automargin": true,
           "gridcolor": "white",
           "linecolor": "white",
           "ticks": "",
           "title": {
            "standoff": 15
           },
           "zerolinecolor": "white",
           "zerolinewidth": 2
          },
          "yaxis": {
           "automargin": true,
           "gridcolor": "white",
           "linecolor": "white",
           "ticks": "",
           "title": {
            "standoff": 15
           },
           "zerolinecolor": "white",
           "zerolinewidth": 2
          }
         }
        },
        "title": {
         "text": "Type of Model for Each Brand"
        }
       }
      }
     },
     "metadata": {},
     "output_type": "display_data"
    }
   ],
   "source": [
    "model_counts = data.groupby(['manufacturer_name', 'model_name']).size().reset_index(name='count')\n",
    "\n",
    "top_models = model_counts.sort_values(by='count', ascending=False).head(50)\n",
    "\n",
    "fig = px.treemap(\n",
    "    top_models,\n",
    "    path=['manufacturer_name', 'model_name'],  \n",
    "    values='count',\n",
    "    color='count',\n",
    "    color_continuous_scale='viridis',\n",
    "    title='Type of Model for Each Brand'\n",
    ")\n",
    "\n",
    "fig.update_layout(margin=dict(t=50, l=25, r=25, b=25))\n",
    "fig.write_image(\"brand_carmodel_tree_map.png\", scale=2)  # High-res\n",
    "fig.show()"
   ]
  },
  {
   "cell_type": "markdown",
   "id": "5cbbe9c7",
   "metadata": {},
   "source": [
    "Cell ini menampilkan Tree Map untuk brand mobil dengan model yang sering dijual. Bedasarkan tree map ini, mobil yang banyak dijual adalah mobil sedan seperti model Passat, Astra, dan Mondeo. "
   ]
  },
  {
   "cell_type": "markdown",
   "id": "032a6cc8",
   "metadata": {},
   "source": [
    "# 6. Feature Engineering Part 2"
   ]
  },
  {
   "cell_type": "markdown",
   "id": "df7fd304",
   "metadata": {},
   "source": [
    "## Cek Cardinality"
   ]
  },
  {
   "cell_type": "code",
   "execution_count": 12,
   "id": "c0742241",
   "metadata": {},
   "outputs": [
    {
     "name": "stdout",
     "output_type": "stream",
     "text": [
      "<class 'pandas.core.frame.DataFrame'>\n",
      "Index: 38491 entries, 0 to 38530\n",
      "Data columns (total 31 columns):\n",
      " #   Column             Non-Null Count  Dtype  \n",
      "---  ------             --------------  -----  \n",
      " 0   manufacturer_name  38491 non-null  object \n",
      " 1   model_name         38491 non-null  object \n",
      " 2   transmission       38491 non-null  object \n",
      " 3   color              38491 non-null  object \n",
      " 4   odometer_value     38491 non-null  int64  \n",
      " 5   year_produced      38491 non-null  int64  \n",
      " 6   engine_fuel        38491 non-null  object \n",
      " 7   engine_has_gas     38491 non-null  bool   \n",
      " 8   engine_type        38491 non-null  object \n",
      " 9   engine_capacity    38491 non-null  float64\n",
      " 10  body_type          38491 non-null  object \n",
      " 11  has_warranty       38491 non-null  bool   \n",
      " 12  state              38491 non-null  object \n",
      " 13  drivetrain         38491 non-null  object \n",
      " 14  price_usd          38491 non-null  float64\n",
      " 15  is_exchangeable    38491 non-null  bool   \n",
      " 16  location_region    38491 non-null  object \n",
      " 17  number_of_photos   38491 non-null  int64  \n",
      " 18  up_counter         38491 non-null  int64  \n",
      " 19  feature_0          38491 non-null  bool   \n",
      " 20  feature_1          38491 non-null  bool   \n",
      " 21  feature_2          38491 non-null  bool   \n",
      " 22  feature_3          38491 non-null  bool   \n",
      " 23  feature_4          38491 non-null  bool   \n",
      " 24  feature_5          38491 non-null  bool   \n",
      " 25  feature_6          38491 non-null  bool   \n",
      " 26  feature_7          38491 non-null  bool   \n",
      " 27  feature_8          38491 non-null  bool   \n",
      " 28  feature_9          38491 non-null  bool   \n",
      " 29  duration_listed    38491 non-null  int64  \n",
      " 30  car_age            38491 non-null  int64  \n",
      "dtypes: bool(13), float64(2), int64(6), object(10)\n",
      "memory usage: 6.1+ MB\n"
     ]
    }
   ],
   "source": [
    "data.info()"
   ]
  },
  {
   "cell_type": "code",
   "execution_count": 13,
   "id": "2e93e931",
   "metadata": {},
   "outputs": [
    {
     "data": {
      "text/html": [
       "<div>\n",
       "<style scoped>\n",
       "    .dataframe tbody tr th:only-of-type {\n",
       "        vertical-align: middle;\n",
       "    }\n",
       "\n",
       "    .dataframe tbody tr th {\n",
       "        vertical-align: top;\n",
       "    }\n",
       "\n",
       "    .dataframe thead th {\n",
       "        text-align: right;\n",
       "    }\n",
       "</style>\n",
       "<table border=\"1\" class=\"dataframe\">\n",
       "  <thead>\n",
       "    <tr style=\"text-align: right;\">\n",
       "      <th></th>\n",
       "      <th>nama_kolom</th>\n",
       "      <th>jumlah_unique</th>\n",
       "      <th>nilai_unique</th>\n",
       "    </tr>\n",
       "  </thead>\n",
       "  <tbody>\n",
       "    <tr>\n",
       "      <th>0</th>\n",
       "      <td>manufacturer_name</td>\n",
       "      <td>55</td>\n",
       "      <td>[Subaru, LADA, Dodge, УАЗ, Kia, Opel, Москвич,...</td>\n",
       "    </tr>\n",
       "    <tr>\n",
       "      <th>1</th>\n",
       "      <td>model_name</td>\n",
       "      <td>1118</td>\n",
       "      <td>[Outback, Forester, Impreza, Legacy, Tribeca, ...</td>\n",
       "    </tr>\n",
       "    <tr>\n",
       "      <th>2</th>\n",
       "      <td>transmission</td>\n",
       "      <td>2</td>\n",
       "      <td>[automatic, mechanical]</td>\n",
       "    </tr>\n",
       "    <tr>\n",
       "      <th>3</th>\n",
       "      <td>color</td>\n",
       "      <td>12</td>\n",
       "      <td>[silver, blue, red, black, grey, other, brown,...</td>\n",
       "    </tr>\n",
       "    <tr>\n",
       "      <th>4</th>\n",
       "      <td>engine_fuel</td>\n",
       "      <td>6</td>\n",
       "      <td>[gasoline, gas, diesel, hybrid-petrol, hybrid-...</td>\n",
       "    </tr>\n",
       "    <tr>\n",
       "      <th>5</th>\n",
       "      <td>engine_has_gas</td>\n",
       "      <td>2</td>\n",
       "      <td>[False, True]</td>\n",
       "    </tr>\n",
       "    <tr>\n",
       "      <th>6</th>\n",
       "      <td>engine_type</td>\n",
       "      <td>3</td>\n",
       "      <td>[gasoline, diesel, electric]</td>\n",
       "    </tr>\n",
       "    <tr>\n",
       "      <th>7</th>\n",
       "      <td>body_type</td>\n",
       "      <td>12</td>\n",
       "      <td>[universal, suv, sedan, hatchback, liftback, m...</td>\n",
       "    </tr>\n",
       "    <tr>\n",
       "      <th>8</th>\n",
       "      <td>has_warranty</td>\n",
       "      <td>2</td>\n",
       "      <td>[False, True]</td>\n",
       "    </tr>\n",
       "    <tr>\n",
       "      <th>9</th>\n",
       "      <td>state</td>\n",
       "      <td>3</td>\n",
       "      <td>[owned, emergency, new]</td>\n",
       "    </tr>\n",
       "    <tr>\n",
       "      <th>10</th>\n",
       "      <td>drivetrain</td>\n",
       "      <td>3</td>\n",
       "      <td>[all, front, rear]</td>\n",
       "    </tr>\n",
       "  </tbody>\n",
       "</table>\n",
       "</div>"
      ],
      "text/plain": [
       "           nama_kolom  jumlah_unique  \\\n",
       "0   manufacturer_name             55   \n",
       "1          model_name           1118   \n",
       "2        transmission              2   \n",
       "3               color             12   \n",
       "4         engine_fuel              6   \n",
       "5      engine_has_gas              2   \n",
       "6         engine_type              3   \n",
       "7           body_type             12   \n",
       "8        has_warranty              2   \n",
       "9               state              3   \n",
       "10         drivetrain              3   \n",
       "\n",
       "                                         nilai_unique  \n",
       "0   [Subaru, LADA, Dodge, УАЗ, Kia, Opel, Москвич,...  \n",
       "1   [Outback, Forester, Impreza, Legacy, Tribeca, ...  \n",
       "2                             [automatic, mechanical]  \n",
       "3   [silver, blue, red, black, grey, other, brown,...  \n",
       "4   [gasoline, gas, diesel, hybrid-petrol, hybrid-...  \n",
       "5                                       [False, True]  \n",
       "6                        [gasoline, diesel, electric]  \n",
       "7   [universal, suv, sedan, hatchback, liftback, m...  \n",
       "8                                       [False, True]  \n",
       "9                             [owned, emergency, new]  \n",
       "10                                 [all, front, rear]  "
      ]
     },
     "execution_count": 13,
     "metadata": {},
     "output_type": "execute_result"
    }
   ],
   "source": [
    "kolom_kategoris = ['manufacturer_name','model_name','transmission','color','engine_fuel','engine_has_gas','engine_type','body_type','has_warranty', 'state', 'drivetrain']\n",
    "listItem = []\n",
    "for kolom in kolom_kategoris:\n",
    "    listItem.append([kolom, data[kolom].nunique(), data[kolom].unique()])\n",
    "\n",
    "pd.DataFrame(columns=['nama_kolom','jumlah_unique','nilai_unique'], data=listItem)"
   ]
  },
  {
   "cell_type": "markdown",
   "id": "74a971db",
   "metadata": {},
   "source": [
    "Kolom manufacturer_name dan model_name memiliki kolom sebanyak 55 dan 1118 nilai yang unik. Kedua kolom ini memiliki kardinalitas yang sangat tinggi. Untuk hadle kedua kolom adalah dengan cara feature creation. Kolom baru akan dibuat untuk merepresentasikan kedua kolom ini."
   ]
  },
  {
   "cell_type": "code",
   "execution_count": 14,
   "id": "1e5d45bd",
   "metadata": {},
   "outputs": [],
   "source": [
    "brand_to_region = {\n",
    "    # Russian\n",
    "    'LADA': 'Russian', 'Москвич': 'Russian', 'УАЗ': 'Russian', 'ВАЗ': 'Russian', \n",
    "    'ЗАЗ': 'Russian', 'ГАЗ': 'Russian',\n",
    "\n",
    "    # American\n",
    "    'Dodge': 'American', 'Ford': 'American', 'Jeep': 'American', 'Cadillac': 'American',\n",
    "    'Buick': 'American', 'Pontiac': 'American', 'Chevrolet': 'American', 'Lincoln': 'American', \n",
    "    'Chrysler': 'American',\n",
    "\n",
    "    # Japanese\n",
    "    'Subaru': 'Japanese', 'Acura': 'Japanese', 'Lexus': 'Japanese', 'Mitsubishi': 'Japanese', \n",
    "    'Toyota': 'Japanese', 'Nissan': 'Japanese', 'Suzuki': 'Japanese', 'Mazda': 'Japanese', \n",
    "    'Infiniti': 'Japanese', 'Honda': 'Japanese',\n",
    "\n",
    "    # European\n",
    "    'Dacia': 'European', 'Alfa Romeo': 'European', 'Opel': 'European', 'Citroen': 'European', \n",
    "    'Mini': 'European', 'Jaguar': 'European', 'Porsche': 'European', 'Fiat': 'European',\n",
    "    'Renault': 'European', 'Seat': 'European', 'Rover': 'European', 'Volkswagen': 'European',\n",
    "    'Audi': 'European', 'Volvo': 'European', 'BMW': 'European', 'Land Rover': 'European', \n",
    "    'Iveco': 'European', 'Saab': 'European', 'Mercedes-Benz': 'European', 'Peugeot': 'European',\n",
    "    'Lancia': 'European', 'Skoda': 'Russian', \n",
    "\n",
    "    # South Korean\n",
    "    'Kia': 'South Korean', 'SsangYong': 'South Korean', 'Daewoo': 'South Korean', 'Hyundai': 'South Korean',\n",
    "    # Chinese\n",
    "    'Geely': 'Chinese', 'Lifan': 'Chinese', 'Great Wall': 'Chinese', 'Chery': 'Chinese'\n",
    "}"
   ]
  },
  {
   "cell_type": "markdown",
   "id": "289368ef",
   "metadata": {},
   "source": [
    "Setiap brand mobil di grouping bedasarkan region nya seperti brand Subaru di group sebagai mobil Japanese atau BMW sebagai mobil European. Dangan cara ini kardinalitas berkurang dari 55 dan 1118 nilai unik menjadi 6 nilai unik yang merepresentasikan setiap model."
   ]
  },
  {
   "cell_type": "code",
   "execution_count": 15,
   "id": "104a1061",
   "metadata": {},
   "outputs": [
    {
     "name": "stderr",
     "output_type": "stream",
     "text": [
      "C:\\Users\\ASUS\\AppData\\Local\\Temp\\ipykernel_22444\\2705788876.py:1: SettingWithCopyWarning: \n",
      "A value is trying to be set on a copy of a slice from a DataFrame.\n",
      "Try using .loc[row_indexer,col_indexer] = value instead\n",
      "\n",
      "See the caveats in the documentation: https://pandas.pydata.org/pandas-docs/stable/user_guide/indexing.html#returning-a-view-versus-a-copy\n",
      "  data['manufacturer_region'] = data['manufacturer_name'].map(brand_to_region)\n"
     ]
    },
    {
     "data": {
      "text/html": [
       "<div>\n",
       "<style scoped>\n",
       "    .dataframe tbody tr th:only-of-type {\n",
       "        vertical-align: middle;\n",
       "    }\n",
       "\n",
       "    .dataframe tbody tr th {\n",
       "        vertical-align: top;\n",
       "    }\n",
       "\n",
       "    .dataframe thead th {\n",
       "        text-align: right;\n",
       "    }\n",
       "</style>\n",
       "<table border=\"1\" class=\"dataframe\">\n",
       "  <thead>\n",
       "    <tr style=\"text-align: right;\">\n",
       "      <th></th>\n",
       "      <th>manufacturer_name</th>\n",
       "      <th>model_name</th>\n",
       "      <th>transmission</th>\n",
       "      <th>color</th>\n",
       "      <th>odometer_value</th>\n",
       "      <th>year_produced</th>\n",
       "      <th>engine_fuel</th>\n",
       "      <th>engine_has_gas</th>\n",
       "      <th>engine_type</th>\n",
       "      <th>engine_capacity</th>\n",
       "      <th>body_type</th>\n",
       "      <th>has_warranty</th>\n",
       "      <th>state</th>\n",
       "      <th>drivetrain</th>\n",
       "      <th>price_usd</th>\n",
       "      <th>is_exchangeable</th>\n",
       "      <th>location_region</th>\n",
       "      <th>number_of_photos</th>\n",
       "      <th>up_counter</th>\n",
       "      <th>feature_0</th>\n",
       "      <th>feature_1</th>\n",
       "      <th>feature_2</th>\n",
       "      <th>feature_3</th>\n",
       "      <th>feature_4</th>\n",
       "      <th>feature_5</th>\n",
       "      <th>feature_6</th>\n",
       "      <th>feature_7</th>\n",
       "      <th>feature_8</th>\n",
       "      <th>feature_9</th>\n",
       "      <th>duration_listed</th>\n",
       "      <th>car_age</th>\n",
       "      <th>manufacturer_region</th>\n",
       "    </tr>\n",
       "  </thead>\n",
       "  <tbody>\n",
       "    <tr>\n",
       "      <th>0</th>\n",
       "      <td>Subaru</td>\n",
       "      <td>Outback</td>\n",
       "      <td>automatic</td>\n",
       "      <td>silver</td>\n",
       "      <td>190000</td>\n",
       "      <td>2010</td>\n",
       "      <td>gasoline</td>\n",
       "      <td>False</td>\n",
       "      <td>gasoline</td>\n",
       "      <td>2.5</td>\n",
       "      <td>universal</td>\n",
       "      <td>False</td>\n",
       "      <td>owned</td>\n",
       "      <td>all</td>\n",
       "      <td>10900.00</td>\n",
       "      <td>False</td>\n",
       "      <td>Минская обл.</td>\n",
       "      <td>9</td>\n",
       "      <td>13</td>\n",
       "      <td>False</td>\n",
       "      <td>True</td>\n",
       "      <td>True</td>\n",
       "      <td>True</td>\n",
       "      <td>False</td>\n",
       "      <td>True</td>\n",
       "      <td>False</td>\n",
       "      <td>True</td>\n",
       "      <td>True</td>\n",
       "      <td>True</td>\n",
       "      <td>16</td>\n",
       "      <td>15</td>\n",
       "      <td>Japanese</td>\n",
       "    </tr>\n",
       "    <tr>\n",
       "      <th>1</th>\n",
       "      <td>Subaru</td>\n",
       "      <td>Outback</td>\n",
       "      <td>automatic</td>\n",
       "      <td>blue</td>\n",
       "      <td>290000</td>\n",
       "      <td>2002</td>\n",
       "      <td>gasoline</td>\n",
       "      <td>False</td>\n",
       "      <td>gasoline</td>\n",
       "      <td>3.0</td>\n",
       "      <td>universal</td>\n",
       "      <td>False</td>\n",
       "      <td>owned</td>\n",
       "      <td>all</td>\n",
       "      <td>5000.00</td>\n",
       "      <td>True</td>\n",
       "      <td>Минская обл.</td>\n",
       "      <td>12</td>\n",
       "      <td>54</td>\n",
       "      <td>False</td>\n",
       "      <td>True</td>\n",
       "      <td>False</td>\n",
       "      <td>False</td>\n",
       "      <td>True</td>\n",
       "      <td>True</td>\n",
       "      <td>False</td>\n",
       "      <td>False</td>\n",
       "      <td>False</td>\n",
       "      <td>True</td>\n",
       "      <td>83</td>\n",
       "      <td>23</td>\n",
       "      <td>Japanese</td>\n",
       "    </tr>\n",
       "    <tr>\n",
       "      <th>2</th>\n",
       "      <td>Subaru</td>\n",
       "      <td>Forester</td>\n",
       "      <td>automatic</td>\n",
       "      <td>red</td>\n",
       "      <td>402000</td>\n",
       "      <td>2001</td>\n",
       "      <td>gasoline</td>\n",
       "      <td>False</td>\n",
       "      <td>gasoline</td>\n",
       "      <td>2.5</td>\n",
       "      <td>suv</td>\n",
       "      <td>False</td>\n",
       "      <td>owned</td>\n",
       "      <td>all</td>\n",
       "      <td>2800.00</td>\n",
       "      <td>True</td>\n",
       "      <td>Минская обл.</td>\n",
       "      <td>4</td>\n",
       "      <td>72</td>\n",
       "      <td>False</td>\n",
       "      <td>True</td>\n",
       "      <td>False</td>\n",
       "      <td>False</td>\n",
       "      <td>False</td>\n",
       "      <td>False</td>\n",
       "      <td>False</td>\n",
       "      <td>False</td>\n",
       "      <td>True</td>\n",
       "      <td>True</td>\n",
       "      <td>151</td>\n",
       "      <td>24</td>\n",
       "      <td>Japanese</td>\n",
       "    </tr>\n",
       "    <tr>\n",
       "      <th>3</th>\n",
       "      <td>Subaru</td>\n",
       "      <td>Impreza</td>\n",
       "      <td>mechanical</td>\n",
       "      <td>blue</td>\n",
       "      <td>10000</td>\n",
       "      <td>1999</td>\n",
       "      <td>gasoline</td>\n",
       "      <td>False</td>\n",
       "      <td>gasoline</td>\n",
       "      <td>3.0</td>\n",
       "      <td>sedan</td>\n",
       "      <td>False</td>\n",
       "      <td>owned</td>\n",
       "      <td>all</td>\n",
       "      <td>9999.00</td>\n",
       "      <td>True</td>\n",
       "      <td>Минская обл.</td>\n",
       "      <td>9</td>\n",
       "      <td>42</td>\n",
       "      <td>True</td>\n",
       "      <td>False</td>\n",
       "      <td>False</td>\n",
       "      <td>False</td>\n",
       "      <td>False</td>\n",
       "      <td>False</td>\n",
       "      <td>False</td>\n",
       "      <td>False</td>\n",
       "      <td>False</td>\n",
       "      <td>False</td>\n",
       "      <td>86</td>\n",
       "      <td>26</td>\n",
       "      <td>Japanese</td>\n",
       "    </tr>\n",
       "    <tr>\n",
       "      <th>4</th>\n",
       "      <td>Subaru</td>\n",
       "      <td>Legacy</td>\n",
       "      <td>automatic</td>\n",
       "      <td>black</td>\n",
       "      <td>280000</td>\n",
       "      <td>2001</td>\n",
       "      <td>gasoline</td>\n",
       "      <td>False</td>\n",
       "      <td>gasoline</td>\n",
       "      <td>2.5</td>\n",
       "      <td>universal</td>\n",
       "      <td>False</td>\n",
       "      <td>owned</td>\n",
       "      <td>all</td>\n",
       "      <td>2134.11</td>\n",
       "      <td>True</td>\n",
       "      <td>Гомельская обл.</td>\n",
       "      <td>14</td>\n",
       "      <td>7</td>\n",
       "      <td>False</td>\n",
       "      <td>True</td>\n",
       "      <td>False</td>\n",
       "      <td>True</td>\n",
       "      <td>True</td>\n",
       "      <td>False</td>\n",
       "      <td>False</td>\n",
       "      <td>False</td>\n",
       "      <td>False</td>\n",
       "      <td>True</td>\n",
       "      <td>7</td>\n",
       "      <td>24</td>\n",
       "      <td>Japanese</td>\n",
       "    </tr>\n",
       "    <tr>\n",
       "      <th>...</th>\n",
       "      <td>...</td>\n",
       "      <td>...</td>\n",
       "      <td>...</td>\n",
       "      <td>...</td>\n",
       "      <td>...</td>\n",
       "      <td>...</td>\n",
       "      <td>...</td>\n",
       "      <td>...</td>\n",
       "      <td>...</td>\n",
       "      <td>...</td>\n",
       "      <td>...</td>\n",
       "      <td>...</td>\n",
       "      <td>...</td>\n",
       "      <td>...</td>\n",
       "      <td>...</td>\n",
       "      <td>...</td>\n",
       "      <td>...</td>\n",
       "      <td>...</td>\n",
       "      <td>...</td>\n",
       "      <td>...</td>\n",
       "      <td>...</td>\n",
       "      <td>...</td>\n",
       "      <td>...</td>\n",
       "      <td>...</td>\n",
       "      <td>...</td>\n",
       "      <td>...</td>\n",
       "      <td>...</td>\n",
       "      <td>...</td>\n",
       "      <td>...</td>\n",
       "      <td>...</td>\n",
       "      <td>...</td>\n",
       "      <td>...</td>\n",
       "    </tr>\n",
       "    <tr>\n",
       "      <th>38526</th>\n",
       "      <td>Chrysler</td>\n",
       "      <td>300</td>\n",
       "      <td>automatic</td>\n",
       "      <td>silver</td>\n",
       "      <td>290000</td>\n",
       "      <td>2000</td>\n",
       "      <td>gasoline</td>\n",
       "      <td>False</td>\n",
       "      <td>gasoline</td>\n",
       "      <td>3.5</td>\n",
       "      <td>sedan</td>\n",
       "      <td>False</td>\n",
       "      <td>owned</td>\n",
       "      <td>front</td>\n",
       "      <td>2750.00</td>\n",
       "      <td>True</td>\n",
       "      <td>Минская обл.</td>\n",
       "      <td>5</td>\n",
       "      <td>85</td>\n",
       "      <td>False</td>\n",
       "      <td>True</td>\n",
       "      <td>False</td>\n",
       "      <td>False</td>\n",
       "      <td>True</td>\n",
       "      <td>True</td>\n",
       "      <td>False</td>\n",
       "      <td>False</td>\n",
       "      <td>True</td>\n",
       "      <td>True</td>\n",
       "      <td>301</td>\n",
       "      <td>25</td>\n",
       "      <td>American</td>\n",
       "    </tr>\n",
       "    <tr>\n",
       "      <th>38527</th>\n",
       "      <td>Chrysler</td>\n",
       "      <td>PT Cruiser</td>\n",
       "      <td>mechanical</td>\n",
       "      <td>blue</td>\n",
       "      <td>321000</td>\n",
       "      <td>2004</td>\n",
       "      <td>diesel</td>\n",
       "      <td>False</td>\n",
       "      <td>diesel</td>\n",
       "      <td>2.2</td>\n",
       "      <td>hatchback</td>\n",
       "      <td>False</td>\n",
       "      <td>owned</td>\n",
       "      <td>front</td>\n",
       "      <td>4800.00</td>\n",
       "      <td>True</td>\n",
       "      <td>Брестская обл.</td>\n",
       "      <td>4</td>\n",
       "      <td>20</td>\n",
       "      <td>False</td>\n",
       "      <td>True</td>\n",
       "      <td>False</td>\n",
       "      <td>False</td>\n",
       "      <td>True</td>\n",
       "      <td>True</td>\n",
       "      <td>False</td>\n",
       "      <td>False</td>\n",
       "      <td>True</td>\n",
       "      <td>True</td>\n",
       "      <td>317</td>\n",
       "      <td>21</td>\n",
       "      <td>American</td>\n",
       "    </tr>\n",
       "    <tr>\n",
       "      <th>38528</th>\n",
       "      <td>Chrysler</td>\n",
       "      <td>300</td>\n",
       "      <td>automatic</td>\n",
       "      <td>blue</td>\n",
       "      <td>777957</td>\n",
       "      <td>2000</td>\n",
       "      <td>gasoline</td>\n",
       "      <td>False</td>\n",
       "      <td>gasoline</td>\n",
       "      <td>3.5</td>\n",
       "      <td>sedan</td>\n",
       "      <td>False</td>\n",
       "      <td>owned</td>\n",
       "      <td>front</td>\n",
       "      <td>4300.00</td>\n",
       "      <td>False</td>\n",
       "      <td>Минская обл.</td>\n",
       "      <td>3</td>\n",
       "      <td>63</td>\n",
       "      <td>False</td>\n",
       "      <td>True</td>\n",
       "      <td>False</td>\n",
       "      <td>False</td>\n",
       "      <td>True</td>\n",
       "      <td>True</td>\n",
       "      <td>False</td>\n",
       "      <td>False</td>\n",
       "      <td>True</td>\n",
       "      <td>True</td>\n",
       "      <td>369</td>\n",
       "      <td>25</td>\n",
       "      <td>American</td>\n",
       "    </tr>\n",
       "    <tr>\n",
       "      <th>38529</th>\n",
       "      <td>Chrysler</td>\n",
       "      <td>PT Cruiser</td>\n",
       "      <td>mechanical</td>\n",
       "      <td>black</td>\n",
       "      <td>20000</td>\n",
       "      <td>2001</td>\n",
       "      <td>gasoline</td>\n",
       "      <td>False</td>\n",
       "      <td>gasoline</td>\n",
       "      <td>2.0</td>\n",
       "      <td>minivan</td>\n",
       "      <td>False</td>\n",
       "      <td>owned</td>\n",
       "      <td>front</td>\n",
       "      <td>4000.00</td>\n",
       "      <td>True</td>\n",
       "      <td>Брестская обл.</td>\n",
       "      <td>7</td>\n",
       "      <td>156</td>\n",
       "      <td>False</td>\n",
       "      <td>True</td>\n",
       "      <td>False</td>\n",
       "      <td>False</td>\n",
       "      <td>False</td>\n",
       "      <td>False</td>\n",
       "      <td>False</td>\n",
       "      <td>False</td>\n",
       "      <td>False</td>\n",
       "      <td>True</td>\n",
       "      <td>490</td>\n",
       "      <td>24</td>\n",
       "      <td>American</td>\n",
       "    </tr>\n",
       "    <tr>\n",
       "      <th>38530</th>\n",
       "      <td>Chrysler</td>\n",
       "      <td>Voyager</td>\n",
       "      <td>automatic</td>\n",
       "      <td>silver</td>\n",
       "      <td>297729</td>\n",
       "      <td>2000</td>\n",
       "      <td>gasoline</td>\n",
       "      <td>False</td>\n",
       "      <td>gasoline</td>\n",
       "      <td>2.4</td>\n",
       "      <td>minivan</td>\n",
       "      <td>False</td>\n",
       "      <td>owned</td>\n",
       "      <td>front</td>\n",
       "      <td>3200.00</td>\n",
       "      <td>True</td>\n",
       "      <td>Минская обл.</td>\n",
       "      <td>4</td>\n",
       "      <td>73</td>\n",
       "      <td>False</td>\n",
       "      <td>False</td>\n",
       "      <td>False</td>\n",
       "      <td>False</td>\n",
       "      <td>False</td>\n",
       "      <td>False</td>\n",
       "      <td>False</td>\n",
       "      <td>False</td>\n",
       "      <td>False</td>\n",
       "      <td>True</td>\n",
       "      <td>632</td>\n",
       "      <td>25</td>\n",
       "      <td>American</td>\n",
       "    </tr>\n",
       "  </tbody>\n",
       "</table>\n",
       "<p>38491 rows × 32 columns</p>\n",
       "</div>"
      ],
      "text/plain": [
       "      manufacturer_name  model_name transmission   color  odometer_value  \\\n",
       "0                Subaru     Outback    automatic  silver          190000   \n",
       "1                Subaru     Outback    automatic    blue          290000   \n",
       "2                Subaru    Forester    automatic     red          402000   \n",
       "3                Subaru     Impreza   mechanical    blue           10000   \n",
       "4                Subaru      Legacy    automatic   black          280000   \n",
       "...                 ...         ...          ...     ...             ...   \n",
       "38526          Chrysler         300    automatic  silver          290000   \n",
       "38527          Chrysler  PT Cruiser   mechanical    blue          321000   \n",
       "38528          Chrysler         300    automatic    blue          777957   \n",
       "38529          Chrysler  PT Cruiser   mechanical   black           20000   \n",
       "38530          Chrysler     Voyager    automatic  silver          297729   \n",
       "\n",
       "       year_produced engine_fuel  engine_has_gas engine_type  engine_capacity  \\\n",
       "0               2010    gasoline           False    gasoline              2.5   \n",
       "1               2002    gasoline           False    gasoline              3.0   \n",
       "2               2001    gasoline           False    gasoline              2.5   \n",
       "3               1999    gasoline           False    gasoline              3.0   \n",
       "4               2001    gasoline           False    gasoline              2.5   \n",
       "...              ...         ...             ...         ...              ...   \n",
       "38526           2000    gasoline           False    gasoline              3.5   \n",
       "38527           2004      diesel           False      diesel              2.2   \n",
       "38528           2000    gasoline           False    gasoline              3.5   \n",
       "38529           2001    gasoline           False    gasoline              2.0   \n",
       "38530           2000    gasoline           False    gasoline              2.4   \n",
       "\n",
       "       body_type  has_warranty  state drivetrain  price_usd  is_exchangeable  \\\n",
       "0      universal         False  owned        all   10900.00            False   \n",
       "1      universal         False  owned        all    5000.00             True   \n",
       "2            suv         False  owned        all    2800.00             True   \n",
       "3          sedan         False  owned        all    9999.00             True   \n",
       "4      universal         False  owned        all    2134.11             True   \n",
       "...          ...           ...    ...        ...        ...              ...   \n",
       "38526      sedan         False  owned      front    2750.00             True   \n",
       "38527  hatchback         False  owned      front    4800.00             True   \n",
       "38528      sedan         False  owned      front    4300.00            False   \n",
       "38529    minivan         False  owned      front    4000.00             True   \n",
       "38530    minivan         False  owned      front    3200.00             True   \n",
       "\n",
       "       location_region  number_of_photos  up_counter  feature_0  feature_1  \\\n",
       "0         Минская обл.                 9          13      False       True   \n",
       "1         Минская обл.                12          54      False       True   \n",
       "2         Минская обл.                 4          72      False       True   \n",
       "3         Минская обл.                 9          42       True      False   \n",
       "4      Гомельская обл.                14           7      False       True   \n",
       "...                ...               ...         ...        ...        ...   \n",
       "38526     Минская обл.                 5          85      False       True   \n",
       "38527   Брестская обл.                 4          20      False       True   \n",
       "38528     Минская обл.                 3          63      False       True   \n",
       "38529   Брестская обл.                 7         156      False       True   \n",
       "38530     Минская обл.                 4          73      False      False   \n",
       "\n",
       "       feature_2  feature_3  feature_4  feature_5  feature_6  feature_7  \\\n",
       "0           True       True      False       True      False       True   \n",
       "1          False      False       True       True      False      False   \n",
       "2          False      False      False      False      False      False   \n",
       "3          False      False      False      False      False      False   \n",
       "4          False       True       True      False      False      False   \n",
       "...          ...        ...        ...        ...        ...        ...   \n",
       "38526      False      False       True       True      False      False   \n",
       "38527      False      False       True       True      False      False   \n",
       "38528      False      False       True       True      False      False   \n",
       "38529      False      False      False      False      False      False   \n",
       "38530      False      False      False      False      False      False   \n",
       "\n",
       "       feature_8  feature_9  duration_listed  car_age manufacturer_region  \n",
       "0           True       True               16       15            Japanese  \n",
       "1          False       True               83       23            Japanese  \n",
       "2           True       True              151       24            Japanese  \n",
       "3          False      False               86       26            Japanese  \n",
       "4          False       True                7       24            Japanese  \n",
       "...          ...        ...              ...      ...                 ...  \n",
       "38526       True       True              301       25            American  \n",
       "38527       True       True              317       21            American  \n",
       "38528       True       True              369       25            American  \n",
       "38529      False       True              490       24            American  \n",
       "38530      False       True              632       25            American  \n",
       "\n",
       "[38491 rows x 32 columns]"
      ]
     },
     "execution_count": 15,
     "metadata": {},
     "output_type": "execute_result"
    }
   ],
   "source": [
    "data['manufacturer_region'] = data['manufacturer_name'].map(brand_to_region)\n",
    "data"
   ]
  },
  {
   "cell_type": "markdown",
   "id": "fdeb5af2",
   "metadata": {},
   "source": [
    "Kolom manufacturer_region dibuat dari hasil mapping kolom manufacturer_name dengan dictionary brand_to_region."
   ]
  },
  {
   "cell_type": "markdown",
   "id": "5da62071",
   "metadata": {},
   "source": [
    "## Splitting Dataset Menjadi X (Feature) dan y (target)"
   ]
  },
  {
   "cell_type": "code",
   "execution_count": 16,
   "id": "ebe2460a",
   "metadata": {},
   "outputs": [],
   "source": [
    "X = data.drop(['price_usd'],axis=1)\n",
    "y = data['price_usd']"
   ]
  },
  {
   "cell_type": "markdown",
   "id": "a53f904e",
   "metadata": {},
   "source": [
    "Kolom target adalah price_usd maka dataset data dipisah menjadi X yaitu dataset tanpa kolom price_usd dan y yaitu dataset hanya price_usd"
   ]
  },
  {
   "cell_type": "code",
   "execution_count": 17,
   "id": "a16f0394",
   "metadata": {},
   "outputs": [
    {
     "data": {
      "text/html": [
       "<div>\n",
       "<style scoped>\n",
       "    .dataframe tbody tr th:only-of-type {\n",
       "        vertical-align: middle;\n",
       "    }\n",
       "\n",
       "    .dataframe tbody tr th {\n",
       "        vertical-align: top;\n",
       "    }\n",
       "\n",
       "    .dataframe thead th {\n",
       "        text-align: right;\n",
       "    }\n",
       "</style>\n",
       "<table border=\"1\" class=\"dataframe\">\n",
       "  <thead>\n",
       "    <tr style=\"text-align: right;\">\n",
       "      <th></th>\n",
       "      <th>manufacturer_name</th>\n",
       "      <th>model_name</th>\n",
       "      <th>transmission</th>\n",
       "      <th>color</th>\n",
       "      <th>odometer_value</th>\n",
       "      <th>year_produced</th>\n",
       "      <th>engine_fuel</th>\n",
       "      <th>engine_has_gas</th>\n",
       "      <th>engine_type</th>\n",
       "      <th>engine_capacity</th>\n",
       "      <th>body_type</th>\n",
       "      <th>has_warranty</th>\n",
       "      <th>state</th>\n",
       "      <th>drivetrain</th>\n",
       "      <th>is_exchangeable</th>\n",
       "      <th>location_region</th>\n",
       "      <th>number_of_photos</th>\n",
       "      <th>up_counter</th>\n",
       "      <th>feature_0</th>\n",
       "      <th>feature_1</th>\n",
       "      <th>feature_2</th>\n",
       "      <th>feature_3</th>\n",
       "      <th>feature_4</th>\n",
       "      <th>feature_5</th>\n",
       "      <th>feature_6</th>\n",
       "      <th>feature_7</th>\n",
       "      <th>feature_8</th>\n",
       "      <th>feature_9</th>\n",
       "      <th>duration_listed</th>\n",
       "      <th>car_age</th>\n",
       "      <th>manufacturer_region</th>\n",
       "    </tr>\n",
       "  </thead>\n",
       "  <tbody>\n",
       "    <tr>\n",
       "      <th>0</th>\n",
       "      <td>Subaru</td>\n",
       "      <td>Outback</td>\n",
       "      <td>automatic</td>\n",
       "      <td>silver</td>\n",
       "      <td>190000</td>\n",
       "      <td>2010</td>\n",
       "      <td>gasoline</td>\n",
       "      <td>False</td>\n",
       "      <td>gasoline</td>\n",
       "      <td>2.5</td>\n",
       "      <td>universal</td>\n",
       "      <td>False</td>\n",
       "      <td>owned</td>\n",
       "      <td>all</td>\n",
       "      <td>False</td>\n",
       "      <td>Минская обл.</td>\n",
       "      <td>9</td>\n",
       "      <td>13</td>\n",
       "      <td>False</td>\n",
       "      <td>True</td>\n",
       "      <td>True</td>\n",
       "      <td>True</td>\n",
       "      <td>False</td>\n",
       "      <td>True</td>\n",
       "      <td>False</td>\n",
       "      <td>True</td>\n",
       "      <td>True</td>\n",
       "      <td>True</td>\n",
       "      <td>16</td>\n",
       "      <td>15</td>\n",
       "      <td>Japanese</td>\n",
       "    </tr>\n",
       "    <tr>\n",
       "      <th>1</th>\n",
       "      <td>Subaru</td>\n",
       "      <td>Outback</td>\n",
       "      <td>automatic</td>\n",
       "      <td>blue</td>\n",
       "      <td>290000</td>\n",
       "      <td>2002</td>\n",
       "      <td>gasoline</td>\n",
       "      <td>False</td>\n",
       "      <td>gasoline</td>\n",
       "      <td>3.0</td>\n",
       "      <td>universal</td>\n",
       "      <td>False</td>\n",
       "      <td>owned</td>\n",
       "      <td>all</td>\n",
       "      <td>True</td>\n",
       "      <td>Минская обл.</td>\n",
       "      <td>12</td>\n",
       "      <td>54</td>\n",
       "      <td>False</td>\n",
       "      <td>True</td>\n",
       "      <td>False</td>\n",
       "      <td>False</td>\n",
       "      <td>True</td>\n",
       "      <td>True</td>\n",
       "      <td>False</td>\n",
       "      <td>False</td>\n",
       "      <td>False</td>\n",
       "      <td>True</td>\n",
       "      <td>83</td>\n",
       "      <td>23</td>\n",
       "      <td>Japanese</td>\n",
       "    </tr>\n",
       "    <tr>\n",
       "      <th>2</th>\n",
       "      <td>Subaru</td>\n",
       "      <td>Forester</td>\n",
       "      <td>automatic</td>\n",
       "      <td>red</td>\n",
       "      <td>402000</td>\n",
       "      <td>2001</td>\n",
       "      <td>gasoline</td>\n",
       "      <td>False</td>\n",
       "      <td>gasoline</td>\n",
       "      <td>2.5</td>\n",
       "      <td>suv</td>\n",
       "      <td>False</td>\n",
       "      <td>owned</td>\n",
       "      <td>all</td>\n",
       "      <td>True</td>\n",
       "      <td>Минская обл.</td>\n",
       "      <td>4</td>\n",
       "      <td>72</td>\n",
       "      <td>False</td>\n",
       "      <td>True</td>\n",
       "      <td>False</td>\n",
       "      <td>False</td>\n",
       "      <td>False</td>\n",
       "      <td>False</td>\n",
       "      <td>False</td>\n",
       "      <td>False</td>\n",
       "      <td>True</td>\n",
       "      <td>True</td>\n",
       "      <td>151</td>\n",
       "      <td>24</td>\n",
       "      <td>Japanese</td>\n",
       "    </tr>\n",
       "    <tr>\n",
       "      <th>3</th>\n",
       "      <td>Subaru</td>\n",
       "      <td>Impreza</td>\n",
       "      <td>mechanical</td>\n",
       "      <td>blue</td>\n",
       "      <td>10000</td>\n",
       "      <td>1999</td>\n",
       "      <td>gasoline</td>\n",
       "      <td>False</td>\n",
       "      <td>gasoline</td>\n",
       "      <td>3.0</td>\n",
       "      <td>sedan</td>\n",
       "      <td>False</td>\n",
       "      <td>owned</td>\n",
       "      <td>all</td>\n",
       "      <td>True</td>\n",
       "      <td>Минская обл.</td>\n",
       "      <td>9</td>\n",
       "      <td>42</td>\n",
       "      <td>True</td>\n",
       "      <td>False</td>\n",
       "      <td>False</td>\n",
       "      <td>False</td>\n",
       "      <td>False</td>\n",
       "      <td>False</td>\n",
       "      <td>False</td>\n",
       "      <td>False</td>\n",
       "      <td>False</td>\n",
       "      <td>False</td>\n",
       "      <td>86</td>\n",
       "      <td>26</td>\n",
       "      <td>Japanese</td>\n",
       "    </tr>\n",
       "    <tr>\n",
       "      <th>4</th>\n",
       "      <td>Subaru</td>\n",
       "      <td>Legacy</td>\n",
       "      <td>automatic</td>\n",
       "      <td>black</td>\n",
       "      <td>280000</td>\n",
       "      <td>2001</td>\n",
       "      <td>gasoline</td>\n",
       "      <td>False</td>\n",
       "      <td>gasoline</td>\n",
       "      <td>2.5</td>\n",
       "      <td>universal</td>\n",
       "      <td>False</td>\n",
       "      <td>owned</td>\n",
       "      <td>all</td>\n",
       "      <td>True</td>\n",
       "      <td>Гомельская обл.</td>\n",
       "      <td>14</td>\n",
       "      <td>7</td>\n",
       "      <td>False</td>\n",
       "      <td>True</td>\n",
       "      <td>False</td>\n",
       "      <td>True</td>\n",
       "      <td>True</td>\n",
       "      <td>False</td>\n",
       "      <td>False</td>\n",
       "      <td>False</td>\n",
       "      <td>False</td>\n",
       "      <td>True</td>\n",
       "      <td>7</td>\n",
       "      <td>24</td>\n",
       "      <td>Japanese</td>\n",
       "    </tr>\n",
       "  </tbody>\n",
       "</table>\n",
       "</div>"
      ],
      "text/plain": [
       "  manufacturer_name model_name transmission   color  odometer_value  \\\n",
       "0            Subaru    Outback    automatic  silver          190000   \n",
       "1            Subaru    Outback    automatic    blue          290000   \n",
       "2            Subaru   Forester    automatic     red          402000   \n",
       "3            Subaru    Impreza   mechanical    blue           10000   \n",
       "4            Subaru     Legacy    automatic   black          280000   \n",
       "\n",
       "   year_produced engine_fuel  engine_has_gas engine_type  engine_capacity  \\\n",
       "0           2010    gasoline           False    gasoline              2.5   \n",
       "1           2002    gasoline           False    gasoline              3.0   \n",
       "2           2001    gasoline           False    gasoline              2.5   \n",
       "3           1999    gasoline           False    gasoline              3.0   \n",
       "4           2001    gasoline           False    gasoline              2.5   \n",
       "\n",
       "   body_type  has_warranty  state drivetrain  is_exchangeable  \\\n",
       "0  universal         False  owned        all            False   \n",
       "1  universal         False  owned        all             True   \n",
       "2        suv         False  owned        all             True   \n",
       "3      sedan         False  owned        all             True   \n",
       "4  universal         False  owned        all             True   \n",
       "\n",
       "   location_region  number_of_photos  up_counter  feature_0  feature_1  \\\n",
       "0     Минская обл.                 9          13      False       True   \n",
       "1     Минская обл.                12          54      False       True   \n",
       "2     Минская обл.                 4          72      False       True   \n",
       "3     Минская обл.                 9          42       True      False   \n",
       "4  Гомельская обл.                14           7      False       True   \n",
       "\n",
       "   feature_2  feature_3  feature_4  feature_5  feature_6  feature_7  \\\n",
       "0       True       True      False       True      False       True   \n",
       "1      False      False       True       True      False      False   \n",
       "2      False      False      False      False      False      False   \n",
       "3      False      False      False      False      False      False   \n",
       "4      False       True       True      False      False      False   \n",
       "\n",
       "   feature_8  feature_9  duration_listed  car_age manufacturer_region  \n",
       "0       True       True               16       15            Japanese  \n",
       "1      False       True               83       23            Japanese  \n",
       "2       True       True              151       24            Japanese  \n",
       "3      False      False               86       26            Japanese  \n",
       "4      False       True                7       24            Japanese  "
      ]
     },
     "execution_count": 17,
     "metadata": {},
     "output_type": "execute_result"
    }
   ],
   "source": [
    "X.head()"
   ]
  },
  {
   "cell_type": "code",
   "execution_count": 18,
   "id": "4c2baaf1",
   "metadata": {},
   "outputs": [
    {
     "name": "stdout",
     "output_type": "stream",
     "text": [
      "Train_set (30792, 31)\n",
      "Test_set (7699, 31)\n"
     ]
    }
   ],
   "source": [
    "X_train,X_test, y_train, y_test =  train_test_split(X, y, test_size=0.2, random_state= 42)\n",
    "print('Train_set', X_train.shape)\n",
    "print('Test_set', X_test.shape)"
   ]
  },
  {
   "cell_type": "markdown",
   "id": "0302f9eb",
   "metadata": {},
   "source": [
    "Feature dan target dipisah menjadi Train dan Test dengan ratio 80:20 dan random state yang digunakan adalah 42"
   ]
  },
  {
   "cell_type": "markdown",
   "id": "38c198c0",
   "metadata": {},
   "source": [
    "## Handle Outlier"
   ]
  },
  {
   "cell_type": "code",
   "execution_count": 19,
   "id": "e7709693",
   "metadata": {},
   "outputs": [
    {
     "data": {
      "text/html": [
       "<div>\n",
       "<style scoped>\n",
       "    .dataframe tbody tr th:only-of-type {\n",
       "        vertical-align: middle;\n",
       "    }\n",
       "\n",
       "    .dataframe tbody tr th {\n",
       "        vertical-align: top;\n",
       "    }\n",
       "\n",
       "    .dataframe thead th {\n",
       "        text-align: right;\n",
       "    }\n",
       "</style>\n",
       "<table border=\"1\" class=\"dataframe\">\n",
       "  <thead>\n",
       "    <tr style=\"text-align: right;\">\n",
       "      <th></th>\n",
       "      <th>nama_kolom</th>\n",
       "      <th>nilai_skew</th>\n",
       "      <th>distribusi</th>\n",
       "    </tr>\n",
       "  </thead>\n",
       "  <tbody>\n",
       "    <tr>\n",
       "      <th>0</th>\n",
       "      <td>odometer_value</td>\n",
       "      <td>1.20</td>\n",
       "      <td>skew</td>\n",
       "    </tr>\n",
       "    <tr>\n",
       "      <th>1</th>\n",
       "      <td>year_produced</td>\n",
       "      <td>-0.40</td>\n",
       "      <td>normal</td>\n",
       "    </tr>\n",
       "    <tr>\n",
       "      <th>2</th>\n",
       "      <td>engine_capacity</td>\n",
       "      <td>2.01</td>\n",
       "      <td>skew</td>\n",
       "    </tr>\n",
       "    <tr>\n",
       "      <th>3</th>\n",
       "      <td>number_of_photos</td>\n",
       "      <td>1.60</td>\n",
       "      <td>skew</td>\n",
       "    </tr>\n",
       "    <tr>\n",
       "      <th>4</th>\n",
       "      <td>up_counter</td>\n",
       "      <td>13.50</td>\n",
       "      <td>skew</td>\n",
       "    </tr>\n",
       "    <tr>\n",
       "      <th>5</th>\n",
       "      <td>duration_listed</td>\n",
       "      <td>6.94</td>\n",
       "      <td>skew</td>\n",
       "    </tr>\n",
       "    <tr>\n",
       "      <th>6</th>\n",
       "      <td>car_age</td>\n",
       "      <td>0.40</td>\n",
       "      <td>normal</td>\n",
       "    </tr>\n",
       "  </tbody>\n",
       "</table>\n",
       "</div>"
      ],
      "text/plain": [
       "         nama_kolom  nilai_skew distribusi\n",
       "0    odometer_value        1.20       skew\n",
       "1     year_produced       -0.40     normal\n",
       "2   engine_capacity        2.01       skew\n",
       "3  number_of_photos        1.60       skew\n",
       "4        up_counter       13.50       skew\n",
       "5   duration_listed        6.94       skew\n",
       "6           car_age        0.40     normal"
      ]
     },
     "execution_count": 19,
     "metadata": {},
     "output_type": "execute_result"
    }
   ],
   "source": [
    "skewness = ''\n",
    "listItem = []\n",
    "kolom_numerik = ['odometer_value','year_produced','engine_capacity','number_of_photos','up_counter','duration_listed','car_age']\n",
    "for kolom in kolom_numerik:\n",
    "    if  -0.5 <= round(X_train[kolom].skew(),2) <= 0.5:\n",
    "        skewness = 'normal'\n",
    "    else:\n",
    "        skewness = 'skew'\n",
    "    listItem.append([kolom, round(X_train[kolom].skew(),2), skewness]) \n",
    "df_skew = pd.DataFrame(columns=['nama_kolom','nilai_skew','distribusi'],data=listItem)\n",
    "df_skew"
   ]
  },
  {
   "cell_type": "markdown",
   "id": "0160ce24",
   "metadata": {},
   "source": [
    "Majoritas kolom numerik di Train skew dan akan dihandle dengan metode Tukey's Law karena distribusi data nya tidak normal."
   ]
  },
  {
   "cell_type": "code",
   "execution_count": 20,
   "id": "5ac7191e",
   "metadata": {},
   "outputs": [
    {
     "data": {
      "text/html": [
       "<div>\n",
       "<style scoped>\n",
       "    .dataframe tbody tr th:only-of-type {\n",
       "        vertical-align: middle;\n",
       "    }\n",
       "\n",
       "    .dataframe tbody tr th {\n",
       "        vertical-align: top;\n",
       "    }\n",
       "\n",
       "    .dataframe thead th {\n",
       "        text-align: right;\n",
       "    }\n",
       "</style>\n",
       "<table border=\"1\" class=\"dataframe\">\n",
       "  <thead>\n",
       "    <tr style=\"text-align: right;\">\n",
       "      <th></th>\n",
       "      <th>column</th>\n",
       "      <th>upper_boundary</th>\n",
       "      <th>lower_boundary</th>\n",
       "      <th>percantage_outlier</th>\n",
       "    </tr>\n",
       "  </thead>\n",
       "  <tbody>\n",
       "    <tr>\n",
       "      <th>0</th>\n",
       "      <td>odometer_value</td>\n",
       "      <td>819000.00</td>\n",
       "      <td>-336000.00</td>\n",
       "      <td>0.67</td>\n",
       "    </tr>\n",
       "    <tr>\n",
       "      <th>1</th>\n",
       "      <td>year_produced</td>\n",
       "      <td>2027.13</td>\n",
       "      <td>1978.77</td>\n",
       "      <td>0.43</td>\n",
       "    </tr>\n",
       "    <tr>\n",
       "      <th>2</th>\n",
       "      <td>engine_capacity</td>\n",
       "      <td>4.40</td>\n",
       "      <td>-0.50</td>\n",
       "      <td>1.65</td>\n",
       "    </tr>\n",
       "    <tr>\n",
       "      <th>3</th>\n",
       "      <td>number_of_photos</td>\n",
       "      <td>33.00</td>\n",
       "      <td>-16.00</td>\n",
       "      <td>0.40</td>\n",
       "    </tr>\n",
       "    <tr>\n",
       "      <th>4</th>\n",
       "      <td>up_counter</td>\n",
       "      <td>58.00</td>\n",
       "      <td>-40.00</td>\n",
       "      <td>5.12</td>\n",
       "    </tr>\n",
       "    <tr>\n",
       "      <th>5</th>\n",
       "      <td>duration_listed</td>\n",
       "      <td>295.00</td>\n",
       "      <td>-181.00</td>\n",
       "      <td>2.90</td>\n",
       "    </tr>\n",
       "    <tr>\n",
       "      <th>6</th>\n",
       "      <td>car_age</td>\n",
       "      <td>46.23</td>\n",
       "      <td>-2.13</td>\n",
       "      <td>0.43</td>\n",
       "    </tr>\n",
       "  </tbody>\n",
       "</table>\n",
       "</div>"
      ],
      "text/plain": [
       "             column  upper_boundary  lower_boundary  percantage_outlier\n",
       "0    odometer_value       819000.00      -336000.00                0.67\n",
       "1     year_produced         2027.13         1978.77                0.43\n",
       "2   engine_capacity            4.40           -0.50                1.65\n",
       "3  number_of_photos           33.00          -16.00                0.40\n",
       "4        up_counter           58.00          -40.00                5.12\n",
       "5   duration_listed          295.00         -181.00                2.90\n",
       "6           car_age           46.23           -2.13                0.43"
      ]
     },
     "execution_count": 20,
     "metadata": {},
     "output_type": "execute_result"
    }
   ],
   "source": [
    "column = []\n",
    "lower_bound = []\n",
    "upper_bound = []\n",
    "percentage_outlier = []\n",
    "\n",
    "for row in range(0, len(df_skew)):\n",
    "    col = df_skew['nama_kolom'][row]\n",
    "\n",
    "    if df_skew['distribusi'][row] == 'skew':\n",
    "        IQR = X_train[col].quantile(0.75) - X_train[col].quantile(0.25)\n",
    "        if -1 < df_skew['nilai_skew'][row] < 1:\n",
    "            lower_boundary = X_train[col].quantile(0.25) - (IQR * 1.5)\n",
    "            upper_boundary = X_train[col].quantile(0.75) + (IQR * 1.5)\n",
    "        else:\n",
    "            lower_boundary = X_train[col].quantile(0.25) - (IQR * 3)\n",
    "            upper_boundary = X_train[col].quantile(0.75) + (IQR * 3)\n",
    "    else:\n",
    "        lower_boundary = X_train[col].mean() - 3 * X_train[col].std()\n",
    "        upper_boundary = X_train[col].mean() + 3 * X_train[col].std()\n",
    "\n",
    "    column.append(col)\n",
    "    lower_bound.append(lower_boundary)\n",
    "    upper_bound.append(upper_boundary)\n",
    "    total_outlier = (len(X_train[X_train[col] > upper_boundary]) / len(X_train) * 100) + (len(X_train[X_train[col] < lower_boundary]) / len(X_train) * 100)\n",
    "    percentage_outlier.append(total_outlier)\n",
    "\n",
    "outlier = pd.DataFrame({\n",
    "    'column':column,\n",
    "    'upper_boundary': [round(val,2)  for val in upper_bound],\n",
    "    'lower_boundary': [round(val,2) for val in lower_bound],\n",
    "    'percantage_outlier': [round(val,2) for val in percentage_outlier]\n",
    "    })\n",
    "outlier"
   ]
  },
  {
   "cell_type": "code",
   "execution_count": 21,
   "id": "2542699c",
   "metadata": {},
   "outputs": [
    {
     "data": {
      "text/html": [
       "<div>\n",
       "<style scoped>\n",
       "    .dataframe tbody tr th:only-of-type {\n",
       "        vertical-align: middle;\n",
       "    }\n",
       "\n",
       "    .dataframe tbody tr th {\n",
       "        vertical-align: top;\n",
       "    }\n",
       "\n",
       "    .dataframe thead th {\n",
       "        text-align: right;\n",
       "    }\n",
       "</style>\n",
       "<table border=\"1\" class=\"dataframe\">\n",
       "  <thead>\n",
       "    <tr style=\"text-align: right;\">\n",
       "      <th></th>\n",
       "      <th>count</th>\n",
       "      <th>mean</th>\n",
       "      <th>std</th>\n",
       "      <th>min</th>\n",
       "      <th>25%</th>\n",
       "      <th>50%</th>\n",
       "      <th>75%</th>\n",
       "      <th>max</th>\n",
       "    </tr>\n",
       "  </thead>\n",
       "  <tbody>\n",
       "    <tr>\n",
       "      <th>odometer_value</th>\n",
       "      <td>38491.0</td>\n",
       "      <td>249058.31</td>\n",
       "      <td>135918.33</td>\n",
       "      <td>0.0</td>\n",
       "      <td>158000.0</td>\n",
       "      <td>250000.0</td>\n",
       "      <td>325000.0</td>\n",
       "      <td>1000000.0</td>\n",
       "    </tr>\n",
       "    <tr>\n",
       "      <th>year_produced</th>\n",
       "      <td>38491.0</td>\n",
       "      <td>2002.93</td>\n",
       "      <td>8.06</td>\n",
       "      <td>1942.0</td>\n",
       "      <td>1998.0</td>\n",
       "      <td>2003.0</td>\n",
       "      <td>2009.0</td>\n",
       "      <td>2019.0</td>\n",
       "    </tr>\n",
       "    <tr>\n",
       "      <th>engine_capacity</th>\n",
       "      <td>38491.0</td>\n",
       "      <td>2.06</td>\n",
       "      <td>0.67</td>\n",
       "      <td>0.0</td>\n",
       "      <td>1.6</td>\n",
       "      <td>2.0</td>\n",
       "      <td>2.3</td>\n",
       "      <td>8.0</td>\n",
       "    </tr>\n",
       "    <tr>\n",
       "      <th>price_usd</th>\n",
       "      <td>38491.0</td>\n",
       "      <td>6632.81</td>\n",
       "      <td>6424.03</td>\n",
       "      <td>1.0</td>\n",
       "      <td>2100.0</td>\n",
       "      <td>4800.0</td>\n",
       "      <td>8950.0</td>\n",
       "      <td>50000.0</td>\n",
       "    </tr>\n",
       "    <tr>\n",
       "      <th>number_of_photos</th>\n",
       "      <td>38491.0</td>\n",
       "      <td>9.64</td>\n",
       "      <td>6.09</td>\n",
       "      <td>1.0</td>\n",
       "      <td>5.0</td>\n",
       "      <td>8.0</td>\n",
       "      <td>12.0</td>\n",
       "      <td>86.0</td>\n",
       "    </tr>\n",
       "    <tr>\n",
       "      <th>up_counter</th>\n",
       "      <td>38491.0</td>\n",
       "      <td>16.32</td>\n",
       "      <td>43.31</td>\n",
       "      <td>1.0</td>\n",
       "      <td>2.0</td>\n",
       "      <td>5.0</td>\n",
       "      <td>16.0</td>\n",
       "      <td>1861.0</td>\n",
       "    </tr>\n",
       "    <tr>\n",
       "      <th>duration_listed</th>\n",
       "      <td>38491.0</td>\n",
       "      <td>80.65</td>\n",
       "      <td>112.86</td>\n",
       "      <td>0.0</td>\n",
       "      <td>23.0</td>\n",
       "      <td>59.0</td>\n",
       "      <td>91.0</td>\n",
       "      <td>2232.0</td>\n",
       "    </tr>\n",
       "    <tr>\n",
       "      <th>car_age</th>\n",
       "      <td>38491.0</td>\n",
       "      <td>22.07</td>\n",
       "      <td>8.06</td>\n",
       "      <td>6.0</td>\n",
       "      <td>16.0</td>\n",
       "      <td>22.0</td>\n",
       "      <td>27.0</td>\n",
       "      <td>83.0</td>\n",
       "    </tr>\n",
       "  </tbody>\n",
       "</table>\n",
       "</div>"
      ],
      "text/plain": [
       "                    count       mean        std     min       25%       50%  \\\n",
       "odometer_value    38491.0  249058.31  135918.33     0.0  158000.0  250000.0   \n",
       "year_produced     38491.0    2002.93       8.06  1942.0    1998.0    2003.0   \n",
       "engine_capacity   38491.0       2.06       0.67     0.0       1.6       2.0   \n",
       "price_usd         38491.0    6632.81    6424.03     1.0    2100.0    4800.0   \n",
       "number_of_photos  38491.0       9.64       6.09     1.0       5.0       8.0   \n",
       "up_counter        38491.0      16.32      43.31     1.0       2.0       5.0   \n",
       "duration_listed   38491.0      80.65     112.86     0.0      23.0      59.0   \n",
       "car_age           38491.0      22.07       8.06     6.0      16.0      22.0   \n",
       "\n",
       "                       75%        max  \n",
       "odometer_value    325000.0  1000000.0  \n",
       "year_produced       2009.0     2019.0  \n",
       "engine_capacity        2.3        8.0  \n",
       "price_usd           8950.0    50000.0  \n",
       "number_of_photos      12.0       86.0  \n",
       "up_counter            16.0     1861.0  \n",
       "duration_listed       91.0     2232.0  \n",
       "car_age               27.0       83.0  "
      ]
     },
     "execution_count": 21,
     "metadata": {},
     "output_type": "execute_result"
    }
   ],
   "source": [
    "data.describe().round(2).T"
   ]
  },
  {
   "cell_type": "markdown",
   "id": "40c5a0df",
   "metadata": {},
   "source": [
    "Kolom engine capacity memiliki persentase outlier sebesar 1.65%, nilai minimum 0, nilai rata-rata 2.06, nilai tengah 2, maksimum nya 8 dan upper boundary nya 4.4. Nilai maksimum ini sangat jauh dari rata-rata, nilai tengah dan, upper boundary oleh karena itu kolom ini akan di capping. Kolom up_counter memiliki persentase 5.12% dan lebih besar dari 5% tetapi kolom ini tidak akan digunakan karena ini bukun fitur mobil melainkan fitur dari website mobil di jual. Sisa kolom memiliki persentase outlier dibawah 5% oleh karena itu outlier tidak perlu di handle."
   ]
  },
  {
   "cell_type": "code",
   "execution_count": 22,
   "id": "e93d189c",
   "metadata": {},
   "outputs": [
    {
     "data": {
      "text/html": [
       "<div>\n",
       "<style scoped>\n",
       "    .dataframe tbody tr th:only-of-type {\n",
       "        vertical-align: middle;\n",
       "    }\n",
       "\n",
       "    .dataframe tbody tr th {\n",
       "        vertical-align: top;\n",
       "    }\n",
       "\n",
       "    .dataframe thead th {\n",
       "        text-align: right;\n",
       "    }\n",
       "</style>\n",
       "<table border=\"1\" class=\"dataframe\">\n",
       "  <thead>\n",
       "    <tr style=\"text-align: right;\">\n",
       "      <th></th>\n",
       "      <th>manufacturer_name</th>\n",
       "      <th>model_name</th>\n",
       "      <th>transmission</th>\n",
       "      <th>color</th>\n",
       "      <th>odometer_value</th>\n",
       "      <th>year_produced</th>\n",
       "      <th>engine_fuel</th>\n",
       "      <th>engine_has_gas</th>\n",
       "      <th>engine_type</th>\n",
       "      <th>engine_capacity</th>\n",
       "      <th>body_type</th>\n",
       "      <th>has_warranty</th>\n",
       "      <th>state</th>\n",
       "      <th>drivetrain</th>\n",
       "      <th>is_exchangeable</th>\n",
       "      <th>location_region</th>\n",
       "      <th>number_of_photos</th>\n",
       "      <th>up_counter</th>\n",
       "      <th>feature_0</th>\n",
       "      <th>feature_1</th>\n",
       "      <th>feature_2</th>\n",
       "      <th>feature_3</th>\n",
       "      <th>feature_4</th>\n",
       "      <th>feature_5</th>\n",
       "      <th>feature_6</th>\n",
       "      <th>feature_7</th>\n",
       "      <th>feature_8</th>\n",
       "      <th>feature_9</th>\n",
       "      <th>duration_listed</th>\n",
       "      <th>car_age</th>\n",
       "      <th>manufacturer_region</th>\n",
       "    </tr>\n",
       "  </thead>\n",
       "  <tbody>\n",
       "    <tr>\n",
       "      <th>23344</th>\n",
       "      <td>ГАЗ</td>\n",
       "      <td>69</td>\n",
       "      <td>mechanical</td>\n",
       "      <td>green</td>\n",
       "      <td>60</td>\n",
       "      <td>1980</td>\n",
       "      <td>gasoline</td>\n",
       "      <td>False</td>\n",
       "      <td>gasoline</td>\n",
       "      <td>8.0</td>\n",
       "      <td>suv</td>\n",
       "      <td>False</td>\n",
       "      <td>owned</td>\n",
       "      <td>all</td>\n",
       "      <td>True</td>\n",
       "      <td>Минская обл.</td>\n",
       "      <td>6</td>\n",
       "      <td>120</td>\n",
       "      <td>False</td>\n",
       "      <td>False</td>\n",
       "      <td>False</td>\n",
       "      <td>False</td>\n",
       "      <td>False</td>\n",
       "      <td>False</td>\n",
       "      <td>False</td>\n",
       "      <td>True</td>\n",
       "      <td>False</td>\n",
       "      <td>True</td>\n",
       "      <td>930</td>\n",
       "      <td>45</td>\n",
       "      <td>Russian</td>\n",
       "    </tr>\n",
       "  </tbody>\n",
       "</table>\n",
       "</div>"
      ],
      "text/plain": [
       "      manufacturer_name model_name transmission  color  odometer_value  \\\n",
       "23344               ГАЗ         69   mechanical  green              60   \n",
       "\n",
       "       year_produced engine_fuel  engine_has_gas engine_type  engine_capacity  \\\n",
       "23344           1980    gasoline           False    gasoline              8.0   \n",
       "\n",
       "      body_type  has_warranty  state drivetrain  is_exchangeable  \\\n",
       "23344       suv         False  owned        all             True   \n",
       "\n",
       "      location_region  number_of_photos  up_counter  feature_0  feature_1  \\\n",
       "23344    Минская обл.                 6         120      False      False   \n",
       "\n",
       "       feature_2  feature_3  feature_4  feature_5  feature_6  feature_7  \\\n",
       "23344      False      False      False      False      False       True   \n",
       "\n",
       "       feature_8  feature_9  duration_listed  car_age manufacturer_region  \n",
       "23344      False       True              930       45             Russian  "
      ]
     },
     "execution_count": 22,
     "metadata": {},
     "output_type": "execute_result"
    }
   ],
   "source": [
    "X_train.loc[X_train['engine_capacity'] == 8]"
   ]
  },
  {
   "cell_type": "markdown",
   "id": "dd898448",
   "metadata": {},
   "source": [
    "Ini adalah mobil dengan engine capacity 8. Mobil ini merupakan outlier."
   ]
  },
  {
   "cell_type": "code",
   "execution_count": 23,
   "id": "0194ee4a",
   "metadata": {},
   "outputs": [],
   "source": [
    "winsorizer= Winsorizer(capping_method='iqr',\n",
    "                        tail='both',\n",
    "                        fold = 3,\n",
    "                        variables=['engine_capacity'])"
   ]
  },
  {
   "cell_type": "markdown",
   "id": "130fa388",
   "metadata": {},
   "source": [
    "Metode hadle outlier menggunakan winsorizer dengan metode iqr distribusi nya skew dan fold 3 karena nilai outlier ekstrem."
   ]
  },
  {
   "cell_type": "markdown",
   "id": "b7d6fbf5",
   "metadata": {},
   "source": [
    "## Feature Selection"
   ]
  },
  {
   "cell_type": "code",
   "execution_count": 24,
   "id": "721ccb0b",
   "metadata": {},
   "outputs": [],
   "source": [
    "X_train = X_train.drop(columns=['manufacturer_name','model_name','location_region','number_of_photos','up_counter','feature_0','feature_1','feature_2','feature_3','feature_4','feature_5','feature_6','feature_7','feature_8','feature_9','duration_listed'],)\n",
    "X_test = X_test.drop(columns=['manufacturer_name','model_name','location_region','number_of_photos','up_counter','feature_0','feature_1','feature_2','feature_3','feature_4','feature_5','feature_6','feature_7','feature_8','feature_9','duration_listed'],)"
   ]
  },
  {
   "cell_type": "markdown",
   "id": "41bbcfa5",
   "metadata": {},
   "source": [
    "Kolom manufacturer_name dan model_name tidak digunakan karena sudah di representasikan oleh kolom manufacturer_region. Kolom location_region, number_of_photos, dan up_counter adalah fitur dari website dan bukan fitur langsung dari mobil dan akan di drop. Kolom feature_0 samapi feature_9 adalah kolom dummy oleh karena itu kolom-kolom ini akan di drop"
   ]
  },
  {
   "cell_type": "markdown",
   "id": "a0da17fa",
   "metadata": {},
   "source": [
    "## Feature Scaling"
   ]
  },
  {
   "cell_type": "code",
   "execution_count": 25,
   "id": "10a5d730",
   "metadata": {},
   "outputs": [],
   "source": [
    "scaler = StandardScaler()"
   ]
  },
  {
   "cell_type": "markdown",
   "id": "6cc3ace6",
   "metadata": {},
   "source": [
    "Scaling yang digunakan adalah StandardScaler karena setelah capping kolom engine_cap harus distribusi nya sudah normal dan majoritas "
   ]
  },
  {
   "cell_type": "markdown",
   "id": "3b0eccfc",
   "metadata": {},
   "source": [
    "## Feature Encoding"
   ]
  },
  {
   "cell_type": "code",
   "execution_count": 26,
   "id": "0992a9eb",
   "metadata": {},
   "outputs": [],
   "source": [
    "encoder = OneHotEncoder(handle_unknown='ignore')"
   ]
  },
  {
   "cell_type": "markdown",
   "id": "a5d64165",
   "metadata": {},
   "source": [
    "Encoding menggunakan OneHotEncoder karena semua kolom kategorikal nominal. Paremeter handle_unknown digunakan jika ada nilai yang ada di train tapi tidak ada ditest agar tidak error."
   ]
  },
  {
   "cell_type": "markdown",
   "id": "0871aaca",
   "metadata": {},
   "source": [
    "## Pipeline \n"
   ]
  },
  {
   "cell_type": "code",
   "execution_count": 27,
   "id": "8011432a",
   "metadata": {},
   "outputs": [],
   "source": [
    "#Making column transformer for preprocessing\n",
    "kolom_kategoris = ['transmission','color','engine_fuel','engine_has_gas','engine_type','body_type','has_warranty', 'state', 'drivetrain','is_exchangeable','manufacturer_region']\n",
    "kolom_numerik = ['odometer_value','year_produced','engine_capacity','car_age']\n",
    "\n",
    "numerik_pipe = Pipeline([('capping',winsorizer), ('scaling',scaler)])\n",
    "kategori_pipe = Pipeline([('encoding',encoder)])\n",
    "\n",
    "preprocessor = ColumnTransformer([('pipe_numerik',numerik_pipe, kolom_numerik), ('pipe_kategori',kategori_pipe,kolom_kategoris)])"
   ]
  },
  {
   "cell_type": "markdown",
   "id": "fd7f1e55",
   "metadata": {},
   "source": [
    "Pipeline numerik_pipe adalah pipeline untuk kolom numerik. Di pipeline feature akan di capping terlebih dahulu setelah capping di scaling.\n",
    "Pipeline kategori_pipe adalah pipeline unutk kolom kategori. Di pipeline ini feature hanya di encoding saja.\n",
    "\n",
    "Variable preprocessor adalah gabungan pipeline numerik_pipe dan kategori_pipe."
   ]
  },
  {
   "cell_type": "markdown",
   "id": "3952185e",
   "metadata": {},
   "source": [
    "# 7. Model Definition"
   ]
  },
  {
   "cell_type": "markdown",
   "id": "0700d6db",
   "metadata": {},
   "source": [
    "KNN\n",
    "SVM\n",
    "Decision Tree\n",
    "Random Forest\n",
    "Boosting(Xgboost)"
   ]
  },
  {
   "cell_type": "code",
   "execution_count": 28,
   "id": "16509ea4",
   "metadata": {},
   "outputs": [],
   "source": [
    "knr = KNeighborsRegressor()\n",
    "svr = SVR()\n",
    "dtr = DecisionTreeRegressor()\n",
    "rfr = RandomForestRegressor()\n",
    "xgb_r = XGBRegressor()\n"
   ]
  },
  {
   "cell_type": "markdown",
   "id": "a002fea9",
   "metadata": {},
   "source": [
    "Dalam program ini saya menggunakan model KNeighborRegressor, SVR, DecisionTreeRegressor, RandomForestRegressor, XGBRegressor."
   ]
  },
  {
   "cell_type": "code",
   "execution_count": 29,
   "id": "f1dfa454",
   "metadata": {},
   "outputs": [],
   "source": [
    "# Pipeline KNR\n",
    "pipe_knr =Pipeline([\n",
    "    ('preprocessing',preprocessor),\n",
    "    ('regressor', knr)\n",
    "])\n",
    "\n",
    "# Pipeline SVR\n",
    "pipe_svr = Pipeline([\n",
    "    ('preprocessing',preprocessor),\n",
    "    ('regressor', svr)\n",
    "])\n",
    "\n",
    "# Pipeline Decision Tree\n",
    "pipe_dtr = Pipeline([\n",
    "    ('preprocessing',preprocessor),\n",
    "    ('regressor', dtr)\n",
    "])\n",
    "\n",
    "# Pipeline Random Forest Regressor\n",
    "pipe_rfr = Pipeline([\n",
    "    ('preprocessing',preprocessor),\n",
    "    ('regressor', rfr)\n",
    "])\n",
    "\n",
    "# Pipeline Xgboost\n",
    "pipe_xgb_r = Pipeline([\n",
    "    ('preprocessing',preprocessor),\n",
    "    ('regressor', xgb_r)\n",
    "])\n",
    "\n"
   ]
  },
  {
   "cell_type": "markdown",
   "id": "ff037b4d",
   "metadata": {},
   "source": [
    "Setiap model saya buat pipeline nya sendiri seperti pipe_xgb_r adalah pipeline untuk model XGBRegressor."
   ]
  },
  {
   "cell_type": "markdown",
   "id": "2d691b4f",
   "metadata": {},
   "source": [
    "# 8. Base Model Evaluation"
   ]
  },
  {
   "cell_type": "markdown",
   "id": "2c9502fb",
   "metadata": {},
   "source": [
    "Untuk model evaluation saya akan menggukan R2 dan RMSE. R2 digunakan untuk mengevaluasi performa model dimana nilai mendekati 1 artinya model mempelajari data dengan akurat. RMSE digunakan untuk mengevaluasi hasil prediksi target. Untuk kasus isi RMSE cocok digunakan karena target di kasus ini adalah harga mobil dalam ribuan dolar USD dan perbedaan yang tinggi bisa terlihat mahal.  "
   ]
  },
  {
   "cell_type": "markdown",
   "id": "3a86ce5e",
   "metadata": {},
   "source": [
    "## KNeighborsRegressor"
   ]
  },
  {
   "cell_type": "code",
   "execution_count": 192,
   "id": "ad60c1db",
   "metadata": {},
   "outputs": [
    {
     "name": "stdout",
     "output_type": "stream",
     "text": [
      "Training Score:  0.8934\n",
      "Testing Score:  0.8321\n"
     ]
    }
   ],
   "source": [
    "# Model Training\n",
    "pipe_knr.fit(X_train, y_train)\n",
    "print('Training Score: ',round(pipe_knr.score(X_train, y_train),4))\n",
    "print('Testing Score: ', round(pipe_knr.score(X_test, y_test),4))"
   ]
  },
  {
   "cell_type": "markdown",
   "id": "00aa9cca",
   "metadata": {},
   "source": [
    "Bedasarkan nilai R2, score train sebesar 0.89 dan score test sebesar 0.83 dengan selisih 0.06. Bisa dibilang model ini goodfit karena nilai R2 mendekati 1 dan selisih antara train dan test cukup kecil."
   ]
  },
  {
   "cell_type": "code",
   "execution_count": 193,
   "id": "4af0724c",
   "metadata": {},
   "outputs": [],
   "source": [
    "# Model Prediction\n",
    "y_train_pred = pipe_knr.predict(X_train)\n",
    "y_test_pred = pipe_knr.predict(X_test)"
   ]
  },
  {
   "cell_type": "code",
   "execution_count": 194,
   "id": "62198510",
   "metadata": {},
   "outputs": [
    {
     "name": "stdout",
     "output_type": "stream",
     "text": [
      "Nilai rmse train: 2102.5090084619424\n",
      "Nilai rmse test: 2605.4328045555108\n"
     ]
    }
   ],
   "source": [
    "# Model Evaluation\n",
    "rmse_train = root_mean_squared_error(y_train, y_train_pred)\n",
    "rmse_test = root_mean_squared_error(y_test, y_test_pred)\n",
    "\n",
    "print(f'Nilai rmse train: {rmse_train}')\n",
    "print(f'Nilai rmse test: {rmse_test}')"
   ]
  },
  {
   "cell_type": "markdown",
   "id": "0dd51e45",
   "metadata": {},
   "source": [
    "Untuk cross validation saya menggunakan 5 fold untuk semua model."
   ]
  },
  {
   "cell_type": "code",
   "execution_count": 30,
   "id": "21dee9ca",
   "metadata": {},
   "outputs": [
    {
     "name": "stdout",
     "output_type": "stream",
     "text": [
      "Mean RMSE: 2617.0194091299527\n",
      "Stadard deviation: 95.00393112928857\n",
      "RMSE Score - Range of Test-Set       :  2522.015478000664 - 2712.023340259241\n"
     ]
    }
   ],
   "source": [
    "# Cross Validation\n",
    "cv = 5\n",
    "scores = cross_val_score(pipe_knr, X_train, y_train, scoring='neg_root_mean_squared_error', cv=cv)\n",
    "rmse_scores = -scores\n",
    "mean_rmse = np.mean(rmse_scores)\n",
    "std_rmse = np.std(rmse_scores)\n",
    "\n",
    "print(f'Mean RMSE: {mean_rmse}')\n",
    "print(f'Stadard deviation: {std_rmse}')\n",
    "print('RMSE Score - Range of Test-Set       : ', (mean_rmse-std_rmse) , '-', (mean_rmse+std_rmse))"
   ]
  },
  {
   "cell_type": "markdown",
   "id": "0e6a8189",
   "metadata": {},
   "source": [
    "## Support Vector Regression"
   ]
  },
  {
   "cell_type": "code",
   "execution_count": 196,
   "id": "b9033bfd",
   "metadata": {},
   "outputs": [
    {
     "name": "stdout",
     "output_type": "stream",
     "text": [
      "Training Score:  0.256\n",
      "Testing Score:  0.266\n"
     ]
    }
   ],
   "source": [
    "# Model Training\n",
    "pipe_svr.fit(X_train, y_train)\n",
    "print('Training Score: ',round(pipe_svr.score(X_train, y_train),4))\n",
    "print('Testing Score: ', round(pipe_svr.score(X_test, y_test),4))"
   ]
  },
  {
   "cell_type": "markdown",
   "id": "e905cb23",
   "metadata": {},
   "source": [
    "Bedasarkan nilai R2, score train sebesar 0.25 dan score test sebesar 0.26 dengan selisih 0.01. Bisa dibilang model ini underfit karena nilai R2 kurang dari 0.5 walaupun selisih model kecil."
   ]
  },
  {
   "cell_type": "code",
   "execution_count": 197,
   "id": "e333746c",
   "metadata": {},
   "outputs": [],
   "source": [
    "# Model Prediction\n",
    "y_train_pred = pipe_svr.predict(X_train)\n",
    "y_test_pred = pipe_svr.predict(X_test)"
   ]
  },
  {
   "cell_type": "code",
   "execution_count": 198,
   "id": "624e654a",
   "metadata": {},
   "outputs": [
    {
     "name": "stdout",
     "output_type": "stream",
     "text": [
      "Nilai rmse train: 5554.646430258892\n",
      "Nilai rmse test: 5448.128474459739\n"
     ]
    }
   ],
   "source": [
    "# Model Evaluation\n",
    "rmse_train = root_mean_squared_error(y_train, y_train_pred)\n",
    "rmse_test = root_mean_squared_error(y_test, y_test_pred)\n",
    "\n",
    "print(f'Nilai rmse train: {rmse_train}')\n",
    "print(f'Nilai rmse test: {rmse_test}')"
   ]
  },
  {
   "cell_type": "code",
   "execution_count": null,
   "id": "efb3b8a9",
   "metadata": {},
   "outputs": [
    {
     "name": "stdout",
     "output_type": "stream",
     "text": [
      "Mean RMSE: 5723.157798794955\n",
      "Stadard deviaation: 142.67571301144838\n",
      "F1 Score - Range of Test-Set       :  -5865.833511806403 - -5580.482085783507\n"
     ]
    }
   ],
   "source": [
    "# Cross Validation\n",
    "cv = 5\n",
    "scores = cross_val_score(pipe_svr, X_train, y_train, scoring='neg_root_mean_squared_error', cv=cv)\n",
    "rmse_scores = -scores\n",
    "mean_rmse = np.mean(rmse_scores)\n",
    "std_rmse = np.std(rmse_scores)\n",
    "\n",
    "print(f'Mean RMSE: {mean_rmse}')\n",
    "print(f'Stadard deviaation: {std_rmse}')\n",
    "print('RMSE Score - Range of Test-Set       : ', (mean_rmse-std_rmse) , '-', (mean_rmse+std_rmse))"
   ]
  },
  {
   "cell_type": "markdown",
   "id": "1b42f71b",
   "metadata": {},
   "source": [
    "## Decision Tree"
   ]
  },
  {
   "cell_type": "code",
   "execution_count": null,
   "id": "c0150e0d",
   "metadata": {},
   "outputs": [
    {
     "name": "stdout",
     "output_type": "stream",
     "text": [
      "Training Score:  0.9991\n",
      "Testing Score:  0.8022\n"
     ]
    }
   ],
   "source": [
    "# Model Training\n",
    "pipe_dtr.fit(X_train, y_train)\n",
    "print('Training Score: ',round(pipe_dtr.score(X_train, y_train),4))\n",
    "print('Testing Score: ', round(pipe_dtr.score(X_test, y_test),4))"
   ]
  },
  {
   "cell_type": "markdown",
   "id": "3443e098",
   "metadata": {},
   "source": [
    "Bedasarkan nilai R2, score train sebesar 0.99 dan score test sebesar 0.80 dengan selisih 0.19. Bisa dibilang model ini overfit karena nilai R2 test turun pesat dari nilai R2 train."
   ]
  },
  {
   "cell_type": "code",
   "execution_count": 181,
   "id": "23f047fb",
   "metadata": {},
   "outputs": [],
   "source": [
    "# Model Prediction\n",
    "y_train_pred = pipe_dtr.predict(X_train)\n",
    "y_test_pred = pipe_dtr.predict(X_test)"
   ]
  },
  {
   "cell_type": "code",
   "execution_count": 182,
   "id": "b80e6783",
   "metadata": {},
   "outputs": [
    {
     "name": "stdout",
     "output_type": "stream",
     "text": [
      "Nilai rmse train: 190.88437025245733\n",
      "Nilai rmse test: 2828.4669416004676\n"
     ]
    }
   ],
   "source": [
    "# Model Evaluation\n",
    "rmse_train = root_mean_squared_error(y_train, y_train_pred)\n",
    "rmse_test = root_mean_squared_error(y_test, y_test_pred)\n",
    "\n",
    "print(f'Nilai rmse train: {rmse_train}')\n",
    "print(f'Nilai rmse test: {rmse_test}')"
   ]
  },
  {
   "cell_type": "code",
   "execution_count": null,
   "id": "a98c34d8",
   "metadata": {},
   "outputs": [
    {
     "name": "stdout",
     "output_type": "stream",
     "text": [
      "Mean RMSE: 2804.4506914279273\n",
      "Stadard deviaation: 82.34177629982429\n",
      "F1 Score - Range of Test-Set       :  -2886.7924677277515 - -2722.108915128103\n"
     ]
    }
   ],
   "source": [
    "# Cross Validation\n",
    "cv = 5\n",
    "scores = cross_val_score(pipe_dtr, X_train, y_train, scoring='neg_root_mean_squared_error', cv=cv)\n",
    "rmse_scores = -scores\n",
    "mean_rmse = np.mean(rmse_scores)\n",
    "std_rmse = np.std(rmse_scores)\n",
    "\n",
    "print(f'Mean RMSE: {mean_rmse}')\n",
    "print(f'Stadard deviaation: {std_rmse}')\n",
    "print('RMSE Score - Range of Test-Set       : ', (mean_rmse-std_rmse) , '-', (mean_rmse+std_rmse))"
   ]
  },
  {
   "cell_type": "markdown",
   "id": "0a9bafa9",
   "metadata": {},
   "source": [
    "## Random Forest Regressor"
   ]
  },
  {
   "cell_type": "code",
   "execution_count": 184,
   "id": "cb3d8a20",
   "metadata": {},
   "outputs": [
    {
     "name": "stdout",
     "output_type": "stream",
     "text": [
      "Training Score:  0.9845\n",
      "Testing Score:  0.8843\n"
     ]
    }
   ],
   "source": [
    "# Model Training\n",
    "pipe_rfr.fit(X_train, y_train)\n",
    "print('Training Score: ',round(pipe_rfr.score(X_train, y_train),4))\n",
    "print('Testing Score: ', round(pipe_rfr.score(X_test, y_test),4))"
   ]
  },
  {
   "cell_type": "markdown",
   "id": "5eb0aeab",
   "metadata": {},
   "source": [
    "Bedasarkan nilai R2, score train sebesar 0.98 dan score test sebesar 0.88 dengan selisih 0.1. Bisa dibilang model ini overfit karena nilai R2 test turun pesat dari nilai R2 train."
   ]
  },
  {
   "cell_type": "code",
   "execution_count": 185,
   "id": "25f75921",
   "metadata": {},
   "outputs": [],
   "source": [
    "# Model Prediction\n",
    "y_train_pred = pipe_rfr.predict(X_train)\n",
    "y_test_pred = pipe_rfr.predict(X_test)"
   ]
  },
  {
   "cell_type": "code",
   "execution_count": 186,
   "id": "14bf81a2",
   "metadata": {},
   "outputs": [
    {
     "name": "stdout",
     "output_type": "stream",
     "text": [
      "Nilai rmse train: 800.6452150792929\n",
      "Nilai rmse test: 2163.4927764880213\n"
     ]
    }
   ],
   "source": [
    "# Model Evaluation\n",
    "rmse_train = root_mean_squared_error(y_train, y_train_pred)\n",
    "rmse_test = root_mean_squared_error(y_test, y_test_pred)\n",
    "\n",
    "print(f'Nilai rmse train: {rmse_train}')\n",
    "print(f'Nilai rmse test: {rmse_test}')"
   ]
  },
  {
   "cell_type": "code",
   "execution_count": null,
   "id": "6e6b9450",
   "metadata": {},
   "outputs": [
    {
     "name": "stdout",
     "output_type": "stream",
     "text": [
      "Mean RMSE: 2118.061288168595\n",
      "Stadard deviaation: 70.74785911344925\n",
      "F1 Score - Range of Test-Set       :  -2188.8091472820443 - -2047.313429055146\n"
     ]
    }
   ],
   "source": [
    "# Cross Validation\n",
    "cv = 5\n",
    "scores = cross_val_score(pipe_rfr, X_train, y_train, scoring='neg_root_mean_squared_error', cv=cv)\n",
    "rmse_scores = -scores\n",
    "mean_rmse = np.mean(rmse_scores)\n",
    "std_rmse = np.std(rmse_scores)\n",
    "\n",
    "print(f'Mean RMSE: {mean_rmse}')\n",
    "print(f'Stadard deviaation: {std_rmse}')\n",
    "print('RMSE Score - Range of Test-Set       : ', (mean_rmse-std_rmse) , '-', (mean_rmse+std_rmse))"
   ]
  },
  {
   "cell_type": "markdown",
   "id": "1bf9dd54",
   "metadata": {},
   "source": [
    "## XgBoost Regressor"
   ]
  },
  {
   "cell_type": "code",
   "execution_count": 188,
   "id": "21bd87f3",
   "metadata": {},
   "outputs": [
    {
     "name": "stdout",
     "output_type": "stream",
     "text": [
      "Training Score:  0.9432\n",
      "Testing Score:  0.8919\n"
     ]
    }
   ],
   "source": [
    "# Model Training\n",
    "pipe_xgb_r.fit(X_train, y_train)\n",
    "print('Training Score: ',round(pipe_xgb_r.score(X_train, y_train),4))\n",
    "print('Testing Score: ', round(pipe_xgb_r.score(X_test, y_test),4))"
   ]
  },
  {
   "cell_type": "markdown",
   "id": "3d50a763",
   "metadata": {},
   "source": [
    "Bedasarkan nilai R2, score train sebesar 0.94 dan score test sebesar 0.89 dengan selisih 0.05. Bisa dibilang model ini goodfit karena nilai R2 mendekati 1 dan selisih antara train dan test cukup kecil."
   ]
  },
  {
   "cell_type": "code",
   "execution_count": 189,
   "id": "b7d151e2",
   "metadata": {},
   "outputs": [],
   "source": [
    "# Model Prediction\n",
    "y_train_pred = pipe_xgb_r.predict(X_train)\n",
    "y_test_pred = pipe_xgb_r.predict(X_test)"
   ]
  },
  {
   "cell_type": "code",
   "execution_count": 190,
   "id": "f5bc487f",
   "metadata": {},
   "outputs": [
    {
     "name": "stdout",
     "output_type": "stream",
     "text": [
      "Nilai rmse train: 1535.4341319373264\n",
      "Nilai rmse test: 2091.2350203903784\n"
     ]
    }
   ],
   "source": [
    "# Model Evaluation\n",
    "rmse_train = root_mean_squared_error(y_train, y_train_pred)\n",
    "rmse_test = root_mean_squared_error(y_test, y_test_pred)\n",
    "\n",
    "print(f'Nilai rmse train: {rmse_train}')\n",
    "print(f'Nilai rmse test: {rmse_test}')"
   ]
  },
  {
   "cell_type": "code",
   "execution_count": 31,
   "id": "eeede1b3",
   "metadata": {},
   "outputs": [
    {
     "name": "stdout",
     "output_type": "stream",
     "text": [
      "Mean RMSE: 2066.5063533385082\n",
      "Stadard deviaation: 83.75364521557432\n",
      "RMSE Score - Range of Test-Set       :  1982.7527081229339 - 2150.2599985540824\n"
     ]
    }
   ],
   "source": [
    "# Cross Validation\n",
    "cv = 5\n",
    "scores = cross_val_score(pipe_xgb_r, X_train, y_train, scoring='neg_root_mean_squared_error', cv=cv)\n",
    "rmse_scores = -scores\n",
    "mean_rmse = np.mean(rmse_scores)\n",
    "std_rmse = np.std(rmse_scores)\n",
    "\n",
    "print(f'Mean RMSE: {mean_rmse}')\n",
    "print(f'Stadard deviaation: {std_rmse}')\n",
    "print('RMSE Score - Range of Test-Set       : ', (mean_rmse-std_rmse) , '-', (mean_rmse+std_rmse))"
   ]
  },
  {
   "cell_type": "markdown",
   "id": "8e5f7876",
   "metadata": {},
   "source": [
    "## Pemilihan model"
   ]
  },
  {
   "cell_type": "markdown",
   "id": "660c829f",
   "metadata": {},
   "source": [
    "Untuk pemilihan model saya akan menggunakan cross validation dan mencari model paling stabil. Model yang stabil adalah model yang stadar deviasi nya paling kecil. Nilai standar deviasi yang kecil artinya model memiliki variasi yang kecil artinya model lebih stabil. Selain itu dilihat juga dari model mana yang goodfit.\n",
    "\n",
    "Dari 5 model ini model yang goodfit adalah KNeighbors Regressor dan XgBoost Regressor dan bedasarkan hasil cross validation nilai standar devasi KNR adalah 95 dan XgbR adalah 83. XgbR memiliki nilai standar deviasi yang lebih kecil dari KNR oleh karena itu model XgbR yang akan dipilih untuk kasus ini. "
   ]
  },
  {
   "cell_type": "markdown",
   "id": "5ddeb613",
   "metadata": {},
   "source": [
    "# 9. Hyperparameter Tuning"
   ]
  },
  {
   "cell_type": "code",
   "execution_count": 32,
   "id": "09cbb185",
   "metadata": {},
   "outputs": [],
   "source": [
    "param_xgb_r = {\n",
    "    'regressor__n_estimators': [100, 200, 300],\n",
    "    'regressor__learning_rate': [0.01, 0.05, 0.1, 0.3],\n",
    "    'regressor__max_depth': [3, 5, 7, 10],\n",
    "    'regressor__min_child_weight': [1, 3, 5],\n",
    "    'regressor__subsample': [0.6, 0.8, 1.0],\n",
    "    'regressor__colsample_bytree': [0.6, 0.8, 1.0],\n",
    "    'regressor__gamma': [0, 0.1, 0.3],\n",
    "    'regressor__reg_alpha': [0, 0.01, 0.1],\n",
    "    'regressor__reg_lambda': [1, 1.5, 2.0]\n",
    "}"
   ]
  },
  {
   "cell_type": "markdown",
   "id": "2f5a2711",
   "metadata": {},
   "source": [
    "Variable param_xgb_r adalah param yang akan digunakan untuk hyperparameter tuning."
   ]
  },
  {
   "cell_type": "code",
   "execution_count": 42,
   "id": "e2abd41b",
   "metadata": {},
   "outputs": [],
   "source": [
    "rand_xgb_r = RandomizedSearchCV(pipe_xgb_r, param_xgb_r, cv=5).fit(X_train,y_train)"
   ]
  },
  {
   "cell_type": "markdown",
   "id": "ce282aa5",
   "metadata": {},
   "source": [
    "Untuk hyperparemeter tuning saya menggunkan RandomizedSearchCV."
   ]
  },
  {
   "cell_type": "code",
   "execution_count": 43,
   "id": "fb297855",
   "metadata": {},
   "outputs": [
    {
     "name": "stdout",
     "output_type": "stream",
     "text": [
      "Train Set Score :  0.9322893470068788\n",
      "Test Set Score :  0.8936982672281648\n"
     ]
    }
   ],
   "source": [
    "print('Train Set Score : ', rand_xgb_r.score(X_train, y_train))\n",
    "print('Test Set Score : ', rand_xgb_r.score(X_test, y_test))"
   ]
  },
  {
   "cell_type": "markdown",
   "id": "ee9d3143",
   "metadata": {},
   "source": [
    "Setelah di tuning nilai R2 untuk Train adalah 0.91 dan nilai R2 untuk Test adlaah 0.89 dengan selisih 0.02."
   ]
  },
  {
   "cell_type": "code",
   "execution_count": 44,
   "id": "78b10dbd",
   "metadata": {},
   "outputs": [
    {
     "name": "stdout",
     "output_type": "stream",
     "text": [
      "Best param adalah: {'regressor__subsample': 1.0, 'regressor__reg_lambda': 1, 'regressor__reg_alpha': 0.01, 'regressor__n_estimators': 200, 'regressor__min_child_weight': 3, 'regressor__max_depth': 7, 'regressor__learning_rate': 0.05, 'regressor__gamma': 0.1, 'regressor__colsample_bytree': 0.6}\n",
      "Best pipe adalah: Pipeline(steps=[('preprocessing',\n",
      "                 ColumnTransformer(transformers=[('pipe_numerik',\n",
      "                                                  Pipeline(steps=[('capping',\n",
      "                                                                   Winsorizer(capping_method='iqr',\n",
      "                                                                              fold=3,\n",
      "                                                                              tail='both',\n",
      "                                                                              variables=['engine_capacity'])),\n",
      "                                                                  ('scaling',\n",
      "                                                                   StandardScaler())]),\n",
      "                                                  ['odometer_value',\n",
      "                                                   'year_produced',\n",
      "                                                   'engine_capacity',\n",
      "                                                   'car_age']),\n",
      "                                                 ('pipe_kategori',\n",
      "                                                  Pipeline(steps=[('encoding',\n",
      "                                                                   OneHotEncoder(handl...\n",
      "                              feature_types=None, gamma=0.1, grow_policy=None,\n",
      "                              importance_type=None,\n",
      "                              interaction_constraints=None, learning_rate=0.05,\n",
      "                              max_bin=None, max_cat_threshold=None,\n",
      "                              max_cat_to_onehot=None, max_delta_step=None,\n",
      "                              max_depth=7, max_leaves=None, min_child_weight=3,\n",
      "                              missing=nan, monotone_constraints=None,\n",
      "                              multi_strategy=None, n_estimators=200,\n",
      "                              n_jobs=None, num_parallel_tree=None,\n",
      "                              random_state=None, ...))])\n"
     ]
    }
   ],
   "source": [
    "best_param_xgb_r = rand_xgb_r.best_params_\n",
    "print(f'Best param adalah: {best_param_xgb_r}')\n",
    "best_pipe_xgb_r = rand_xgb_r.best_estimator_\n",
    "print(f'Best pipe adalah: {best_pipe_xgb_r}')"
   ]
  },
  {
   "cell_type": "markdown",
   "id": "bc2b5966",
   "metadata": {},
   "source": [
    "## Perbandingan Model Setalah di Tuning."
   ]
  },
  {
   "cell_type": "code",
   "execution_count": 231,
   "id": "d66e0a41",
   "metadata": {},
   "outputs": [
    {
     "name": "stdout",
     "output_type": "stream",
     "text": [
      "Model sebelum tuning\n",
      "Training Score:  0.9432\n",
      "Testing Score:  0.8919\n",
      "\n",
      "\n",
      "Model setalah tuning\n",
      "Train Set Score :  0.915848985145887\n",
      "Test Set Score :  0.8900163992754307\n"
     ]
    }
   ],
   "source": [
    "print('Model sebelum tuning')\n",
    "print('Training Score: ',round(pipe_xgb_r.score(X_train, y_train),4))\n",
    "print('Testing Score: ', round(pipe_xgb_r.score(X_test, y_test),4))\n",
    "print('\\n')\n",
    "print('Model setalah tuning')\n",
    "print('Train Set Score : ', rand_xgb_r.score(X_train, y_train))\n",
    "print('Test Set Score : ', rand_xgb_r.score(X_test, y_test))"
   ]
  },
  {
   "cell_type": "code",
   "execution_count": 50,
   "id": "92f5fd4d",
   "metadata": {},
   "outputs": [],
   "source": [
    "best_y_train_pred = best_pipe_xgb_r.predict(X_train)\n",
    "best_y_test_pred = best_pipe_xgb_r.predict(X_test)"
   ]
  },
  {
   "cell_type": "code",
   "execution_count": 51,
   "id": "1739a0a2",
   "metadata": {},
   "outputs": [],
   "source": [
    "best_rmse_train = root_mean_squared_error(y_train, best_y_train_pred)\n",
    "best_rmse_test = root_mean_squared_error(y_test, best_y_test_pred)"
   ]
  },
  {
   "cell_type": "code",
   "execution_count": 52,
   "id": "74d76d74",
   "metadata": {},
   "outputs": [
    {
     "name": "stdout",
     "output_type": "stream",
     "text": [
      "Nilai rmse train: 1675.739759315121\n",
      "Nilai rmse test: 2073.3466460560876\n"
     ]
    }
   ],
   "source": [
    "print(f'Nilai rmse train: {best_rmse_train}')\n",
    "print(f'Nilai rmse test: {best_rmse_test}')"
   ]
  },
  {
   "cell_type": "code",
   "execution_count": 236,
   "id": "2d459e0c",
   "metadata": {},
   "outputs": [
    {
     "name": "stdout",
     "output_type": "stream",
     "text": [
      "Nilai rmse train: 1868.1328268592388\n",
      "Nilai rmse test: 2108.947232802559\n"
     ]
    }
   ],
   "source": [
    "print(f'Nilai rmse train: {best_rmse_train}')\n",
    "print(f'Nilai rmse test: {best_rmse_test}')"
   ]
  },
  {
   "cell_type": "markdown",
   "id": "2f32b830",
   "metadata": {},
   "source": [
    "Setalah dilakukan tuning, nilai R2 untuk train dan test turun dari 0.94 menjadi 0.91 dan 0.891 menjadi 0.890 tetapi selisih nilai R2 setelah tuning semakin kecil dari 0.05 menjadi 0.02. Model Xgboost setelah dituning menghasilkan prediksi yang lebih konsisten. Selain itu prediksi nilai aktual untuk train 1868 dan test nya 2108"
   ]
  },
  {
   "cell_type": "markdown",
   "id": "1d3afa89",
   "metadata": {},
   "source": [
    "# 10. Model Saving"
   ]
  },
  {
   "cell_type": "code",
   "execution_count": 232,
   "id": "b741b5b2",
   "metadata": {},
   "outputs": [],
   "source": [
    "pickle.dump(best_pipe_xgb_r, open('model_xbg_r.pkl', 'wb'))"
   ]
  },
  {
   "cell_type": "markdown",
   "id": "848379d3",
   "metadata": {},
   "source": [
    "Pada bagian ini model model Xgboost disimpan ke dalam file .pkl"
   ]
  },
  {
   "cell_type": "markdown",
   "id": "69e337a0",
   "metadata": {},
   "source": [
    "# Pengambilan Kesimpulan"
   ]
  },
  {
   "cell_type": "markdown",
   "id": "e7562a09",
   "metadata": {},
   "source": [
    "Kesimpulan yang dapat dibentuk dari projek ini adalah:\n",
    "\n",
    "Dalam pengerjaan projek 5 model digunakan sebagai konsiderasi model regresi yang digunakan untuk memprediksi harga mobil bekas. Model-model itu adalah KNeighborsRegressor, Support Vector Regression, Decision Tree, Random Forest Regression, dan XgBoost Regressor. Setelah setiap model di evaluasi model yang dipilih untuk memprediksi harga mobil bekas adalah Xgboost Regressor. Model ini menghasil kan nilai R2 train sebesar 0.91 dan test sebesar 0.89. Nilai R2 dari model ini lebih besar daripada standar R2 di problem statement tetapi prediksi yang dibuat model ini masih kurang dari standar di problem statement. Error prediksi harga mobil bekas menghasilkan nilai di antara 1800-2100 dolar tetapi standar di promblem statemen sebanyak 1500 dolar. Perbedaan ini bisa terjadi karena beberapa seperti outlier yang ada di data atau fitur yang digunakan masih kurang. Improvement yang dapat dibuat dari projek ini adalah memperbanyak fitur mobil seperti merek ban, rim roda bawaan stok, jenis interior. Walaupun model goodfit saya rasa fitur masih bisa ditambah dengan harapan Xgboost mempelajari dataset nya lebih baik.\n",
    "\n",
    "Kelebihan dari Xgboost Regressor cocok untuk kasus dimana data dalam bentuk tabular dan model ini cocok untuk kasus yang membutuhkan akurasi yang tinggi seperti harga mobil karena range nya bisa ratusan dolar. Model ini juga support L1 dan L2 regularisasi untuk handle overfitting di model.\n",
    "\n",
    "Kekurangan dari Xgboos Regressor adalah model ini tidak dapat handle data kategorikal secara native. Data kategorical harus di encoding terlebih dahulu dan performa model bisa drop jika tuning model tidak sesuai seperti parameter depth atau learning rate.\n",
    "\n",
    "Beberapa insight yang temukan adalah bedasarkan scatterplot, harga mobil berkorelasi dengan odometer dan umur dimana semakin semakin sering mobil digunakan atau semakin tua mobil maka harga mobil menurun."
   ]
  },
  {
   "cell_type": "code",
   "execution_count": 1,
   "id": "453a6d5c",
   "metadata": {},
   "outputs": [
    {
     "data": {
      "text/plain": [
       "71.4"
      ]
     },
     "execution_count": 1,
     "metadata": {},
     "output_type": "execute_result"
    }
   ],
   "source": [
    "714 * (10/100)"
   ]
  },
  {
   "cell_type": "code",
   "execution_count": 56,
   "id": "8a898f10",
   "metadata": {},
   "outputs": [
    {
     "name": "stdout",
     "output_type": "stream",
     "text": [
      "XGBRegressor(base_score=None, booster=None, callbacks=None,\n",
      "             colsample_bylevel=None, colsample_bynode=None,\n",
      "             colsample_bytree=0.6, device=None, early_stopping_rounds=None,\n",
      "             enable_categorical=False, eval_metric=None, feature_types=None,\n",
      "             gamma=0.1, grow_policy=None, importance_type=None,\n",
      "             interaction_constraints=None, learning_rate=0.05, max_bin=None,\n",
      "             max_cat_threshold=None, max_cat_to_onehot=None,\n",
      "             max_delta_step=None, max_depth=7, max_leaves=None,\n",
      "             min_child_weight=3, missing=nan, monotone_constraints=None,\n",
      "             multi_strategy=None, n_estimators=200, n_jobs=None,\n",
      "             num_parallel_tree=None, random_state=None, ...)\n"
     ]
    }
   ],
   "source": [
    "prep = best_pipe_xgb_r.named_steps['preprocessing']\n",
    "best_model = best_pipe_xgb_r.named_steps['regressor']\n",
    "print(best_model)"
   ]
  },
  {
   "cell_type": "code",
   "execution_count": 55,
   "id": "18318c36",
   "metadata": {},
   "outputs": [
    {
     "data": {
      "text/html": [
       "<style>#sk-container-id-1 {\n",
       "  /* Definition of color scheme common for light and dark mode */\n",
       "  --sklearn-color-text: #000;\n",
       "  --sklearn-color-text-muted: #666;\n",
       "  --sklearn-color-line: gray;\n",
       "  /* Definition of color scheme for unfitted estimators */\n",
       "  --sklearn-color-unfitted-level-0: #fff5e6;\n",
       "  --sklearn-color-unfitted-level-1: #f6e4d2;\n",
       "  --sklearn-color-unfitted-level-2: #ffe0b3;\n",
       "  --sklearn-color-unfitted-level-3: chocolate;\n",
       "  /* Definition of color scheme for fitted estimators */\n",
       "  --sklearn-color-fitted-level-0: #f0f8ff;\n",
       "  --sklearn-color-fitted-level-1: #d4ebff;\n",
       "  --sklearn-color-fitted-level-2: #b3dbfd;\n",
       "  --sklearn-color-fitted-level-3: cornflowerblue;\n",
       "\n",
       "  /* Specific color for light theme */\n",
       "  --sklearn-color-text-on-default-background: var(--sg-text-color, var(--theme-code-foreground, var(--jp-content-font-color1, black)));\n",
       "  --sklearn-color-background: var(--sg-background-color, var(--theme-background, var(--jp-layout-color0, white)));\n",
       "  --sklearn-color-border-box: var(--sg-text-color, var(--theme-code-foreground, var(--jp-content-font-color1, black)));\n",
       "  --sklearn-color-icon: #696969;\n",
       "\n",
       "  @media (prefers-color-scheme: dark) {\n",
       "    /* Redefinition of color scheme for dark theme */\n",
       "    --sklearn-color-text-on-default-background: var(--sg-text-color, var(--theme-code-foreground, var(--jp-content-font-color1, white)));\n",
       "    --sklearn-color-background: var(--sg-background-color, var(--theme-background, var(--jp-layout-color0, #111)));\n",
       "    --sklearn-color-border-box: var(--sg-text-color, var(--theme-code-foreground, var(--jp-content-font-color1, white)));\n",
       "    --sklearn-color-icon: #878787;\n",
       "  }\n",
       "}\n",
       "\n",
       "#sk-container-id-1 {\n",
       "  color: var(--sklearn-color-text);\n",
       "}\n",
       "\n",
       "#sk-container-id-1 pre {\n",
       "  padding: 0;\n",
       "}\n",
       "\n",
       "#sk-container-id-1 input.sk-hidden--visually {\n",
       "  border: 0;\n",
       "  clip: rect(1px 1px 1px 1px);\n",
       "  clip: rect(1px, 1px, 1px, 1px);\n",
       "  height: 1px;\n",
       "  margin: -1px;\n",
       "  overflow: hidden;\n",
       "  padding: 0;\n",
       "  position: absolute;\n",
       "  width: 1px;\n",
       "}\n",
       "\n",
       "#sk-container-id-1 div.sk-dashed-wrapped {\n",
       "  border: 1px dashed var(--sklearn-color-line);\n",
       "  margin: 0 0.4em 0.5em 0.4em;\n",
       "  box-sizing: border-box;\n",
       "  padding-bottom: 0.4em;\n",
       "  background-color: var(--sklearn-color-background);\n",
       "}\n",
       "\n",
       "#sk-container-id-1 div.sk-container {\n",
       "  /* jupyter's `normalize.less` sets `[hidden] { display: none; }`\n",
       "     but bootstrap.min.css set `[hidden] { display: none !important; }`\n",
       "     so we also need the `!important` here to be able to override the\n",
       "     default hidden behavior on the sphinx rendered scikit-learn.org.\n",
       "     See: https://github.com/scikit-learn/scikit-learn/issues/21755 */\n",
       "  display: inline-block !important;\n",
       "  position: relative;\n",
       "}\n",
       "\n",
       "#sk-container-id-1 div.sk-text-repr-fallback {\n",
       "  display: none;\n",
       "}\n",
       "\n",
       "div.sk-parallel-item,\n",
       "div.sk-serial,\n",
       "div.sk-item {\n",
       "  /* draw centered vertical line to link estimators */\n",
       "  background-image: linear-gradient(var(--sklearn-color-text-on-default-background), var(--sklearn-color-text-on-default-background));\n",
       "  background-size: 2px 100%;\n",
       "  background-repeat: no-repeat;\n",
       "  background-position: center center;\n",
       "}\n",
       "\n",
       "/* Parallel-specific style estimator block */\n",
       "\n",
       "#sk-container-id-1 div.sk-parallel-item::after {\n",
       "  content: \"\";\n",
       "  width: 100%;\n",
       "  border-bottom: 2px solid var(--sklearn-color-text-on-default-background);\n",
       "  flex-grow: 1;\n",
       "}\n",
       "\n",
       "#sk-container-id-1 div.sk-parallel {\n",
       "  display: flex;\n",
       "  align-items: stretch;\n",
       "  justify-content: center;\n",
       "  background-color: var(--sklearn-color-background);\n",
       "  position: relative;\n",
       "}\n",
       "\n",
       "#sk-container-id-1 div.sk-parallel-item {\n",
       "  display: flex;\n",
       "  flex-direction: column;\n",
       "}\n",
       "\n",
       "#sk-container-id-1 div.sk-parallel-item:first-child::after {\n",
       "  align-self: flex-end;\n",
       "  width: 50%;\n",
       "}\n",
       "\n",
       "#sk-container-id-1 div.sk-parallel-item:last-child::after {\n",
       "  align-self: flex-start;\n",
       "  width: 50%;\n",
       "}\n",
       "\n",
       "#sk-container-id-1 div.sk-parallel-item:only-child::after {\n",
       "  width: 0;\n",
       "}\n",
       "\n",
       "/* Serial-specific style estimator block */\n",
       "\n",
       "#sk-container-id-1 div.sk-serial {\n",
       "  display: flex;\n",
       "  flex-direction: column;\n",
       "  align-items: center;\n",
       "  background-color: var(--sklearn-color-background);\n",
       "  padding-right: 1em;\n",
       "  padding-left: 1em;\n",
       "}\n",
       "\n",
       "\n",
       "/* Toggleable style: style used for estimator/Pipeline/ColumnTransformer box that is\n",
       "clickable and can be expanded/collapsed.\n",
       "- Pipeline and ColumnTransformer use this feature and define the default style\n",
       "- Estimators will overwrite some part of the style using the `sk-estimator` class\n",
       "*/\n",
       "\n",
       "/* Pipeline and ColumnTransformer style (default) */\n",
       "\n",
       "#sk-container-id-1 div.sk-toggleable {\n",
       "  /* Default theme specific background. It is overwritten whether we have a\n",
       "  specific estimator or a Pipeline/ColumnTransformer */\n",
       "  background-color: var(--sklearn-color-background);\n",
       "}\n",
       "\n",
       "/* Toggleable label */\n",
       "#sk-container-id-1 label.sk-toggleable__label {\n",
       "  cursor: pointer;\n",
       "  display: flex;\n",
       "  width: 100%;\n",
       "  margin-bottom: 0;\n",
       "  padding: 0.5em;\n",
       "  box-sizing: border-box;\n",
       "  text-align: center;\n",
       "  align-items: start;\n",
       "  justify-content: space-between;\n",
       "  gap: 0.5em;\n",
       "}\n",
       "\n",
       "#sk-container-id-1 label.sk-toggleable__label .caption {\n",
       "  font-size: 0.6rem;\n",
       "  font-weight: lighter;\n",
       "  color: var(--sklearn-color-text-muted);\n",
       "}\n",
       "\n",
       "#sk-container-id-1 label.sk-toggleable__label-arrow:before {\n",
       "  /* Arrow on the left of the label */\n",
       "  content: \"▸\";\n",
       "  float: left;\n",
       "  margin-right: 0.25em;\n",
       "  color: var(--sklearn-color-icon);\n",
       "}\n",
       "\n",
       "#sk-container-id-1 label.sk-toggleable__label-arrow:hover:before {\n",
       "  color: var(--sklearn-color-text);\n",
       "}\n",
       "\n",
       "/* Toggleable content - dropdown */\n",
       "\n",
       "#sk-container-id-1 div.sk-toggleable__content {\n",
       "  max-height: 0;\n",
       "  max-width: 0;\n",
       "  overflow: hidden;\n",
       "  text-align: left;\n",
       "  /* unfitted */\n",
       "  background-color: var(--sklearn-color-unfitted-level-0);\n",
       "}\n",
       "\n",
       "#sk-container-id-1 div.sk-toggleable__content.fitted {\n",
       "  /* fitted */\n",
       "  background-color: var(--sklearn-color-fitted-level-0);\n",
       "}\n",
       "\n",
       "#sk-container-id-1 div.sk-toggleable__content pre {\n",
       "  margin: 0.2em;\n",
       "  border-radius: 0.25em;\n",
       "  color: var(--sklearn-color-text);\n",
       "  /* unfitted */\n",
       "  background-color: var(--sklearn-color-unfitted-level-0);\n",
       "}\n",
       "\n",
       "#sk-container-id-1 div.sk-toggleable__content.fitted pre {\n",
       "  /* unfitted */\n",
       "  background-color: var(--sklearn-color-fitted-level-0);\n",
       "}\n",
       "\n",
       "#sk-container-id-1 input.sk-toggleable__control:checked~div.sk-toggleable__content {\n",
       "  /* Expand drop-down */\n",
       "  max-height: 200px;\n",
       "  max-width: 100%;\n",
       "  overflow: auto;\n",
       "}\n",
       "\n",
       "#sk-container-id-1 input.sk-toggleable__control:checked~label.sk-toggleable__label-arrow:before {\n",
       "  content: \"▾\";\n",
       "}\n",
       "\n",
       "/* Pipeline/ColumnTransformer-specific style */\n",
       "\n",
       "#sk-container-id-1 div.sk-label input.sk-toggleable__control:checked~label.sk-toggleable__label {\n",
       "  color: var(--sklearn-color-text);\n",
       "  background-color: var(--sklearn-color-unfitted-level-2);\n",
       "}\n",
       "\n",
       "#sk-container-id-1 div.sk-label.fitted input.sk-toggleable__control:checked~label.sk-toggleable__label {\n",
       "  background-color: var(--sklearn-color-fitted-level-2);\n",
       "}\n",
       "\n",
       "/* Estimator-specific style */\n",
       "\n",
       "/* Colorize estimator box */\n",
       "#sk-container-id-1 div.sk-estimator input.sk-toggleable__control:checked~label.sk-toggleable__label {\n",
       "  /* unfitted */\n",
       "  background-color: var(--sklearn-color-unfitted-level-2);\n",
       "}\n",
       "\n",
       "#sk-container-id-1 div.sk-estimator.fitted input.sk-toggleable__control:checked~label.sk-toggleable__label {\n",
       "  /* fitted */\n",
       "  background-color: var(--sklearn-color-fitted-level-2);\n",
       "}\n",
       "\n",
       "#sk-container-id-1 div.sk-label label.sk-toggleable__label,\n",
       "#sk-container-id-1 div.sk-label label {\n",
       "  /* The background is the default theme color */\n",
       "  color: var(--sklearn-color-text-on-default-background);\n",
       "}\n",
       "\n",
       "/* On hover, darken the color of the background */\n",
       "#sk-container-id-1 div.sk-label:hover label.sk-toggleable__label {\n",
       "  color: var(--sklearn-color-text);\n",
       "  background-color: var(--sklearn-color-unfitted-level-2);\n",
       "}\n",
       "\n",
       "/* Label box, darken color on hover, fitted */\n",
       "#sk-container-id-1 div.sk-label.fitted:hover label.sk-toggleable__label.fitted {\n",
       "  color: var(--sklearn-color-text);\n",
       "  background-color: var(--sklearn-color-fitted-level-2);\n",
       "}\n",
       "\n",
       "/* Estimator label */\n",
       "\n",
       "#sk-container-id-1 div.sk-label label {\n",
       "  font-family: monospace;\n",
       "  font-weight: bold;\n",
       "  display: inline-block;\n",
       "  line-height: 1.2em;\n",
       "}\n",
       "\n",
       "#sk-container-id-1 div.sk-label-container {\n",
       "  text-align: center;\n",
       "}\n",
       "\n",
       "/* Estimator-specific */\n",
       "#sk-container-id-1 div.sk-estimator {\n",
       "  font-family: monospace;\n",
       "  border: 1px dotted var(--sklearn-color-border-box);\n",
       "  border-radius: 0.25em;\n",
       "  box-sizing: border-box;\n",
       "  margin-bottom: 0.5em;\n",
       "  /* unfitted */\n",
       "  background-color: var(--sklearn-color-unfitted-level-0);\n",
       "}\n",
       "\n",
       "#sk-container-id-1 div.sk-estimator.fitted {\n",
       "  /* fitted */\n",
       "  background-color: var(--sklearn-color-fitted-level-0);\n",
       "}\n",
       "\n",
       "/* on hover */\n",
       "#sk-container-id-1 div.sk-estimator:hover {\n",
       "  /* unfitted */\n",
       "  background-color: var(--sklearn-color-unfitted-level-2);\n",
       "}\n",
       "\n",
       "#sk-container-id-1 div.sk-estimator.fitted:hover {\n",
       "  /* fitted */\n",
       "  background-color: var(--sklearn-color-fitted-level-2);\n",
       "}\n",
       "\n",
       "/* Specification for estimator info (e.g. \"i\" and \"?\") */\n",
       "\n",
       "/* Common style for \"i\" and \"?\" */\n",
       "\n",
       ".sk-estimator-doc-link,\n",
       "a:link.sk-estimator-doc-link,\n",
       "a:visited.sk-estimator-doc-link {\n",
       "  float: right;\n",
       "  font-size: smaller;\n",
       "  line-height: 1em;\n",
       "  font-family: monospace;\n",
       "  background-color: var(--sklearn-color-background);\n",
       "  border-radius: 1em;\n",
       "  height: 1em;\n",
       "  width: 1em;\n",
       "  text-decoration: none !important;\n",
       "  margin-left: 0.5em;\n",
       "  text-align: center;\n",
       "  /* unfitted */\n",
       "  border: var(--sklearn-color-unfitted-level-1) 1pt solid;\n",
       "  color: var(--sklearn-color-unfitted-level-1);\n",
       "}\n",
       "\n",
       ".sk-estimator-doc-link.fitted,\n",
       "a:link.sk-estimator-doc-link.fitted,\n",
       "a:visited.sk-estimator-doc-link.fitted {\n",
       "  /* fitted */\n",
       "  border: var(--sklearn-color-fitted-level-1) 1pt solid;\n",
       "  color: var(--sklearn-color-fitted-level-1);\n",
       "}\n",
       "\n",
       "/* On hover */\n",
       "div.sk-estimator:hover .sk-estimator-doc-link:hover,\n",
       ".sk-estimator-doc-link:hover,\n",
       "div.sk-label-container:hover .sk-estimator-doc-link:hover,\n",
       ".sk-estimator-doc-link:hover {\n",
       "  /* unfitted */\n",
       "  background-color: var(--sklearn-color-unfitted-level-3);\n",
       "  color: var(--sklearn-color-background);\n",
       "  text-decoration: none;\n",
       "}\n",
       "\n",
       "div.sk-estimator.fitted:hover .sk-estimator-doc-link.fitted:hover,\n",
       ".sk-estimator-doc-link.fitted:hover,\n",
       "div.sk-label-container:hover .sk-estimator-doc-link.fitted:hover,\n",
       ".sk-estimator-doc-link.fitted:hover {\n",
       "  /* fitted */\n",
       "  background-color: var(--sklearn-color-fitted-level-3);\n",
       "  color: var(--sklearn-color-background);\n",
       "  text-decoration: none;\n",
       "}\n",
       "\n",
       "/* Span, style for the box shown on hovering the info icon */\n",
       ".sk-estimator-doc-link span {\n",
       "  display: none;\n",
       "  z-index: 9999;\n",
       "  position: relative;\n",
       "  font-weight: normal;\n",
       "  right: .2ex;\n",
       "  padding: .5ex;\n",
       "  margin: .5ex;\n",
       "  width: min-content;\n",
       "  min-width: 20ex;\n",
       "  max-width: 50ex;\n",
       "  color: var(--sklearn-color-text);\n",
       "  box-shadow: 2pt 2pt 4pt #999;\n",
       "  /* unfitted */\n",
       "  background: var(--sklearn-color-unfitted-level-0);\n",
       "  border: .5pt solid var(--sklearn-color-unfitted-level-3);\n",
       "}\n",
       "\n",
       ".sk-estimator-doc-link.fitted span {\n",
       "  /* fitted */\n",
       "  background: var(--sklearn-color-fitted-level-0);\n",
       "  border: var(--sklearn-color-fitted-level-3);\n",
       "}\n",
       "\n",
       ".sk-estimator-doc-link:hover span {\n",
       "  display: block;\n",
       "}\n",
       "\n",
       "/* \"?\"-specific style due to the `<a>` HTML tag */\n",
       "\n",
       "#sk-container-id-1 a.estimator_doc_link {\n",
       "  float: right;\n",
       "  font-size: 1rem;\n",
       "  line-height: 1em;\n",
       "  font-family: monospace;\n",
       "  background-color: var(--sklearn-color-background);\n",
       "  border-radius: 1rem;\n",
       "  height: 1rem;\n",
       "  width: 1rem;\n",
       "  text-decoration: none;\n",
       "  /* unfitted */\n",
       "  color: var(--sklearn-color-unfitted-level-1);\n",
       "  border: var(--sklearn-color-unfitted-level-1) 1pt solid;\n",
       "}\n",
       "\n",
       "#sk-container-id-1 a.estimator_doc_link.fitted {\n",
       "  /* fitted */\n",
       "  border: var(--sklearn-color-fitted-level-1) 1pt solid;\n",
       "  color: var(--sklearn-color-fitted-level-1);\n",
       "}\n",
       "\n",
       "/* On hover */\n",
       "#sk-container-id-1 a.estimator_doc_link:hover {\n",
       "  /* unfitted */\n",
       "  background-color: var(--sklearn-color-unfitted-level-3);\n",
       "  color: var(--sklearn-color-background);\n",
       "  text-decoration: none;\n",
       "}\n",
       "\n",
       "#sk-container-id-1 a.estimator_doc_link.fitted:hover {\n",
       "  /* fitted */\n",
       "  background-color: var(--sklearn-color-fitted-level-3);\n",
       "}\n",
       "</style><div id=\"sk-container-id-1\" class=\"sk-top-container\"><div class=\"sk-text-repr-fallback\"><pre>Pipeline(steps=[(&#x27;preprocessing&#x27;,\n",
       "                 ColumnTransformer(transformers=[(&#x27;pipe_numerik&#x27;,\n",
       "                                                  Pipeline(steps=[(&#x27;capping&#x27;,\n",
       "                                                                   Winsorizer(capping_method=&#x27;iqr&#x27;,\n",
       "                                                                              fold=3,\n",
       "                                                                              tail=&#x27;both&#x27;,\n",
       "                                                                              variables=[&#x27;engine_capacity&#x27;])),\n",
       "                                                                  (&#x27;scaling&#x27;,\n",
       "                                                                   StandardScaler())]),\n",
       "                                                  [&#x27;odometer_value&#x27;,\n",
       "                                                   &#x27;year_produced&#x27;,\n",
       "                                                   &#x27;engine_capacity&#x27;,\n",
       "                                                   &#x27;car_age&#x27;]),\n",
       "                                                 (&#x27;pipe_kategori&#x27;,\n",
       "                                                  Pipeline(steps=[(&#x27;encoding&#x27;,\n",
       "                                                                   OneHotEncoder(handl...\n",
       "                              feature_types=None, gamma=0.1, grow_policy=None,\n",
       "                              importance_type=None,\n",
       "                              interaction_constraints=None, learning_rate=0.05,\n",
       "                              max_bin=None, max_cat_threshold=None,\n",
       "                              max_cat_to_onehot=None, max_delta_step=None,\n",
       "                              max_depth=7, max_leaves=None, min_child_weight=3,\n",
       "                              missing=nan, monotone_constraints=None,\n",
       "                              multi_strategy=None, n_estimators=200,\n",
       "                              n_jobs=None, num_parallel_tree=None,\n",
       "                              random_state=None, ...))])</pre><b>In a Jupyter environment, please rerun this cell to show the HTML representation or trust the notebook. <br />On GitHub, the HTML representation is unable to render, please try loading this page with nbviewer.org.</b></div><div class=\"sk-container\" hidden><div class=\"sk-item sk-dashed-wrapped\"><div class=\"sk-label-container\"><div class=\"sk-label fitted sk-toggleable\"><input class=\"sk-toggleable__control sk-hidden--visually\" id=\"sk-estimator-id-1\" type=\"checkbox\" ><label for=\"sk-estimator-id-1\" class=\"sk-toggleable__label fitted sk-toggleable__label-arrow\"><div><div>Pipeline</div></div><div><a class=\"sk-estimator-doc-link fitted\" rel=\"noreferrer\" target=\"_blank\" href=\"https://scikit-learn.org/1.6/modules/generated/sklearn.pipeline.Pipeline.html\">?<span>Documentation for Pipeline</span></a><span class=\"sk-estimator-doc-link fitted\">i<span>Fitted</span></span></div></label><div class=\"sk-toggleable__content fitted\"><pre>Pipeline(steps=[(&#x27;preprocessing&#x27;,\n",
       "                 ColumnTransformer(transformers=[(&#x27;pipe_numerik&#x27;,\n",
       "                                                  Pipeline(steps=[(&#x27;capping&#x27;,\n",
       "                                                                   Winsorizer(capping_method=&#x27;iqr&#x27;,\n",
       "                                                                              fold=3,\n",
       "                                                                              tail=&#x27;both&#x27;,\n",
       "                                                                              variables=[&#x27;engine_capacity&#x27;])),\n",
       "                                                                  (&#x27;scaling&#x27;,\n",
       "                                                                   StandardScaler())]),\n",
       "                                                  [&#x27;odometer_value&#x27;,\n",
       "                                                   &#x27;year_produced&#x27;,\n",
       "                                                   &#x27;engine_capacity&#x27;,\n",
       "                                                   &#x27;car_age&#x27;]),\n",
       "                                                 (&#x27;pipe_kategori&#x27;,\n",
       "                                                  Pipeline(steps=[(&#x27;encoding&#x27;,\n",
       "                                                                   OneHotEncoder(handl...\n",
       "                              feature_types=None, gamma=0.1, grow_policy=None,\n",
       "                              importance_type=None,\n",
       "                              interaction_constraints=None, learning_rate=0.05,\n",
       "                              max_bin=None, max_cat_threshold=None,\n",
       "                              max_cat_to_onehot=None, max_delta_step=None,\n",
       "                              max_depth=7, max_leaves=None, min_child_weight=3,\n",
       "                              missing=nan, monotone_constraints=None,\n",
       "                              multi_strategy=None, n_estimators=200,\n",
       "                              n_jobs=None, num_parallel_tree=None,\n",
       "                              random_state=None, ...))])</pre></div> </div></div><div class=\"sk-serial\"><div class=\"sk-item sk-dashed-wrapped\"><div class=\"sk-label-container\"><div class=\"sk-label fitted sk-toggleable\"><input class=\"sk-toggleable__control sk-hidden--visually\" id=\"sk-estimator-id-2\" type=\"checkbox\" ><label for=\"sk-estimator-id-2\" class=\"sk-toggleable__label fitted sk-toggleable__label-arrow\"><div><div>preprocessing: ColumnTransformer</div></div><div><a class=\"sk-estimator-doc-link fitted\" rel=\"noreferrer\" target=\"_blank\" href=\"https://scikit-learn.org/1.6/modules/generated/sklearn.compose.ColumnTransformer.html\">?<span>Documentation for preprocessing: ColumnTransformer</span></a></div></label><div class=\"sk-toggleable__content fitted\"><pre>ColumnTransformer(transformers=[(&#x27;pipe_numerik&#x27;,\n",
       "                                 Pipeline(steps=[(&#x27;capping&#x27;,\n",
       "                                                  Winsorizer(capping_method=&#x27;iqr&#x27;,\n",
       "                                                             fold=3,\n",
       "                                                             tail=&#x27;both&#x27;,\n",
       "                                                             variables=[&#x27;engine_capacity&#x27;])),\n",
       "                                                 (&#x27;scaling&#x27;,\n",
       "                                                  StandardScaler())]),\n",
       "                                 [&#x27;odometer_value&#x27;, &#x27;year_produced&#x27;,\n",
       "                                  &#x27;engine_capacity&#x27;, &#x27;car_age&#x27;]),\n",
       "                                (&#x27;pipe_kategori&#x27;,\n",
       "                                 Pipeline(steps=[(&#x27;encoding&#x27;,\n",
       "                                                  OneHotEncoder(handle_unknown=&#x27;ignore&#x27;))]),\n",
       "                                 [&#x27;transmission&#x27;, &#x27;color&#x27;, &#x27;engine_fuel&#x27;,\n",
       "                                  &#x27;engine_has_gas&#x27;, &#x27;engine_type&#x27;, &#x27;body_type&#x27;,\n",
       "                                  &#x27;has_warranty&#x27;, &#x27;state&#x27;, &#x27;drivetrain&#x27;,\n",
       "                                  &#x27;is_exchangeable&#x27;, &#x27;manufacturer_region&#x27;])])</pre></div> </div></div><div class=\"sk-parallel\"><div class=\"sk-parallel-item\"><div class=\"sk-item\"><div class=\"sk-label-container\"><div class=\"sk-label fitted sk-toggleable\"><input class=\"sk-toggleable__control sk-hidden--visually\" id=\"sk-estimator-id-3\" type=\"checkbox\" ><label for=\"sk-estimator-id-3\" class=\"sk-toggleable__label fitted sk-toggleable__label-arrow\"><div><div>pipe_numerik</div></div></label><div class=\"sk-toggleable__content fitted\"><pre>[&#x27;odometer_value&#x27;, &#x27;year_produced&#x27;, &#x27;engine_capacity&#x27;, &#x27;car_age&#x27;]</pre></div> </div></div><div class=\"sk-serial\"><div class=\"sk-item\"><div class=\"sk-serial\"><div class=\"sk-item\"><div class=\"sk-estimator fitted sk-toggleable\"><input class=\"sk-toggleable__control sk-hidden--visually\" id=\"sk-estimator-id-4\" type=\"checkbox\" ><label for=\"sk-estimator-id-4\" class=\"sk-toggleable__label fitted sk-toggleable__label-arrow\"><div><div>Winsorizer</div></div></label><div class=\"sk-toggleable__content fitted\"><pre>Winsorizer(capping_method=&#x27;iqr&#x27;, fold=3, tail=&#x27;both&#x27;,\n",
       "           variables=[&#x27;engine_capacity&#x27;])</pre></div> </div></div><div class=\"sk-item\"><div class=\"sk-estimator fitted sk-toggleable\"><input class=\"sk-toggleable__control sk-hidden--visually\" id=\"sk-estimator-id-5\" type=\"checkbox\" ><label for=\"sk-estimator-id-5\" class=\"sk-toggleable__label fitted sk-toggleable__label-arrow\"><div><div>StandardScaler</div></div><div><a class=\"sk-estimator-doc-link fitted\" rel=\"noreferrer\" target=\"_blank\" href=\"https://scikit-learn.org/1.6/modules/generated/sklearn.preprocessing.StandardScaler.html\">?<span>Documentation for StandardScaler</span></a></div></label><div class=\"sk-toggleable__content fitted\"><pre>StandardScaler()</pre></div> </div></div></div></div></div></div></div><div class=\"sk-parallel-item\"><div class=\"sk-item\"><div class=\"sk-label-container\"><div class=\"sk-label fitted sk-toggleable\"><input class=\"sk-toggleable__control sk-hidden--visually\" id=\"sk-estimator-id-6\" type=\"checkbox\" ><label for=\"sk-estimator-id-6\" class=\"sk-toggleable__label fitted sk-toggleable__label-arrow\"><div><div>pipe_kategori</div></div></label><div class=\"sk-toggleable__content fitted\"><pre>[&#x27;transmission&#x27;, &#x27;color&#x27;, &#x27;engine_fuel&#x27;, &#x27;engine_has_gas&#x27;, &#x27;engine_type&#x27;, &#x27;body_type&#x27;, &#x27;has_warranty&#x27;, &#x27;state&#x27;, &#x27;drivetrain&#x27;, &#x27;is_exchangeable&#x27;, &#x27;manufacturer_region&#x27;]</pre></div> </div></div><div class=\"sk-serial\"><div class=\"sk-item\"><div class=\"sk-serial\"><div class=\"sk-item\"><div class=\"sk-estimator fitted sk-toggleable\"><input class=\"sk-toggleable__control sk-hidden--visually\" id=\"sk-estimator-id-7\" type=\"checkbox\" ><label for=\"sk-estimator-id-7\" class=\"sk-toggleable__label fitted sk-toggleable__label-arrow\"><div><div>OneHotEncoder</div></div><div><a class=\"sk-estimator-doc-link fitted\" rel=\"noreferrer\" target=\"_blank\" href=\"https://scikit-learn.org/1.6/modules/generated/sklearn.preprocessing.OneHotEncoder.html\">?<span>Documentation for OneHotEncoder</span></a></div></label><div class=\"sk-toggleable__content fitted\"><pre>OneHotEncoder(handle_unknown=&#x27;ignore&#x27;)</pre></div> </div></div></div></div></div></div></div></div></div><div class=\"sk-item\"><div class=\"sk-estimator fitted sk-toggleable\"><input class=\"sk-toggleable__control sk-hidden--visually\" id=\"sk-estimator-id-8\" type=\"checkbox\" ><label for=\"sk-estimator-id-8\" class=\"sk-toggleable__label fitted sk-toggleable__label-arrow\"><div><div>XGBRegressor</div></div></label><div class=\"sk-toggleable__content fitted\"><pre>XGBRegressor(base_score=None, booster=None, callbacks=None,\n",
       "             colsample_bylevel=None, colsample_bynode=None,\n",
       "             colsample_bytree=0.6, device=None, early_stopping_rounds=None,\n",
       "             enable_categorical=False, eval_metric=None, feature_types=None,\n",
       "             gamma=0.1, grow_policy=None, importance_type=None,\n",
       "             interaction_constraints=None, learning_rate=0.05, max_bin=None,\n",
       "             max_cat_threshold=None, max_cat_to_onehot=None,\n",
       "             max_delta_step=None, max_depth=7, max_leaves=None,\n",
       "             min_child_weight=3, missing=nan, monotone_constraints=None,\n",
       "             multi_strategy=None, n_estimators=200, n_jobs=None,\n",
       "             num_parallel_tree=None, random_state=None, ...)</pre></div> </div></div></div></div></div></div>"
      ],
      "text/plain": [
       "Pipeline(steps=[('preprocessing',\n",
       "                 ColumnTransformer(transformers=[('pipe_numerik',\n",
       "                                                  Pipeline(steps=[('capping',\n",
       "                                                                   Winsorizer(capping_method='iqr',\n",
       "                                                                              fold=3,\n",
       "                                                                              tail='both',\n",
       "                                                                              variables=['engine_capacity'])),\n",
       "                                                                  ('scaling',\n",
       "                                                                   StandardScaler())]),\n",
       "                                                  ['odometer_value',\n",
       "                                                   'year_produced',\n",
       "                                                   'engine_capacity',\n",
       "                                                   'car_age']),\n",
       "                                                 ('pipe_kategori',\n",
       "                                                  Pipeline(steps=[('encoding',\n",
       "                                                                   OneHotEncoder(handl...\n",
       "                              feature_types=None, gamma=0.1, grow_policy=None,\n",
       "                              importance_type=None,\n",
       "                              interaction_constraints=None, learning_rate=0.05,\n",
       "                              max_bin=None, max_cat_threshold=None,\n",
       "                              max_cat_to_onehot=None, max_delta_step=None,\n",
       "                              max_depth=7, max_leaves=None, min_child_weight=3,\n",
       "                              missing=nan, monotone_constraints=None,\n",
       "                              multi_strategy=None, n_estimators=200,\n",
       "                              n_jobs=None, num_parallel_tree=None,\n",
       "                              random_state=None, ...))])"
      ]
     },
     "execution_count": 55,
     "metadata": {},
     "output_type": "execute_result"
    }
   ],
   "source": [
    "best_pipe_xgb_r"
   ]
  },
  {
   "cell_type": "code",
   "execution_count": 59,
   "id": "c068e341",
   "metadata": {},
   "outputs": [],
   "source": [
    "def get_feature_names(preprocessor):\n",
    "    feature_names = []\n",
    "\n",
    "    for name, transformer, columns in preprocessor.transformers_:\n",
    "        if transformer == 'drop':\n",
    "            continue\n",
    "        if isinstance(transformer, Pipeline):\n",
    "            transformer = transformer.steps[-1][1]  # last step in sub-pipeline\n",
    "\n",
    "        if hasattr(transformer, 'get_feature_names_out'):\n",
    "            names = transformer.get_feature_names_out(columns)\n",
    "        else:\n",
    "            names = columns  # e.g., scalers don’t change names\n",
    "\n",
    "        feature_names.extend(names)\n",
    "\n",
    "    return feature_names\n",
    "\n",
    "feature_names = get_feature_names(prep)"
   ]
  },
  {
   "cell_type": "code",
   "execution_count": 60,
   "id": "5e797327",
   "metadata": {},
   "outputs": [
    {
     "data": {
      "image/png": "[encoded data removed]",
      "text/plain": [
       "<Figure size 1200x600 with 1 Axes>"
      ]
     },
     "metadata": {},
     "output_type": "display_data"
    }
   ],
   "source": [
    "importances = best_model.feature_importances_\n",
    "\n",
    "feat_imp = pd.Series(importances, index=feature_names).sort_values(ascending=False)\n",
    "\n",
    "# Plot\n",
    "feat_imp.plot(kind='bar', figsize=(12, 6))\n",
    "plt.title('XGBoost Feature Importances')\n",
    "plt.tight_layout()\n",
    "plt.show()"
   ]
  },
  {
   "cell_type": "code",
   "execution_count": 61,
   "id": "c2e8ab7f",
   "metadata": {},
   "outputs": [
    {
     "data": {
      "image/png": "[encoded data removed]",
      "text/plain": [
       "<Figure size 1200x600 with 1 Axes>"
      ]
     },
     "metadata": {},
     "output_type": "display_data"
    }
   ],
   "source": [
    "# Assuming you already have feature importances in feat_imp\n",
    "feat_imp = pd.Series(best_model.feature_importances_, index=feature_names).sort_values(ascending=False)\n",
    "\n",
    "plt.figure(figsize=(12, 6))\n",
    "bars = plt.bar(feat_imp.index, feat_imp.values)\n",
    "\n",
    "# Add value labels on top of each bar\n",
    "for bar in bars:\n",
    "    height = bar.get_height()\n",
    "    plt.text(\n",
    "        bar.get_x() + bar.get_width() / 2,  # x position\n",
    "        height,                            # y position\n",
    "        f'{height:.3f}',                   # text (3 decimal places)\n",
    "        ha='center', va='bottom', fontsize=9\n",
    "    )\n",
    "\n",
    "plt.xticks(rotation=90)  # Rotate x-axis labels for readability\n",
    "plt.title('XGBoost Feature Importances')\n",
    "plt.ylabel('Importance Score')\n",
    "plt.tight_layout()\n",
    "plt.show()"
   ]
  }
 ],
 "metadata": {
  "kernelspec": {
   "display_name": "base",
   "language": "python",
   "name": "python3"
  },
  "language_info": {
   "codemirror_mode": {
    "name": "ipython",
    "version": 3
   },
   "file_extension": ".py",
   "mimetype": "text/x-python",
   "name": "python",
   "nbconvert_exporter": "python",
   "pygments_lexer": "ipython3",
   "version": "3.9.21"
  }
 },
 "nbformat": 4,
 "nbformat_minor": 5
}
